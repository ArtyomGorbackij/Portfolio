{
 "cells": [
  {
   "cell_type": "markdown",
   "metadata": {},
   "source": [
    "# Анализ рынка недвижимости"
   ]
  },
  {
   "cell_type": "markdown",
   "metadata": {},
   "source": [
    "### Importing libs"
   ]
  },
  {
   "cell_type": "code",
   "execution_count": 1,
   "metadata": {},
   "outputs": [],
   "source": [
    "import pandas as pd\n",
    "import numpy as np\n",
    "import matplotlib.pyplot as plt"
   ]
  },
  {
   "cell_type": "markdown",
   "metadata": {},
   "source": [
    "### Откроем файл с данными и изучимобщую информацию. "
   ]
  },
  {
   "cell_type": "code",
   "execution_count": 2,
   "metadata": {},
   "outputs": [],
   "source": [
    "data = pd.read_csv('real_estate_data.csv', sep='\\t')"
   ]
  },
  {
   "cell_type": "code",
   "execution_count": 3,
   "metadata": {},
   "outputs": [
    {
     "name": "stdout",
     "output_type": "stream",
     "text": [
      "<class 'pandas.core.frame.DataFrame'>\n",
      "RangeIndex: 23699 entries, 0 to 23698\n",
      "Data columns (total 22 columns):\n",
      " #   Column                Non-Null Count  Dtype  \n",
      "---  ------                --------------  -----  \n",
      " 0   total_images          23699 non-null  int64  \n",
      " 1   last_price            23699 non-null  float64\n",
      " 2   total_area            23699 non-null  float64\n",
      " 3   first_day_exposition  23699 non-null  object \n",
      " 4   rooms                 23699 non-null  int64  \n",
      " 5   ceiling_height        14504 non-null  float64\n",
      " 6   floors_total          23613 non-null  float64\n",
      " 7   living_area           21796 non-null  float64\n",
      " 8   floor                 23699 non-null  int64  \n",
      " 9   is_apartment          2775 non-null   object \n",
      " 10  studio                23699 non-null  bool   \n",
      " 11  open_plan             23699 non-null  bool   \n",
      " 12  kitchen_area          21421 non-null  float64\n",
      " 13  balcony               12180 non-null  float64\n",
      " 14  locality_name         23650 non-null  object \n",
      " 15  airports_nearest      18157 non-null  float64\n",
      " 16  cityCenters_nearest   18180 non-null  float64\n",
      " 17  parks_around3000      18181 non-null  float64\n",
      " 18  parks_nearest         8079 non-null   float64\n",
      " 19  ponds_around3000      18181 non-null  float64\n",
      " 20  ponds_nearest         9110 non-null   float64\n",
      " 21  days_exposition       20518 non-null  float64\n",
      "dtypes: bool(2), float64(14), int64(3), object(3)\n",
      "memory usage: 3.7+ MB\n"
     ]
    }
   ],
   "source": [
    "data.info()"
   ]
  },
  {
   "cell_type": "code",
   "execution_count": 4,
   "metadata": {
    "scrolled": true
   },
   "outputs": [
    {
     "data": {
      "text/html": [
       "<div>\n",
       "<style scoped>\n",
       "    .dataframe tbody tr th:only-of-type {\n",
       "        vertical-align: middle;\n",
       "    }\n",
       "\n",
       "    .dataframe tbody tr th {\n",
       "        vertical-align: top;\n",
       "    }\n",
       "\n",
       "    .dataframe thead th {\n",
       "        text-align: right;\n",
       "    }\n",
       "</style>\n",
       "<table border=\"1\" class=\"dataframe\">\n",
       "  <thead>\n",
       "    <tr style=\"text-align: right;\">\n",
       "      <th></th>\n",
       "      <th>total_images</th>\n",
       "      <th>last_price</th>\n",
       "      <th>total_area</th>\n",
       "      <th>first_day_exposition</th>\n",
       "      <th>rooms</th>\n",
       "      <th>ceiling_height</th>\n",
       "      <th>floors_total</th>\n",
       "      <th>living_area</th>\n",
       "      <th>floor</th>\n",
       "      <th>is_apartment</th>\n",
       "      <th>studio</th>\n",
       "      <th>open_plan</th>\n",
       "      <th>kitchen_area</th>\n",
       "      <th>balcony</th>\n",
       "      <th>locality_name</th>\n",
       "      <th>airports_nearest</th>\n",
       "      <th>cityCenters_nearest</th>\n",
       "      <th>parks_around3000</th>\n",
       "      <th>parks_nearest</th>\n",
       "      <th>ponds_around3000</th>\n",
       "      <th>ponds_nearest</th>\n",
       "      <th>days_exposition</th>\n",
       "    </tr>\n",
       "  </thead>\n",
       "  <tbody>\n",
       "    <tr>\n",
       "      <th>0</th>\n",
       "      <td>20</td>\n",
       "      <td>13000000.0</td>\n",
       "      <td>108.0</td>\n",
       "      <td>2019-03-07T00:00:00</td>\n",
       "      <td>3</td>\n",
       "      <td>2.70</td>\n",
       "      <td>16.0</td>\n",
       "      <td>51.0</td>\n",
       "      <td>8</td>\n",
       "      <td>NaN</td>\n",
       "      <td>False</td>\n",
       "      <td>False</td>\n",
       "      <td>25.0</td>\n",
       "      <td>NaN</td>\n",
       "      <td>Санкт-Петербург</td>\n",
       "      <td>18863.0</td>\n",
       "      <td>16028.0</td>\n",
       "      <td>1.0</td>\n",
       "      <td>482.0</td>\n",
       "      <td>2.0</td>\n",
       "      <td>755.0</td>\n",
       "      <td>NaN</td>\n",
       "    </tr>\n",
       "    <tr>\n",
       "      <th>1</th>\n",
       "      <td>7</td>\n",
       "      <td>3350000.0</td>\n",
       "      <td>40.4</td>\n",
       "      <td>2018-12-04T00:00:00</td>\n",
       "      <td>1</td>\n",
       "      <td>NaN</td>\n",
       "      <td>11.0</td>\n",
       "      <td>18.6</td>\n",
       "      <td>1</td>\n",
       "      <td>NaN</td>\n",
       "      <td>False</td>\n",
       "      <td>False</td>\n",
       "      <td>11.0</td>\n",
       "      <td>2.0</td>\n",
       "      <td>посёлок Шушары</td>\n",
       "      <td>12817.0</td>\n",
       "      <td>18603.0</td>\n",
       "      <td>0.0</td>\n",
       "      <td>NaN</td>\n",
       "      <td>0.0</td>\n",
       "      <td>NaN</td>\n",
       "      <td>81.0</td>\n",
       "    </tr>\n",
       "    <tr>\n",
       "      <th>2</th>\n",
       "      <td>10</td>\n",
       "      <td>5196000.0</td>\n",
       "      <td>56.0</td>\n",
       "      <td>2015-08-20T00:00:00</td>\n",
       "      <td>2</td>\n",
       "      <td>NaN</td>\n",
       "      <td>5.0</td>\n",
       "      <td>34.3</td>\n",
       "      <td>4</td>\n",
       "      <td>NaN</td>\n",
       "      <td>False</td>\n",
       "      <td>False</td>\n",
       "      <td>8.3</td>\n",
       "      <td>0.0</td>\n",
       "      <td>Санкт-Петербург</td>\n",
       "      <td>21741.0</td>\n",
       "      <td>13933.0</td>\n",
       "      <td>1.0</td>\n",
       "      <td>90.0</td>\n",
       "      <td>2.0</td>\n",
       "      <td>574.0</td>\n",
       "      <td>558.0</td>\n",
       "    </tr>\n",
       "    <tr>\n",
       "      <th>3</th>\n",
       "      <td>0</td>\n",
       "      <td>64900000.0</td>\n",
       "      <td>159.0</td>\n",
       "      <td>2015-07-24T00:00:00</td>\n",
       "      <td>3</td>\n",
       "      <td>NaN</td>\n",
       "      <td>14.0</td>\n",
       "      <td>NaN</td>\n",
       "      <td>9</td>\n",
       "      <td>NaN</td>\n",
       "      <td>False</td>\n",
       "      <td>False</td>\n",
       "      <td>NaN</td>\n",
       "      <td>0.0</td>\n",
       "      <td>Санкт-Петербург</td>\n",
       "      <td>28098.0</td>\n",
       "      <td>6800.0</td>\n",
       "      <td>2.0</td>\n",
       "      <td>84.0</td>\n",
       "      <td>3.0</td>\n",
       "      <td>234.0</td>\n",
       "      <td>424.0</td>\n",
       "    </tr>\n",
       "    <tr>\n",
       "      <th>4</th>\n",
       "      <td>2</td>\n",
       "      <td>10000000.0</td>\n",
       "      <td>100.0</td>\n",
       "      <td>2018-06-19T00:00:00</td>\n",
       "      <td>2</td>\n",
       "      <td>3.03</td>\n",
       "      <td>14.0</td>\n",
       "      <td>32.0</td>\n",
       "      <td>13</td>\n",
       "      <td>NaN</td>\n",
       "      <td>False</td>\n",
       "      <td>False</td>\n",
       "      <td>41.0</td>\n",
       "      <td>NaN</td>\n",
       "      <td>Санкт-Петербург</td>\n",
       "      <td>31856.0</td>\n",
       "      <td>8098.0</td>\n",
       "      <td>2.0</td>\n",
       "      <td>112.0</td>\n",
       "      <td>1.0</td>\n",
       "      <td>48.0</td>\n",
       "      <td>121.0</td>\n",
       "    </tr>\n",
       "  </tbody>\n",
       "</table>\n",
       "</div>"
      ],
      "text/plain": [
       "   total_images  last_price  total_area first_day_exposition  rooms  \\\n",
       "0            20  13000000.0       108.0  2019-03-07T00:00:00      3   \n",
       "1             7   3350000.0        40.4  2018-12-04T00:00:00      1   \n",
       "2            10   5196000.0        56.0  2015-08-20T00:00:00      2   \n",
       "3             0  64900000.0       159.0  2015-07-24T00:00:00      3   \n",
       "4             2  10000000.0       100.0  2018-06-19T00:00:00      2   \n",
       "\n",
       "   ceiling_height  floors_total  living_area  floor is_apartment  studio  \\\n",
       "0            2.70          16.0         51.0      8          NaN   False   \n",
       "1             NaN          11.0         18.6      1          NaN   False   \n",
       "2             NaN           5.0         34.3      4          NaN   False   \n",
       "3             NaN          14.0          NaN      9          NaN   False   \n",
       "4            3.03          14.0         32.0     13          NaN   False   \n",
       "\n",
       "   open_plan  kitchen_area  balcony    locality_name  airports_nearest  \\\n",
       "0      False          25.0      NaN  Санкт-Петербург           18863.0   \n",
       "1      False          11.0      2.0   посёлок Шушары           12817.0   \n",
       "2      False           8.3      0.0  Санкт-Петербург           21741.0   \n",
       "3      False           NaN      0.0  Санкт-Петербург           28098.0   \n",
       "4      False          41.0      NaN  Санкт-Петербург           31856.0   \n",
       "\n",
       "   cityCenters_nearest  parks_around3000  parks_nearest  ponds_around3000  \\\n",
       "0              16028.0               1.0          482.0               2.0   \n",
       "1              18603.0               0.0            NaN               0.0   \n",
       "2              13933.0               1.0           90.0               2.0   \n",
       "3               6800.0               2.0           84.0               3.0   \n",
       "4               8098.0               2.0          112.0               1.0   \n",
       "\n",
       "   ponds_nearest  days_exposition  \n",
       "0          755.0              NaN  \n",
       "1            NaN             81.0  \n",
       "2          574.0            558.0  \n",
       "3          234.0            424.0  \n",
       "4           48.0            121.0  "
      ]
     },
     "execution_count": 4,
     "metadata": {},
     "output_type": "execute_result"
    }
   ],
   "source": [
    "pd.set_option('display.max_columns', 50) \n",
    "data.head(5)"
   ]
  },
  {
   "cell_type": "code",
   "execution_count": 5,
   "metadata": {},
   "outputs": [
    {
     "data": {
      "image/png": "[encoded data removed]",
      "text/plain": [
       "<Figure size 1080x1440 with 20 Axes>"
      ]
     },
     "metadata": {
      "needs_background": "light"
     },
     "output_type": "display_data"
    }
   ],
   "source": [
    "data.hist(figsize=(15, 20))\n",
    "\n",
    "None"
   ]
  },
  {
   "cell_type": "code",
   "execution_count": 6,
   "metadata": {},
   "outputs": [
    {
     "name": "stdout",
     "output_type": "stream",
     "text": [
      "<class 'pandas.core.frame.DataFrame'>\n",
      "RangeIndex: 23699 entries, 0 to 23698\n",
      "Data columns (total 22 columns):\n",
      " #   Column                Non-Null Count  Dtype         \n",
      "---  ------                --------------  -----         \n",
      " 0   total_images          23699 non-null  int64         \n",
      " 1   last_price            23699 non-null  float64       \n",
      " 2   total_area            23699 non-null  float64       \n",
      " 3   first_day_exposition  23699 non-null  datetime64[ns]\n",
      " 4   rooms                 23699 non-null  int64         \n",
      " 5   ceiling_height        14504 non-null  float64       \n",
      " 6   floors_total          23613 non-null  float64       \n",
      " 7   living_area           21796 non-null  float64       \n",
      " 8   floor                 23699 non-null  int64         \n",
      " 9   is_apartment          2775 non-null   object        \n",
      " 10  studio                23699 non-null  bool          \n",
      " 11  open_plan             23699 non-null  bool          \n",
      " 12  kitchen_area          21421 non-null  float64       \n",
      " 13  balcony               12180 non-null  float64       \n",
      " 14  locality_name         23650 non-null  object        \n",
      " 15  airports_nearest      18157 non-null  float64       \n",
      " 16  cityCenters_nearest   18180 non-null  float64       \n",
      " 17  parks_around3000      18181 non-null  float64       \n",
      " 18  parks_nearest         8079 non-null   float64       \n",
      " 19  ponds_around3000      18181 non-null  float64       \n",
      " 20  ponds_nearest         9110 non-null   float64       \n",
      " 21  days_exposition       20518 non-null  float64       \n",
      "dtypes: bool(2), datetime64[ns](1), float64(14), int64(3), object(2)\n",
      "memory usage: 3.7+ MB\n"
     ]
    }
   ],
   "source": [
    "data.first_day_exposition = pd.to_datetime(arg = data.first_day_exposition, format='%Y-%m-%dT%H:%M:%S')\n",
    "data.info()"
   ]
  },
  {
   "cell_type": "code",
   "execution_count": 7,
   "metadata": {},
   "outputs": [
    {
     "data": {
      "text/html": [
       "<div>\n",
       "<style scoped>\n",
       "    .dataframe tbody tr th:only-of-type {\n",
       "        vertical-align: middle;\n",
       "    }\n",
       "\n",
       "    .dataframe tbody tr th {\n",
       "        vertical-align: top;\n",
       "    }\n",
       "\n",
       "    .dataframe thead th {\n",
       "        text-align: right;\n",
       "    }\n",
       "</style>\n",
       "<table border=\"1\" class=\"dataframe\">\n",
       "  <thead>\n",
       "    <tr style=\"text-align: right;\">\n",
       "      <th></th>\n",
       "      <th>total_images</th>\n",
       "      <th>last_price</th>\n",
       "      <th>total_area</th>\n",
       "      <th>rooms</th>\n",
       "      <th>ceiling_height</th>\n",
       "      <th>floors_total</th>\n",
       "      <th>living_area</th>\n",
       "      <th>floor</th>\n",
       "      <th>kitchen_area</th>\n",
       "      <th>balcony</th>\n",
       "      <th>airports_nearest</th>\n",
       "      <th>cityCenters_nearest</th>\n",
       "      <th>parks_around3000</th>\n",
       "      <th>parks_nearest</th>\n",
       "      <th>ponds_around3000</th>\n",
       "      <th>ponds_nearest</th>\n",
       "      <th>days_exposition</th>\n",
       "    </tr>\n",
       "  </thead>\n",
       "  <tbody>\n",
       "    <tr>\n",
       "      <th>count</th>\n",
       "      <td>23699.000000</td>\n",
       "      <td>2.369900e+04</td>\n",
       "      <td>23699.000000</td>\n",
       "      <td>23699.000000</td>\n",
       "      <td>14504.000000</td>\n",
       "      <td>23613.000000</td>\n",
       "      <td>21796.000000</td>\n",
       "      <td>23699.000000</td>\n",
       "      <td>21421.000000</td>\n",
       "      <td>12180.000000</td>\n",
       "      <td>18157.000000</td>\n",
       "      <td>18180.000000</td>\n",
       "      <td>18181.000000</td>\n",
       "      <td>8079.000000</td>\n",
       "      <td>18181.000000</td>\n",
       "      <td>9110.000000</td>\n",
       "      <td>20518.000000</td>\n",
       "    </tr>\n",
       "    <tr>\n",
       "      <th>mean</th>\n",
       "      <td>9.858475</td>\n",
       "      <td>6.541549e+06</td>\n",
       "      <td>60.348651</td>\n",
       "      <td>2.070636</td>\n",
       "      <td>2.771499</td>\n",
       "      <td>10.673824</td>\n",
       "      <td>34.457852</td>\n",
       "      <td>5.892358</td>\n",
       "      <td>10.569807</td>\n",
       "      <td>1.150082</td>\n",
       "      <td>28793.672193</td>\n",
       "      <td>14191.277833</td>\n",
       "      <td>0.611408</td>\n",
       "      <td>490.804555</td>\n",
       "      <td>0.770255</td>\n",
       "      <td>517.980900</td>\n",
       "      <td>180.888634</td>\n",
       "    </tr>\n",
       "    <tr>\n",
       "      <th>std</th>\n",
       "      <td>5.682529</td>\n",
       "      <td>1.088701e+07</td>\n",
       "      <td>35.654083</td>\n",
       "      <td>1.078405</td>\n",
       "      <td>1.261056</td>\n",
       "      <td>6.597173</td>\n",
       "      <td>22.030445</td>\n",
       "      <td>4.885249</td>\n",
       "      <td>5.905438</td>\n",
       "      <td>1.071300</td>\n",
       "      <td>12630.880622</td>\n",
       "      <td>8608.386210</td>\n",
       "      <td>0.802074</td>\n",
       "      <td>342.317995</td>\n",
       "      <td>0.938346</td>\n",
       "      <td>277.720643</td>\n",
       "      <td>219.727988</td>\n",
       "    </tr>\n",
       "    <tr>\n",
       "      <th>min</th>\n",
       "      <td>0.000000</td>\n",
       "      <td>1.219000e+04</td>\n",
       "      <td>12.000000</td>\n",
       "      <td>0.000000</td>\n",
       "      <td>1.000000</td>\n",
       "      <td>1.000000</td>\n",
       "      <td>2.000000</td>\n",
       "      <td>1.000000</td>\n",
       "      <td>1.300000</td>\n",
       "      <td>0.000000</td>\n",
       "      <td>0.000000</td>\n",
       "      <td>181.000000</td>\n",
       "      <td>0.000000</td>\n",
       "      <td>1.000000</td>\n",
       "      <td>0.000000</td>\n",
       "      <td>13.000000</td>\n",
       "      <td>1.000000</td>\n",
       "    </tr>\n",
       "    <tr>\n",
       "      <th>25%</th>\n",
       "      <td>6.000000</td>\n",
       "      <td>3.400000e+06</td>\n",
       "      <td>40.000000</td>\n",
       "      <td>1.000000</td>\n",
       "      <td>2.520000</td>\n",
       "      <td>5.000000</td>\n",
       "      <td>18.600000</td>\n",
       "      <td>2.000000</td>\n",
       "      <td>7.000000</td>\n",
       "      <td>0.000000</td>\n",
       "      <td>18585.000000</td>\n",
       "      <td>9238.000000</td>\n",
       "      <td>0.000000</td>\n",
       "      <td>288.000000</td>\n",
       "      <td>0.000000</td>\n",
       "      <td>294.000000</td>\n",
       "      <td>45.000000</td>\n",
       "    </tr>\n",
       "    <tr>\n",
       "      <th>50%</th>\n",
       "      <td>9.000000</td>\n",
       "      <td>4.650000e+06</td>\n",
       "      <td>52.000000</td>\n",
       "      <td>2.000000</td>\n",
       "      <td>2.650000</td>\n",
       "      <td>9.000000</td>\n",
       "      <td>30.000000</td>\n",
       "      <td>4.000000</td>\n",
       "      <td>9.100000</td>\n",
       "      <td>1.000000</td>\n",
       "      <td>26726.000000</td>\n",
       "      <td>13098.500000</td>\n",
       "      <td>0.000000</td>\n",
       "      <td>455.000000</td>\n",
       "      <td>1.000000</td>\n",
       "      <td>502.000000</td>\n",
       "      <td>95.000000</td>\n",
       "    </tr>\n",
       "    <tr>\n",
       "      <th>75%</th>\n",
       "      <td>14.000000</td>\n",
       "      <td>6.800000e+06</td>\n",
       "      <td>69.900000</td>\n",
       "      <td>3.000000</td>\n",
       "      <td>2.800000</td>\n",
       "      <td>16.000000</td>\n",
       "      <td>42.300000</td>\n",
       "      <td>8.000000</td>\n",
       "      <td>12.000000</td>\n",
       "      <td>2.000000</td>\n",
       "      <td>37273.000000</td>\n",
       "      <td>16293.000000</td>\n",
       "      <td>1.000000</td>\n",
       "      <td>612.000000</td>\n",
       "      <td>1.000000</td>\n",
       "      <td>729.000000</td>\n",
       "      <td>232.000000</td>\n",
       "    </tr>\n",
       "    <tr>\n",
       "      <th>max</th>\n",
       "      <td>50.000000</td>\n",
       "      <td>7.630000e+08</td>\n",
       "      <td>900.000000</td>\n",
       "      <td>19.000000</td>\n",
       "      <td>100.000000</td>\n",
       "      <td>60.000000</td>\n",
       "      <td>409.700000</td>\n",
       "      <td>33.000000</td>\n",
       "      <td>112.000000</td>\n",
       "      <td>5.000000</td>\n",
       "      <td>84869.000000</td>\n",
       "      <td>65968.000000</td>\n",
       "      <td>3.000000</td>\n",
       "      <td>3190.000000</td>\n",
       "      <td>3.000000</td>\n",
       "      <td>1344.000000</td>\n",
       "      <td>1580.000000</td>\n",
       "    </tr>\n",
       "  </tbody>\n",
       "</table>\n",
       "</div>"
      ],
      "text/plain": [
       "       total_images    last_price    total_area         rooms  ceiling_height  \\\n",
       "count  23699.000000  2.369900e+04  23699.000000  23699.000000    14504.000000   \n",
       "mean       9.858475  6.541549e+06     60.348651      2.070636        2.771499   \n",
       "std        5.682529  1.088701e+07     35.654083      1.078405        1.261056   \n",
       "min        0.000000  1.219000e+04     12.000000      0.000000        1.000000   \n",
       "25%        6.000000  3.400000e+06     40.000000      1.000000        2.520000   \n",
       "50%        9.000000  4.650000e+06     52.000000      2.000000        2.650000   \n",
       "75%       14.000000  6.800000e+06     69.900000      3.000000        2.800000   \n",
       "max       50.000000  7.630000e+08    900.000000     19.000000      100.000000   \n",
       "\n",
       "       floors_total   living_area         floor  kitchen_area       balcony  \\\n",
       "count  23613.000000  21796.000000  23699.000000  21421.000000  12180.000000   \n",
       "mean      10.673824     34.457852      5.892358     10.569807      1.150082   \n",
       "std        6.597173     22.030445      4.885249      5.905438      1.071300   \n",
       "min        1.000000      2.000000      1.000000      1.300000      0.000000   \n",
       "25%        5.000000     18.600000      2.000000      7.000000      0.000000   \n",
       "50%        9.000000     30.000000      4.000000      9.100000      1.000000   \n",
       "75%       16.000000     42.300000      8.000000     12.000000      2.000000   \n",
       "max       60.000000    409.700000     33.000000    112.000000      5.000000   \n",
       "\n",
       "       airports_nearest  cityCenters_nearest  parks_around3000  parks_nearest  \\\n",
       "count      18157.000000         18180.000000      18181.000000    8079.000000   \n",
       "mean       28793.672193         14191.277833          0.611408     490.804555   \n",
       "std        12630.880622          8608.386210          0.802074     342.317995   \n",
       "min            0.000000           181.000000          0.000000       1.000000   \n",
       "25%        18585.000000          9238.000000          0.000000     288.000000   \n",
       "50%        26726.000000         13098.500000          0.000000     455.000000   \n",
       "75%        37273.000000         16293.000000          1.000000     612.000000   \n",
       "max        84869.000000         65968.000000          3.000000    3190.000000   \n",
       "\n",
       "       ponds_around3000  ponds_nearest  days_exposition  \n",
       "count      18181.000000    9110.000000     20518.000000  \n",
       "mean           0.770255     517.980900       180.888634  \n",
       "std            0.938346     277.720643       219.727988  \n",
       "min            0.000000      13.000000         1.000000  \n",
       "25%            0.000000     294.000000        45.000000  \n",
       "50%            1.000000     502.000000        95.000000  \n",
       "75%            1.000000     729.000000       232.000000  \n",
       "max            3.000000    1344.000000      1580.000000  "
      ]
     },
     "execution_count": 7,
     "metadata": {},
     "output_type": "execute_result"
    }
   ],
   "source": [
    "data.describe()"
   ]
  },
  {
   "cell_type": "markdown",
   "metadata": {},
   "source": [
    "### Предобработка данных"
   ]
  },
  {
   "cell_type": "code",
   "execution_count": 8,
   "metadata": {},
   "outputs": [],
   "source": [
    "data.last_price = data.last_price.astype(int)\n",
    "data.is_apartment = data.is_apartment.astype(bool)"
   ]
  },
  {
   "cell_type": "markdown",
   "metadata": {},
   "source": [
    "Продается комната на третьем этаже аэропорта, в котором 9 этажей?"
   ]
  },
  {
   "cell_type": "code",
   "execution_count": 9,
   "metadata": {
    "scrolled": true
   },
   "outputs": [
    {
     "data": {
      "text/html": [
       "<div>\n",
       "<style scoped>\n",
       "    .dataframe tbody tr th:only-of-type {\n",
       "        vertical-align: middle;\n",
       "    }\n",
       "\n",
       "    .dataframe tbody tr th {\n",
       "        vertical-align: top;\n",
       "    }\n",
       "\n",
       "    .dataframe thead th {\n",
       "        text-align: right;\n",
       "    }\n",
       "</style>\n",
       "<table border=\"1\" class=\"dataframe\">\n",
       "  <thead>\n",
       "    <tr style=\"text-align: right;\">\n",
       "      <th></th>\n",
       "      <th>total_images</th>\n",
       "      <th>last_price</th>\n",
       "      <th>total_area</th>\n",
       "      <th>first_day_exposition</th>\n",
       "      <th>rooms</th>\n",
       "      <th>ceiling_height</th>\n",
       "      <th>floors_total</th>\n",
       "      <th>living_area</th>\n",
       "      <th>floor</th>\n",
       "      <th>is_apartment</th>\n",
       "      <th>studio</th>\n",
       "      <th>open_plan</th>\n",
       "      <th>kitchen_area</th>\n",
       "      <th>balcony</th>\n",
       "      <th>locality_name</th>\n",
       "      <th>airports_nearest</th>\n",
       "      <th>cityCenters_nearest</th>\n",
       "      <th>parks_around3000</th>\n",
       "      <th>parks_nearest</th>\n",
       "      <th>ponds_around3000</th>\n",
       "      <th>ponds_nearest</th>\n",
       "      <th>days_exposition</th>\n",
       "    </tr>\n",
       "  </thead>\n",
       "  <tbody>\n",
       "    <tr>\n",
       "      <th>21085</th>\n",
       "      <td>0</td>\n",
       "      <td>7000000</td>\n",
       "      <td>34.7</td>\n",
       "      <td>2018-09-23</td>\n",
       "      <td>1</td>\n",
       "      <td>2.7</td>\n",
       "      <td>9.0</td>\n",
       "      <td>19.8</td>\n",
       "      <td>3</td>\n",
       "      <td>True</td>\n",
       "      <td>False</td>\n",
       "      <td>False</td>\n",
       "      <td>6.0</td>\n",
       "      <td>2.0</td>\n",
       "      <td>Санкт-Петербург</td>\n",
       "      <td>0.0</td>\n",
       "      <td>22801.0</td>\n",
       "      <td>0.0</td>\n",
       "      <td>NaN</td>\n",
       "      <td>0.0</td>\n",
       "      <td>NaN</td>\n",
       "      <td>60.0</td>\n",
       "    </tr>\n",
       "  </tbody>\n",
       "</table>\n",
       "</div>"
      ],
      "text/plain": [
       "       total_images  last_price  total_area first_day_exposition  rooms  \\\n",
       "21085             0     7000000        34.7           2018-09-23      1   \n",
       "\n",
       "       ceiling_height  floors_total  living_area  floor  is_apartment  studio  \\\n",
       "21085             2.7           9.0         19.8      3          True   False   \n",
       "\n",
       "       open_plan  kitchen_area  balcony    locality_name  airports_nearest  \\\n",
       "21085      False           6.0      2.0  Санкт-Петербург               0.0   \n",
       "\n",
       "       cityCenters_nearest  parks_around3000  parks_nearest  ponds_around3000  \\\n",
       "21085              22801.0               0.0            NaN               0.0   \n",
       "\n",
       "       ponds_nearest  days_exposition  \n",
       "21085            NaN             60.0  "
      ]
     },
     "execution_count": 9,
     "metadata": {},
     "output_type": "execute_result"
    }
   ],
   "source": [
    "data.query('airports_nearest == 0')"
   ]
  },
  {
   "cell_type": "code",
   "execution_count": 10,
   "metadata": {
    "scrolled": false
   },
   "outputs": [
    {
     "data": {
      "text/plain": [
       "total_images                0\n",
       "last_price                  0\n",
       "total_area                  0\n",
       "first_day_exposition        0\n",
       "rooms                       0\n",
       "ceiling_height           9195\n",
       "floors_total               86\n",
       "living_area              1903\n",
       "floor                       0\n",
       "is_apartment                0\n",
       "studio                      0\n",
       "open_plan                   0\n",
       "kitchen_area             2278\n",
       "balcony                 11519\n",
       "locality_name              49\n",
       "airports_nearest         5542\n",
       "cityCenters_nearest      5519\n",
       "parks_around3000         5518\n",
       "parks_nearest           15620\n",
       "ponds_around3000         5518\n",
       "ponds_nearest           14589\n",
       "days_exposition          3181\n",
       "dtype: int64"
      ]
     },
     "execution_count": 10,
     "metadata": {},
     "output_type": "execute_result"
    }
   ],
   "source": [
    "data.isna().sum()\n"
   ]
  },
  {
   "cell_type": "code",
   "execution_count": 11,
   "metadata": {
    "scrolled": false
   },
   "outputs": [
    {
     "data": {
      "text/plain": [
       "array(['городской посёлок Янино-1', 'посёлок Мурино', 'Сертолово',\n",
       "       'деревня Кудрово', 'Коммунар',\n",
       "       'поселок городского типа Красный Бор', 'Гатчина', 'поселок Мурино',\n",
       "       'деревня Фёдоровское', 'Выборг', 'Кировск',\n",
       "       'деревня Новое Девяткино', 'Санкт-Петербург',\n",
       "       'посёлок городского типа Лебяжье',\n",
       "       'посёлок городского типа Сиверский', 'поселок Молодцово',\n",
       "       'поселок городского типа Кузьмоловский',\n",
       "       'садовое товарищество Новая Ропша', 'деревня Пикколово',\n",
       "       'Всеволожск', 'Волхов', 'Кингисепп', 'Приозерск',\n",
       "       'деревня Куттузи', 'посёлок Аннино',\n",
       "       'поселок городского типа Ефимовский', 'посёлок Плодовое',\n",
       "       'деревня Заклинье', 'поселок Торковичи', 'поселок Первомайское',\n",
       "       'Сясьстрой', 'деревня Старая', 'деревня Лесколово',\n",
       "       'посёлок Новый Свет', 'Сланцы', 'село Путилово', 'Ивангород',\n",
       "       'Мурино', 'Шлиссельбург', 'Никольское', 'Сосновый Бор',\n",
       "       'поселок Новый Свет', 'деревня Оржицы', 'деревня Кальтино',\n",
       "       'Кудрово', 'поселок Романовка', 'посёлок Бугры', 'поселок Бугры',\n",
       "       'поселок городского типа Рощино', 'Кириши', 'Луга', 'Волосово',\n",
       "       'Отрадное', 'село Павлово', 'поселок Оредеж', 'село Копорье',\n",
       "       'посёлок городского типа Красный Бор', 'Тихвин', 'посёлок Победа',\n",
       "       'деревня Нурма', 'поселок городского типа Синявино',\n",
       "       'посёлок Шушары', 'Тосно', 'посёлок городского типа Кузьмоловский',\n",
       "       'Бокситогорск', 'деревня Лопухинка', 'Пикалёво',\n",
       "       'поселок Терволово', 'поселок городского типа Советский',\n",
       "       'Подпорожье', 'посёлок Петровское',\n",
       "       'посёлок городского типа Токсово', 'поселок Сельцо',\n",
       "       'посёлок городского типа Вырица', 'деревня Кипень',\n",
       "       'деревня Келози', 'деревня Вартемяги', 'посёлок Тельмана',\n",
       "       'поселок Севастьяново', 'городской поселок Большая Ижора',\n",
       "       'городской посёлок Павлово', 'деревня Агалатово',\n",
       "       'посёлок Новогорелово', 'городской посёлок Лесогорский',\n",
       "       'деревня Лаголово', 'поселок Цвелодубово',\n",
       "       'поселок городского типа Рахья', 'поселок городского типа Вырица',\n",
       "       'деревня Белогорка', 'поселок Заводской',\n",
       "       'городской посёлок Новоселье', 'деревня Большие Колпаны',\n",
       "       'деревня Горбунки', 'деревня Батово', 'деревня Заневка',\n",
       "       'деревня Иссад', 'Приморск', 'городской посёлок Фёдоровское',\n",
       "       'деревня Мистолово', 'Новая Ладога', 'поселок Зимитицы',\n",
       "       'поселок Барышево', 'деревня Разметелево',\n",
       "       'поселок городского типа имени Свердлова', 'деревня Пеники',\n",
       "       'поселок Рябово', 'деревня Пудомяги', 'поселок станции Корнево',\n",
       "       'деревня Низино', 'деревня Бегуницы', 'посёлок Поляны',\n",
       "       'городской посёлок Мга', 'поселок Елизаветино',\n",
       "       'посёлок городского типа Кузнечное', 'деревня Колтуши',\n",
       "       'поселок Запорожское', 'посёлок городского типа Рощино',\n",
       "       'деревня Гостилицы', 'деревня Малое Карлино',\n",
       "       'посёлок Мичуринское', 'посёлок городского типа имени Морозова',\n",
       "       'посёлок Сосново', 'деревня Аро', 'поселок Ильичёво',\n",
       "       'посёлок городского типа Тайцы', 'деревня Малое Верево',\n",
       "       'деревня Извара', 'поселок станции Вещево', 'село Паша',\n",
       "       'деревня Калитино', nan, 'посёлок городского типа Ульяновка',\n",
       "       'деревня Чудской Бор', 'поселок городского типа Дубровка',\n",
       "       'деревня Мины', 'поселок Войсковицы',\n",
       "       'посёлок городского типа имени Свердлова', 'деревня Коркино',\n",
       "       'посёлок Ропша', 'поселок городского типа Приладожский',\n",
       "       'посёлок Щеглово', 'посёлок Гаврилово', 'Лодейное Поле',\n",
       "       'деревня Рабитицы', 'поселок городского типа Никольский',\n",
       "       'деревня Кузьмолово', 'деревня Малые Колпаны', 'поселок Тельмана',\n",
       "       'городской посёлок Назия', 'посёлок Ильичёво', 'поселок Углово',\n",
       "       'поселок Старая Малукса', 'садовое товарищество Рахья',\n",
       "       'поселок Аннино', 'поселок Победа', 'деревня Меньково',\n",
       "       'деревня Старые Бегуницы', 'поселок Семрино', 'поселок Гаврилово',\n",
       "       'поселок Глажево', 'поселок Кобринское', 'деревня Гарболово',\n",
       "       'деревня Юкки', 'поселок станции Приветнинское',\n",
       "       'деревня Мануйлово', 'деревня Пчева', 'поселок Поляны',\n",
       "       'поселок Цвылёво', 'поселок Мельниково', 'посёлок Пудость',\n",
       "       'посёлок Усть-Луга', 'Светогорск', 'Любань', 'поселок Селезнёво',\n",
       "       'поселок городского типа Рябово', 'Каменногорск', 'деревня Кривко',\n",
       "       'поселок Глебычево', 'деревня Парицы', 'поселок Жилпосёлок',\n",
       "       'посёлок городского типа Мга', 'городской поселок Янино-1',\n",
       "       'посёлок Войскорово', 'село Никольское', 'посёлок Терволово',\n",
       "       'поселок Стеклянный', 'посёлок городского типа Важины',\n",
       "       'посёлок Мыза-Ивановка', 'село Русско-Высоцкое',\n",
       "       'поселок городского типа Лебяжье',\n",
       "       'поселок городского типа Форносово', 'Красное Село',\n",
       "       'село Старая Ладога', 'поселок Житково',\n",
       "       'городской посёлок Виллози', 'деревня Лампово',\n",
       "       'деревня Шпаньково', 'деревня Лаврики', 'посёлок Сумино',\n",
       "       'посёлок Возрождение', 'деревня Старосиверская',\n",
       "       'посёлок Кикерино', 'поселок Возрождение',\n",
       "       'деревня Старое Хинколово', 'посёлок Пригородный',\n",
       "       'посёлок Торфяное', 'городской посёлок Будогощь',\n",
       "       'поселок Суходолье', 'поселок Красная Долина', 'деревня Хапо-Ое',\n",
       "       'поселок городского типа Дружная Горка', 'деревня Яльгелево',\n",
       "       'посёлок Стеклянный', 'село Рождествено', 'деревня Старополье',\n",
       "       'деревня Сяськелево', 'деревня Камышовка',\n",
       "       'садоводческое некоммерческое товарищество Лесная Поляна',\n",
       "       'деревня Хязельки', 'поселок Жилгородок',\n",
       "       'посёлок городского типа Павлово', 'деревня Ялгино', 'Ломоносов',\n",
       "       'поселок Новый Учхоз', 'городской посёлок Рощино',\n",
       "       'поселок Гончарово', 'поселок Почап', 'посёлок Сапёрное',\n",
       "       'посёлок Платформа 69-й километр', 'поселок Каложицы',\n",
       "       'деревня Фалилеево', 'деревня Пельгора',\n",
       "       'поселок городского типа Лесогорский', 'деревня Торошковичи',\n",
       "       'посёлок Алексеевка', 'поселок Серебрянский', 'поселок Лукаши',\n",
       "       'поселок Петровское', 'деревня Щеглово', 'Кронштадт',\n",
       "       'поселок Мичуринское', 'деревня Тарасово', 'поселок Кингисеппский',\n",
       "       'посёлок при железнодорожной станции Вещево', 'поселок Ушаки',\n",
       "       'деревня Котлы', 'деревня Сижно', 'деревня Торосово',\n",
       "       'посёлок Форт Красная Горка', 'поселок городского типа Токсово',\n",
       "       'деревня Новолисино', 'посёлок станции Громово', 'деревня Глинка',\n",
       "       'посёлок Мельниково', 'поселок городского типа Назия',\n",
       "       'деревня Старая Пустошь', 'поселок Коммунары', 'поселок Починок',\n",
       "       'посёлок городского типа Вознесенье', 'деревня Разбегаево',\n",
       "       'посёлок городского типа Рябово', 'поселок Гладкое',\n",
       "       'посёлок при железнодорожной станции Приветнинское',\n",
       "       'поселок Тёсово-4', 'посёлок Жилгородок', 'деревня Бор',\n",
       "       'посёлок Коробицыно', 'деревня Большая Вруда', 'деревня Курковицы',\n",
       "       'городской посёлок Советский', 'посёлок Кобралово',\n",
       "       'деревня Суоранда', 'поселок Кобралово',\n",
       "       'поселок городского типа Кондратьево',\n",
       "       'коттеджный поселок Счастье', 'поселок Любань', 'деревня Реброво',\n",
       "       'деревня Зимитицы', 'деревня Тойворово', 'поселок Семиозерье',\n",
       "       'поселок Лесное', 'поселок Совхозный', 'поселок Усть-Луга',\n",
       "       'посёлок Ленинское', 'посёлок Суйда',\n",
       "       'посёлок городского типа Форносово', 'деревня Нижние Осельки',\n",
       "       'посёлок станции Свирь', 'поселок Перово', 'Высоцк',\n",
       "       'поселок Гарболово', 'село Шум', 'поселок Котельский',\n",
       "       'поселок станции Лужайка', 'деревня Большая Пустомержа',\n",
       "       'поселок Красносельское', 'деревня Вахнова Кара', 'деревня Пижма',\n",
       "       'коттеджный поселок Кивеннапа Север', 'поселок Коробицыно',\n",
       "       'поселок Ромашки', 'посёлок Перово', 'деревня Каськово',\n",
       "       'деревня Куровицы', 'посёлок Плоское', 'поселок Сумино',\n",
       "       'поселок городского типа Большая Ижора', 'поселок Кирпичное',\n",
       "       'деревня Ям-Тесово', 'деревня Раздолье', 'деревня Терпилицы',\n",
       "       'посёлок Шугозеро', 'деревня Ваганово', 'поселок Пушное',\n",
       "       'садовое товарищество Садко', 'деревня Выскатка',\n",
       "       'городской посёлок Свирьстрой', 'поселок Громово',\n",
       "       'деревня Кисельня', 'посёлок Старая Малукса',\n",
       "       'деревня Трубников Бор', 'поселок Калитино',\n",
       "       'посёлок Высокоключевой', 'садовое товарищество Приладожский',\n",
       "       'посёлок Пансионат Зелёный Бор', 'деревня Ненимяки',\n",
       "       'поселок Пансионат Зелёный Бор', 'деревня Снегирёвка',\n",
       "       'деревня Рапполово', 'деревня Пустынка', 'Колпино',\n",
       "       'поселок Рабитицы', 'деревня Большой Сабск', 'деревня Русско',\n",
       "       'деревня Лупполово', 'деревня Большое Рейзино',\n",
       "       'деревня Малая Романовка', 'поселок Дружноселье', 'поселок Пчевжа',\n",
       "       'поселок Володарское', 'деревня Нижняя',\n",
       "       'коттеджный посёлок Лесное', 'деревня Тихковицы',\n",
       "       'деревня Борисова Грива', 'посёлок Дзержинского'], dtype=object)"
      ]
     },
     "execution_count": 11,
     "metadata": {},
     "output_type": "execute_result"
    }
   ],
   "source": [
    "data.loc[data.ponds_around3000.isna()]['locality_name'].unique()"
   ]
  },
  {
   "cell_type": "markdown",
   "metadata": {},
   "source": [
    "Изучив примеры пропусков картографических данных - видно, что около данные о 5518 являются пропущенными, по той причине, что объекты находятся в деревнях, и посёлках, всвязи с чем - данные вычеслены быть не могут."
   ]
  },
  {
   "cell_type": "code",
   "execution_count": 12,
   "metadata": {},
   "outputs": [
    {
     "data": {
      "text/html": [
       "<div>\n",
       "<style scoped>\n",
       "    .dataframe tbody tr th:only-of-type {\n",
       "        vertical-align: middle;\n",
       "    }\n",
       "\n",
       "    .dataframe tbody tr th {\n",
       "        vertical-align: top;\n",
       "    }\n",
       "\n",
       "    .dataframe thead th {\n",
       "        text-align: right;\n",
       "    }\n",
       "</style>\n",
       "<table border=\"1\" class=\"dataframe\">\n",
       "  <thead>\n",
       "    <tr style=\"text-align: right;\">\n",
       "      <th></th>\n",
       "      <th>total_images</th>\n",
       "      <th>last_price</th>\n",
       "      <th>total_area</th>\n",
       "      <th>first_day_exposition</th>\n",
       "      <th>rooms</th>\n",
       "      <th>ceiling_height</th>\n",
       "      <th>floors_total</th>\n",
       "      <th>living_area</th>\n",
       "      <th>floor</th>\n",
       "      <th>is_apartment</th>\n",
       "      <th>studio</th>\n",
       "      <th>open_plan</th>\n",
       "      <th>kitchen_area</th>\n",
       "      <th>balcony</th>\n",
       "      <th>locality_name</th>\n",
       "      <th>airports_nearest</th>\n",
       "      <th>cityCenters_nearest</th>\n",
       "      <th>parks_around3000</th>\n",
       "      <th>parks_nearest</th>\n",
       "      <th>ponds_around3000</th>\n",
       "      <th>ponds_nearest</th>\n",
       "      <th>days_exposition</th>\n",
       "    </tr>\n",
       "  </thead>\n",
       "  <tbody>\n",
       "    <tr>\n",
       "      <th>0</th>\n",
       "      <td>20</td>\n",
       "      <td>13000000</td>\n",
       "      <td>108.0</td>\n",
       "      <td>2019-03-07</td>\n",
       "      <td>3</td>\n",
       "      <td>2.70</td>\n",
       "      <td>16.0</td>\n",
       "      <td>51.0</td>\n",
       "      <td>8</td>\n",
       "      <td>True</td>\n",
       "      <td>False</td>\n",
       "      <td>False</td>\n",
       "      <td>25.0</td>\n",
       "      <td>NaN</td>\n",
       "      <td>Санкт-Петербург</td>\n",
       "      <td>18863.0</td>\n",
       "      <td>16028.0</td>\n",
       "      <td>1.0</td>\n",
       "      <td>482.0</td>\n",
       "      <td>2.0</td>\n",
       "      <td>755.0</td>\n",
       "      <td>NaN</td>\n",
       "    </tr>\n",
       "    <tr>\n",
       "      <th>1</th>\n",
       "      <td>7</td>\n",
       "      <td>3350000</td>\n",
       "      <td>40.4</td>\n",
       "      <td>2018-12-04</td>\n",
       "      <td>1</td>\n",
       "      <td>NaN</td>\n",
       "      <td>11.0</td>\n",
       "      <td>18.6</td>\n",
       "      <td>1</td>\n",
       "      <td>True</td>\n",
       "      <td>False</td>\n",
       "      <td>False</td>\n",
       "      <td>11.0</td>\n",
       "      <td>2.0</td>\n",
       "      <td>посёлок Шушары</td>\n",
       "      <td>12817.0</td>\n",
       "      <td>18603.0</td>\n",
       "      <td>0.0</td>\n",
       "      <td>NaN</td>\n",
       "      <td>0.0</td>\n",
       "      <td>NaN</td>\n",
       "      <td>81.0</td>\n",
       "    </tr>\n",
       "    <tr>\n",
       "      <th>2</th>\n",
       "      <td>10</td>\n",
       "      <td>5196000</td>\n",
       "      <td>56.0</td>\n",
       "      <td>2015-08-20</td>\n",
       "      <td>2</td>\n",
       "      <td>NaN</td>\n",
       "      <td>5.0</td>\n",
       "      <td>34.3</td>\n",
       "      <td>4</td>\n",
       "      <td>True</td>\n",
       "      <td>False</td>\n",
       "      <td>False</td>\n",
       "      <td>8.3</td>\n",
       "      <td>0.0</td>\n",
       "      <td>Санкт-Петербург</td>\n",
       "      <td>21741.0</td>\n",
       "      <td>13933.0</td>\n",
       "      <td>1.0</td>\n",
       "      <td>90.0</td>\n",
       "      <td>2.0</td>\n",
       "      <td>574.0</td>\n",
       "      <td>558.0</td>\n",
       "    </tr>\n",
       "    <tr>\n",
       "      <th>3</th>\n",
       "      <td>0</td>\n",
       "      <td>64900000</td>\n",
       "      <td>159.0</td>\n",
       "      <td>2015-07-24</td>\n",
       "      <td>3</td>\n",
       "      <td>NaN</td>\n",
       "      <td>14.0</td>\n",
       "      <td>NaN</td>\n",
       "      <td>9</td>\n",
       "      <td>True</td>\n",
       "      <td>False</td>\n",
       "      <td>False</td>\n",
       "      <td>NaN</td>\n",
       "      <td>0.0</td>\n",
       "      <td>Санкт-Петербург</td>\n",
       "      <td>28098.0</td>\n",
       "      <td>6800.0</td>\n",
       "      <td>2.0</td>\n",
       "      <td>84.0</td>\n",
       "      <td>3.0</td>\n",
       "      <td>234.0</td>\n",
       "      <td>424.0</td>\n",
       "    </tr>\n",
       "    <tr>\n",
       "      <th>4</th>\n",
       "      <td>2</td>\n",
       "      <td>10000000</td>\n",
       "      <td>100.0</td>\n",
       "      <td>2018-06-19</td>\n",
       "      <td>2</td>\n",
       "      <td>3.03</td>\n",
       "      <td>14.0</td>\n",
       "      <td>32.0</td>\n",
       "      <td>13</td>\n",
       "      <td>True</td>\n",
       "      <td>False</td>\n",
       "      <td>False</td>\n",
       "      <td>41.0</td>\n",
       "      <td>NaN</td>\n",
       "      <td>Санкт-Петербург</td>\n",
       "      <td>31856.0</td>\n",
       "      <td>8098.0</td>\n",
       "      <td>2.0</td>\n",
       "      <td>112.0</td>\n",
       "      <td>1.0</td>\n",
       "      <td>48.0</td>\n",
       "      <td>121.0</td>\n",
       "    </tr>\n",
       "  </tbody>\n",
       "</table>\n",
       "</div>"
      ],
      "text/plain": [
       "   total_images  last_price  total_area first_day_exposition  rooms  \\\n",
       "0            20    13000000       108.0           2019-03-07      3   \n",
       "1             7     3350000        40.4           2018-12-04      1   \n",
       "2            10     5196000        56.0           2015-08-20      2   \n",
       "3             0    64900000       159.0           2015-07-24      3   \n",
       "4             2    10000000       100.0           2018-06-19      2   \n",
       "\n",
       "   ceiling_height  floors_total  living_area  floor  is_apartment  studio  \\\n",
       "0            2.70          16.0         51.0      8          True   False   \n",
       "1             NaN          11.0         18.6      1          True   False   \n",
       "2             NaN           5.0         34.3      4          True   False   \n",
       "3             NaN          14.0          NaN      9          True   False   \n",
       "4            3.03          14.0         32.0     13          True   False   \n",
       "\n",
       "   open_plan  kitchen_area  balcony    locality_name  airports_nearest  \\\n",
       "0      False          25.0      NaN  Санкт-Петербург           18863.0   \n",
       "1      False          11.0      2.0   посёлок Шушары           12817.0   \n",
       "2      False           8.3      0.0  Санкт-Петербург           21741.0   \n",
       "3      False           NaN      0.0  Санкт-Петербург           28098.0   \n",
       "4      False          41.0      NaN  Санкт-Петербург           31856.0   \n",
       "\n",
       "   cityCenters_nearest  parks_around3000  parks_nearest  ponds_around3000  \\\n",
       "0              16028.0               1.0          482.0               2.0   \n",
       "1              18603.0               0.0            NaN               0.0   \n",
       "2              13933.0               1.0           90.0               2.0   \n",
       "3               6800.0               2.0           84.0               3.0   \n",
       "4               8098.0               2.0          112.0               1.0   \n",
       "\n",
       "   ponds_nearest  days_exposition  \n",
       "0          755.0              NaN  \n",
       "1            NaN             81.0  \n",
       "2          574.0            558.0  \n",
       "3          234.0            424.0  \n",
       "4           48.0            121.0  "
      ]
     },
     "execution_count": 12,
     "metadata": {},
     "output_type": "execute_result"
    }
   ],
   "source": [
    "tmp_data = data.dropna(subset=['ponds_around3000'])\n",
    "tmp_data.head(5)"
   ]
  },
  {
   "cell_type": "markdown",
   "metadata": {},
   "source": [
    "Проверяем то место, которое не является посёлком, или деревней, но не имеет данных по расстоянию до центра города."
   ]
  },
  {
   "cell_type": "code",
   "execution_count": 13,
   "metadata": {},
   "outputs": [
    {
     "data": {
      "text/html": [
       "<div>\n",
       "<style scoped>\n",
       "    .dataframe tbody tr th:only-of-type {\n",
       "        vertical-align: middle;\n",
       "    }\n",
       "\n",
       "    .dataframe tbody tr th {\n",
       "        vertical-align: top;\n",
       "    }\n",
       "\n",
       "    .dataframe thead th {\n",
       "        text-align: right;\n",
       "    }\n",
       "</style>\n",
       "<table border=\"1\" class=\"dataframe\">\n",
       "  <thead>\n",
       "    <tr style=\"text-align: right;\">\n",
       "      <th></th>\n",
       "      <th>total_images</th>\n",
       "      <th>last_price</th>\n",
       "      <th>total_area</th>\n",
       "      <th>first_day_exposition</th>\n",
       "      <th>rooms</th>\n",
       "      <th>ceiling_height</th>\n",
       "      <th>floors_total</th>\n",
       "      <th>living_area</th>\n",
       "      <th>floor</th>\n",
       "      <th>is_apartment</th>\n",
       "      <th>studio</th>\n",
       "      <th>open_plan</th>\n",
       "      <th>kitchen_area</th>\n",
       "      <th>balcony</th>\n",
       "      <th>locality_name</th>\n",
       "      <th>airports_nearest</th>\n",
       "      <th>cityCenters_nearest</th>\n",
       "      <th>parks_around3000</th>\n",
       "      <th>parks_nearest</th>\n",
       "      <th>ponds_around3000</th>\n",
       "      <th>ponds_nearest</th>\n",
       "      <th>days_exposition</th>\n",
       "    </tr>\n",
       "  </thead>\n",
       "  <tbody>\n",
       "    <tr>\n",
       "      <th>20190</th>\n",
       "      <td>2</td>\n",
       "      <td>10500000</td>\n",
       "      <td>85.0</td>\n",
       "      <td>2019-01-08</td>\n",
       "      <td>3</td>\n",
       "      <td>3.0</td>\n",
       "      <td>3.0</td>\n",
       "      <td>55.5</td>\n",
       "      <td>2</td>\n",
       "      <td>True</td>\n",
       "      <td>False</td>\n",
       "      <td>False</td>\n",
       "      <td>8.0</td>\n",
       "      <td>1.0</td>\n",
       "      <td>Пушкин</td>\n",
       "      <td>15527.0</td>\n",
       "      <td>NaN</td>\n",
       "      <td>1.0</td>\n",
       "      <td>134.0</td>\n",
       "      <td>0.0</td>\n",
       "      <td>NaN</td>\n",
       "      <td>NaN</td>\n",
       "    </tr>\n",
       "  </tbody>\n",
       "</table>\n",
       "</div>"
      ],
      "text/plain": [
       "       total_images  last_price  total_area first_day_exposition  rooms  \\\n",
       "20190             2    10500000        85.0           2019-01-08      3   \n",
       "\n",
       "       ceiling_height  floors_total  living_area  floor  is_apartment  studio  \\\n",
       "20190             3.0           3.0         55.5      2          True   False   \n",
       "\n",
       "       open_plan  kitchen_area  balcony locality_name  airports_nearest  \\\n",
       "20190      False           8.0      1.0        Пушкин           15527.0   \n",
       "\n",
       "       cityCenters_nearest  parks_around3000  parks_nearest  ponds_around3000  \\\n",
       "20190                  NaN               1.0          134.0               0.0   \n",
       "\n",
       "       ponds_nearest  days_exposition  \n",
       "20190            NaN              NaN  "
      ]
     },
     "execution_count": 13,
     "metadata": {},
     "output_type": "execute_result"
    }
   ],
   "source": [
    "tmp_data.loc[tmp_data.cityCenters_nearest.isna()]"
   ]
  },
  {
   "cell_type": "markdown",
   "metadata": {},
   "source": [
    "Видимо возникли проблемы с вычислением расстояния."
   ]
  },
  {
   "cell_type": "markdown",
   "metadata": {},
   "source": [
    "Пропуски в графе ceiling_height скорее всего связаны с тем, что хозяева не знают какой высоты у них потолок."
   ]
  },
  {
   "cell_type": "code",
   "execution_count": 14,
   "metadata": {
    "scrolled": true
   },
   "outputs": [
    {
     "data": {
      "text/plain": [
       "count    14504.000000\n",
       "mean         2.771499\n",
       "std          1.261056\n",
       "min          1.000000\n",
       "25%          2.520000\n",
       "50%          2.650000\n",
       "75%          2.800000\n",
       "max        100.000000\n",
       "Name: ceiling_height, dtype: float64"
      ]
     },
     "execution_count": 14,
     "metadata": {},
     "output_type": "execute_result"
    }
   ],
   "source": [
    "data.ceiling_height.describe()"
   ]
  },
  {
   "cell_type": "markdown",
   "metadata": {},
   "source": [
    "Максимальная высота потолков выглядит подозрительно, поэтому стоит посмотреть на данные о квартирах с высотой потолков выше 4 метров."
   ]
  },
  {
   "cell_type": "code",
   "execution_count": 15,
   "metadata": {},
   "outputs": [
    {
     "data": {
      "text/html": [
       "<div>\n",
       "<style scoped>\n",
       "    .dataframe tbody tr th:only-of-type {\n",
       "        vertical-align: middle;\n",
       "    }\n",
       "\n",
       "    .dataframe tbody tr th {\n",
       "        vertical-align: top;\n",
       "    }\n",
       "\n",
       "    .dataframe thead th {\n",
       "        text-align: right;\n",
       "    }\n",
       "</style>\n",
       "<table border=\"1\" class=\"dataframe\">\n",
       "  <thead>\n",
       "    <tr style=\"text-align: right;\">\n",
       "      <th></th>\n",
       "      <th>total_images</th>\n",
       "      <th>last_price</th>\n",
       "      <th>total_area</th>\n",
       "      <th>first_day_exposition</th>\n",
       "      <th>rooms</th>\n",
       "      <th>ceiling_height</th>\n",
       "      <th>floors_total</th>\n",
       "      <th>living_area</th>\n",
       "      <th>floor</th>\n",
       "      <th>is_apartment</th>\n",
       "      <th>studio</th>\n",
       "      <th>open_plan</th>\n",
       "      <th>kitchen_area</th>\n",
       "      <th>balcony</th>\n",
       "      <th>locality_name</th>\n",
       "      <th>airports_nearest</th>\n",
       "      <th>cityCenters_nearest</th>\n",
       "      <th>parks_around3000</th>\n",
       "      <th>parks_nearest</th>\n",
       "      <th>ponds_around3000</th>\n",
       "      <th>ponds_nearest</th>\n",
       "      <th>days_exposition</th>\n",
       "    </tr>\n",
       "  </thead>\n",
       "  <tbody>\n",
       "    <tr>\n",
       "      <th>154</th>\n",
       "      <td>1</td>\n",
       "      <td>8200000</td>\n",
       "      <td>80.0</td>\n",
       "      <td>2018-11-06</td>\n",
       "      <td>3</td>\n",
       "      <td>4.15</td>\n",
       "      <td>3.0</td>\n",
       "      <td>44.2</td>\n",
       "      <td>2</td>\n",
       "      <td>True</td>\n",
       "      <td>False</td>\n",
       "      <td>False</td>\n",
       "      <td>12.2</td>\n",
       "      <td>NaN</td>\n",
       "      <td>Санкт-Петербург</td>\n",
       "      <td>20562.0</td>\n",
       "      <td>3167.0</td>\n",
       "      <td>2.0</td>\n",
       "      <td>344.0</td>\n",
       "      <td>1.0</td>\n",
       "      <td>838.0</td>\n",
       "      <td>38.0</td>\n",
       "    </tr>\n",
       "    <tr>\n",
       "      <th>355</th>\n",
       "      <td>17</td>\n",
       "      <td>3600000</td>\n",
       "      <td>55.2</td>\n",
       "      <td>2018-07-12</td>\n",
       "      <td>2</td>\n",
       "      <td>25.00</td>\n",
       "      <td>5.0</td>\n",
       "      <td>32.0</td>\n",
       "      <td>2</td>\n",
       "      <td>False</td>\n",
       "      <td>False</td>\n",
       "      <td>False</td>\n",
       "      <td>NaN</td>\n",
       "      <td>2.0</td>\n",
       "      <td>Гатчина</td>\n",
       "      <td>NaN</td>\n",
       "      <td>NaN</td>\n",
       "      <td>NaN</td>\n",
       "      <td>NaN</td>\n",
       "      <td>NaN</td>\n",
       "      <td>NaN</td>\n",
       "      <td>259.0</td>\n",
       "    </tr>\n",
       "    <tr>\n",
       "      <th>464</th>\n",
       "      <td>15</td>\n",
       "      <td>66571000</td>\n",
       "      <td>280.3</td>\n",
       "      <td>2015-06-11</td>\n",
       "      <td>6</td>\n",
       "      <td>5.20</td>\n",
       "      <td>8.0</td>\n",
       "      <td>159.5</td>\n",
       "      <td>7</td>\n",
       "      <td>True</td>\n",
       "      <td>False</td>\n",
       "      <td>False</td>\n",
       "      <td>21.1</td>\n",
       "      <td>0.0</td>\n",
       "      <td>Санкт-Петербург</td>\n",
       "      <td>26316.0</td>\n",
       "      <td>6655.0</td>\n",
       "      <td>3.0</td>\n",
       "      <td>187.0</td>\n",
       "      <td>1.0</td>\n",
       "      <td>616.0</td>\n",
       "      <td>578.0</td>\n",
       "    </tr>\n",
       "    <tr>\n",
       "      <th>1026</th>\n",
       "      <td>20</td>\n",
       "      <td>155000000</td>\n",
       "      <td>310.0</td>\n",
       "      <td>2018-10-12</td>\n",
       "      <td>5</td>\n",
       "      <td>5.30</td>\n",
       "      <td>3.0</td>\n",
       "      <td>190.0</td>\n",
       "      <td>3</td>\n",
       "      <td>True</td>\n",
       "      <td>False</td>\n",
       "      <td>False</td>\n",
       "      <td>63.0</td>\n",
       "      <td>2.0</td>\n",
       "      <td>Санкт-Петербург</td>\n",
       "      <td>24899.0</td>\n",
       "      <td>4785.0</td>\n",
       "      <td>0.0</td>\n",
       "      <td>NaN</td>\n",
       "      <td>1.0</td>\n",
       "      <td>603.0</td>\n",
       "      <td>NaN</td>\n",
       "    </tr>\n",
       "    <tr>\n",
       "      <th>1053</th>\n",
       "      <td>13</td>\n",
       "      <td>550000</td>\n",
       "      <td>29.0</td>\n",
       "      <td>2018-02-01</td>\n",
       "      <td>1</td>\n",
       "      <td>5.00</td>\n",
       "      <td>3.0</td>\n",
       "      <td>NaN</td>\n",
       "      <td>1</td>\n",
       "      <td>False</td>\n",
       "      <td>False</td>\n",
       "      <td>False</td>\n",
       "      <td>NaN</td>\n",
       "      <td>NaN</td>\n",
       "      <td>Бокситогорск</td>\n",
       "      <td>NaN</td>\n",
       "      <td>NaN</td>\n",
       "      <td>NaN</td>\n",
       "      <td>NaN</td>\n",
       "      <td>NaN</td>\n",
       "      <td>NaN</td>\n",
       "      <td>6.0</td>\n",
       "    </tr>\n",
       "    <tr>\n",
       "      <th>...</th>\n",
       "      <td>...</td>\n",
       "      <td>...</td>\n",
       "      <td>...</td>\n",
       "      <td>...</td>\n",
       "      <td>...</td>\n",
       "      <td>...</td>\n",
       "      <td>...</td>\n",
       "      <td>...</td>\n",
       "      <td>...</td>\n",
       "      <td>...</td>\n",
       "      <td>...</td>\n",
       "      <td>...</td>\n",
       "      <td>...</td>\n",
       "      <td>...</td>\n",
       "      <td>...</td>\n",
       "      <td>...</td>\n",
       "      <td>...</td>\n",
       "      <td>...</td>\n",
       "      <td>...</td>\n",
       "      <td>...</td>\n",
       "      <td>...</td>\n",
       "      <td>...</td>\n",
       "    </tr>\n",
       "    <tr>\n",
       "      <th>22309</th>\n",
       "      <td>20</td>\n",
       "      <td>5300000</td>\n",
       "      <td>45.0</td>\n",
       "      <td>2017-09-30</td>\n",
       "      <td>1</td>\n",
       "      <td>10.30</td>\n",
       "      <td>16.0</td>\n",
       "      <td>15.5</td>\n",
       "      <td>15</td>\n",
       "      <td>True</td>\n",
       "      <td>False</td>\n",
       "      <td>False</td>\n",
       "      <td>NaN</td>\n",
       "      <td>NaN</td>\n",
       "      <td>Санкт-Петербург</td>\n",
       "      <td>36353.0</td>\n",
       "      <td>11936.0</td>\n",
       "      <td>2.0</td>\n",
       "      <td>440.0</td>\n",
       "      <td>2.0</td>\n",
       "      <td>450.0</td>\n",
       "      <td>136.0</td>\n",
       "    </tr>\n",
       "    <tr>\n",
       "      <th>22336</th>\n",
       "      <td>19</td>\n",
       "      <td>9999000</td>\n",
       "      <td>92.4</td>\n",
       "      <td>2019-04-05</td>\n",
       "      <td>2</td>\n",
       "      <td>32.00</td>\n",
       "      <td>6.0</td>\n",
       "      <td>55.5</td>\n",
       "      <td>5</td>\n",
       "      <td>False</td>\n",
       "      <td>False</td>\n",
       "      <td>False</td>\n",
       "      <td>16.5</td>\n",
       "      <td>4.0</td>\n",
       "      <td>Санкт-Петербург</td>\n",
       "      <td>18838.0</td>\n",
       "      <td>3506.0</td>\n",
       "      <td>0.0</td>\n",
       "      <td>NaN</td>\n",
       "      <td>3.0</td>\n",
       "      <td>511.0</td>\n",
       "      <td>NaN</td>\n",
       "    </tr>\n",
       "    <tr>\n",
       "      <th>22494</th>\n",
       "      <td>7</td>\n",
       "      <td>91075000</td>\n",
       "      <td>491.0</td>\n",
       "      <td>2017-05-27</td>\n",
       "      <td>5</td>\n",
       "      <td>4.20</td>\n",
       "      <td>9.0</td>\n",
       "      <td>274.0</td>\n",
       "      <td>9</td>\n",
       "      <td>True</td>\n",
       "      <td>False</td>\n",
       "      <td>False</td>\n",
       "      <td>45.0</td>\n",
       "      <td>0.0</td>\n",
       "      <td>Санкт-Петербург</td>\n",
       "      <td>25525.0</td>\n",
       "      <td>5845.0</td>\n",
       "      <td>2.0</td>\n",
       "      <td>116.0</td>\n",
       "      <td>0.0</td>\n",
       "      <td>NaN</td>\n",
       "      <td>115.0</td>\n",
       "    </tr>\n",
       "    <tr>\n",
       "      <th>22869</th>\n",
       "      <td>0</td>\n",
       "      <td>15000000</td>\n",
       "      <td>25.0</td>\n",
       "      <td>2018-07-25</td>\n",
       "      <td>1</td>\n",
       "      <td>100.00</td>\n",
       "      <td>5.0</td>\n",
       "      <td>14.0</td>\n",
       "      <td>5</td>\n",
       "      <td>True</td>\n",
       "      <td>False</td>\n",
       "      <td>False</td>\n",
       "      <td>11.0</td>\n",
       "      <td>5.0</td>\n",
       "      <td>Санкт-Петербург</td>\n",
       "      <td>34963.0</td>\n",
       "      <td>8283.0</td>\n",
       "      <td>1.0</td>\n",
       "      <td>223.0</td>\n",
       "      <td>3.0</td>\n",
       "      <td>30.0</td>\n",
       "      <td>19.0</td>\n",
       "    </tr>\n",
       "    <tr>\n",
       "      <th>22938</th>\n",
       "      <td>14</td>\n",
       "      <td>4000000</td>\n",
       "      <td>98.0</td>\n",
       "      <td>2018-03-15</td>\n",
       "      <td>4</td>\n",
       "      <td>27.00</td>\n",
       "      <td>2.0</td>\n",
       "      <td>73.0</td>\n",
       "      <td>2</td>\n",
       "      <td>True</td>\n",
       "      <td>False</td>\n",
       "      <td>False</td>\n",
       "      <td>9.0</td>\n",
       "      <td>1.0</td>\n",
       "      <td>деревня Нижняя</td>\n",
       "      <td>NaN</td>\n",
       "      <td>NaN</td>\n",
       "      <td>NaN</td>\n",
       "      <td>NaN</td>\n",
       "      <td>NaN</td>\n",
       "      <td>NaN</td>\n",
       "      <td>27.0</td>\n",
       "    </tr>\n",
       "  </tbody>\n",
       "</table>\n",
       "<p>75 rows × 22 columns</p>\n",
       "</div>"
      ],
      "text/plain": [
       "       total_images  last_price  total_area first_day_exposition  rooms  \\\n",
       "154               1     8200000        80.0           2018-11-06      3   \n",
       "355              17     3600000        55.2           2018-07-12      2   \n",
       "464              15    66571000       280.3           2015-06-11      6   \n",
       "1026             20   155000000       310.0           2018-10-12      5   \n",
       "1053             13      550000        29.0           2018-02-01      1   \n",
       "...             ...         ...         ...                  ...    ...   \n",
       "22309            20     5300000        45.0           2017-09-30      1   \n",
       "22336            19     9999000        92.4           2019-04-05      2   \n",
       "22494             7    91075000       491.0           2017-05-27      5   \n",
       "22869             0    15000000        25.0           2018-07-25      1   \n",
       "22938            14     4000000        98.0           2018-03-15      4   \n",
       "\n",
       "       ceiling_height  floors_total  living_area  floor  is_apartment  studio  \\\n",
       "154              4.15           3.0         44.2      2          True   False   \n",
       "355             25.00           5.0         32.0      2         False   False   \n",
       "464              5.20           8.0        159.5      7          True   False   \n",
       "1026             5.30           3.0        190.0      3          True   False   \n",
       "1053             5.00           3.0          NaN      1         False   False   \n",
       "...               ...           ...          ...    ...           ...     ...   \n",
       "22309           10.30          16.0         15.5     15          True   False   \n",
       "22336           32.00           6.0         55.5      5         False   False   \n",
       "22494            4.20           9.0        274.0      9          True   False   \n",
       "22869          100.00           5.0         14.0      5          True   False   \n",
       "22938           27.00           2.0         73.0      2          True   False   \n",
       "\n",
       "       open_plan  kitchen_area  balcony    locality_name  airports_nearest  \\\n",
       "154        False          12.2      NaN  Санкт-Петербург           20562.0   \n",
       "355        False           NaN      2.0          Гатчина               NaN   \n",
       "464        False          21.1      0.0  Санкт-Петербург           26316.0   \n",
       "1026       False          63.0      2.0  Санкт-Петербург           24899.0   \n",
       "1053       False           NaN      NaN     Бокситогорск               NaN   \n",
       "...          ...           ...      ...              ...               ...   \n",
       "22309      False           NaN      NaN  Санкт-Петербург           36353.0   \n",
       "22336      False          16.5      4.0  Санкт-Петербург           18838.0   \n",
       "22494      False          45.0      0.0  Санкт-Петербург           25525.0   \n",
       "22869      False          11.0      5.0  Санкт-Петербург           34963.0   \n",
       "22938      False           9.0      1.0   деревня Нижняя               NaN   \n",
       "\n",
       "       cityCenters_nearest  parks_around3000  parks_nearest  ponds_around3000  \\\n",
       "154                 3167.0               2.0          344.0               1.0   \n",
       "355                    NaN               NaN            NaN               NaN   \n",
       "464                 6655.0               3.0          187.0               1.0   \n",
       "1026                4785.0               0.0            NaN               1.0   \n",
       "1053                   NaN               NaN            NaN               NaN   \n",
       "...                    ...               ...            ...               ...   \n",
       "22309              11936.0               2.0          440.0               2.0   \n",
       "22336               3506.0               0.0            NaN               3.0   \n",
       "22494               5845.0               2.0          116.0               0.0   \n",
       "22869               8283.0               1.0          223.0               3.0   \n",
       "22938                  NaN               NaN            NaN               NaN   \n",
       "\n",
       "       ponds_nearest  days_exposition  \n",
       "154            838.0             38.0  \n",
       "355              NaN            259.0  \n",
       "464            616.0            578.0  \n",
       "1026           603.0              NaN  \n",
       "1053             NaN              6.0  \n",
       "...              ...              ...  \n",
       "22309          450.0            136.0  \n",
       "22336          511.0              NaN  \n",
       "22494            NaN            115.0  \n",
       "22869           30.0             19.0  \n",
       "22938            NaN             27.0  \n",
       "\n",
       "[75 rows x 22 columns]"
      ]
     },
     "execution_count": 15,
     "metadata": {},
     "output_type": "execute_result"
    }
   ],
   "source": [
    "data.loc[data.ceiling_height > 4]"
   ]
  },
  {
   "cell_type": "markdown",
   "metadata": {},
   "source": [
    "У нас 75 квартир с потолками выше 4 метров. Данные квартиры можно просто откинуть."
   ]
  },
  {
   "cell_type": "code",
   "execution_count": 16,
   "metadata": {},
   "outputs": [
    {
     "data": {
      "text/html": [
       "<div>\n",
       "<style scoped>\n",
       "    .dataframe tbody tr th:only-of-type {\n",
       "        vertical-align: middle;\n",
       "    }\n",
       "\n",
       "    .dataframe tbody tr th {\n",
       "        vertical-align: top;\n",
       "    }\n",
       "\n",
       "    .dataframe thead th {\n",
       "        text-align: right;\n",
       "    }\n",
       "</style>\n",
       "<table border=\"1\" class=\"dataframe\">\n",
       "  <thead>\n",
       "    <tr style=\"text-align: right;\">\n",
       "      <th></th>\n",
       "      <th>total_images</th>\n",
       "      <th>last_price</th>\n",
       "      <th>total_area</th>\n",
       "      <th>first_day_exposition</th>\n",
       "      <th>rooms</th>\n",
       "      <th>ceiling_height</th>\n",
       "      <th>floors_total</th>\n",
       "      <th>living_area</th>\n",
       "      <th>floor</th>\n",
       "      <th>is_apartment</th>\n",
       "      <th>studio</th>\n",
       "      <th>open_plan</th>\n",
       "      <th>kitchen_area</th>\n",
       "      <th>balcony</th>\n",
       "      <th>locality_name</th>\n",
       "      <th>airports_nearest</th>\n",
       "      <th>cityCenters_nearest</th>\n",
       "      <th>parks_around3000</th>\n",
       "      <th>parks_nearest</th>\n",
       "      <th>ponds_around3000</th>\n",
       "      <th>ponds_nearest</th>\n",
       "      <th>days_exposition</th>\n",
       "    </tr>\n",
       "  </thead>\n",
       "  <tbody>\n",
       "  </tbody>\n",
       "</table>\n",
       "</div>"
      ],
      "text/plain": [
       "Empty DataFrame\n",
       "Columns: [total_images, last_price, total_area, first_day_exposition, rooms, ceiling_height, floors_total, living_area, floor, is_apartment, studio, open_plan, kitchen_area, balcony, locality_name, airports_nearest, cityCenters_nearest, parks_around3000, parks_nearest, ponds_around3000, ponds_nearest, days_exposition]\n",
       "Index: []"
      ]
     },
     "execution_count": 16,
     "metadata": {},
     "output_type": "execute_result"
    }
   ],
   "source": [
    "data.drop(data.loc[data.ceiling_height > 4].index, inplace=True)\n",
    "data.loc[data.ceiling_height > 4] # Testing if we drop all we needed."
   ]
  },
  {
   "cell_type": "markdown",
   "metadata": {},
   "source": [
    "Аналогично с потолками ниже 2.5 метров."
   ]
  },
  {
   "cell_type": "code",
   "execution_count": 17,
   "metadata": {},
   "outputs": [
    {
     "data": {
      "text/html": [
       "<div>\n",
       "<style scoped>\n",
       "    .dataframe tbody tr th:only-of-type {\n",
       "        vertical-align: middle;\n",
       "    }\n",
       "\n",
       "    .dataframe tbody tr th {\n",
       "        vertical-align: top;\n",
       "    }\n",
       "\n",
       "    .dataframe thead th {\n",
       "        text-align: right;\n",
       "    }\n",
       "</style>\n",
       "<table border=\"1\" class=\"dataframe\">\n",
       "  <thead>\n",
       "    <tr style=\"text-align: right;\">\n",
       "      <th></th>\n",
       "      <th>total_images</th>\n",
       "      <th>last_price</th>\n",
       "      <th>total_area</th>\n",
       "      <th>first_day_exposition</th>\n",
       "      <th>rooms</th>\n",
       "      <th>ceiling_height</th>\n",
       "      <th>floors_total</th>\n",
       "      <th>living_area</th>\n",
       "      <th>floor</th>\n",
       "      <th>is_apartment</th>\n",
       "      <th>studio</th>\n",
       "      <th>open_plan</th>\n",
       "      <th>kitchen_area</th>\n",
       "      <th>balcony</th>\n",
       "      <th>locality_name</th>\n",
       "      <th>airports_nearest</th>\n",
       "      <th>cityCenters_nearest</th>\n",
       "      <th>parks_around3000</th>\n",
       "      <th>parks_nearest</th>\n",
       "      <th>ponds_around3000</th>\n",
       "      <th>ponds_nearest</th>\n",
       "      <th>days_exposition</th>\n",
       "    </tr>\n",
       "  </thead>\n",
       "  <tbody>\n",
       "  </tbody>\n",
       "</table>\n",
       "</div>"
      ],
      "text/plain": [
       "Empty DataFrame\n",
       "Columns: [total_images, last_price, total_area, first_day_exposition, rooms, ceiling_height, floors_total, living_area, floor, is_apartment, studio, open_plan, kitchen_area, balcony, locality_name, airports_nearest, cityCenters_nearest, parks_around3000, parks_nearest, ponds_around3000, ponds_nearest, days_exposition]\n",
       "Index: []"
      ]
     },
     "execution_count": 17,
     "metadata": {},
     "output_type": "execute_result"
    }
   ],
   "source": [
    "data.drop(data.loc[data.ceiling_height < 2.5].index, inplace=True)\n",
    "data.loc[data.ceiling_height < 2.5]"
   ]
  },
  {
   "cell_type": "code",
   "execution_count": 18,
   "metadata": {},
   "outputs": [],
   "source": [
    "data.ceiling_height.fillna(data.ceiling_height.median(), inplace=True)"
   ]
  },
  {
   "cell_type": "code",
   "execution_count": 19,
   "metadata": {},
   "outputs": [],
   "source": [
    "data.reset_index(drop=True,inplace=True)"
   ]
  },
  {
   "cell_type": "markdown",
   "metadata": {},
   "source": [
    "Скорее всего данные о количестве балконов были пропущены при их отсутсвии, также, возможно, были пропущены и данные о принадлежности квартиры к классу апартаментов. В столбцах, заполненных программой, про географическое положение - пропуски скорее всего были образованы потому, что в программе есть максимальный радиус поиска, и при превышении этого значение - в ячейке оставался пропуск."
   ]
  },
  {
   "cell_type": "markdown",
   "metadata": {},
   "source": [
    "Заполняем пропуски в числе балконов нулями."
   ]
  },
  {
   "cell_type": "code",
   "execution_count": 20,
   "metadata": {},
   "outputs": [],
   "source": [
    "data.balcony.fillna(0, inplace=True)"
   ]
  },
  {
   "cell_type": "code",
   "execution_count": 21,
   "metadata": {
    "scrolled": false
   },
   "outputs": [
    {
     "name": "stdout",
     "output_type": "stream",
     "text": [
      "<class 'pandas.core.frame.DataFrame'>\n",
      "RangeIndex: 23551 entries, 0 to 23550\n",
      "Data columns (total 22 columns):\n",
      " #   Column                Non-Null Count  Dtype         \n",
      "---  ------                --------------  -----         \n",
      " 0   total_images          23551 non-null  int64         \n",
      " 1   last_price            23551 non-null  int64         \n",
      " 2   total_area            23551 non-null  float64       \n",
      " 3   first_day_exposition  23551 non-null  datetime64[ns]\n",
      " 4   rooms                 23551 non-null  int64         \n",
      " 5   ceiling_height        23551 non-null  float64       \n",
      " 6   floors_total          23465 non-null  float64       \n",
      " 7   living_area           21660 non-null  float64       \n",
      " 8   floor                 23551 non-null  int64         \n",
      " 9   is_apartment          23551 non-null  bool          \n",
      " 10  studio                23551 non-null  bool          \n",
      " 11  open_plan             23551 non-null  bool          \n",
      " 12  kitchen_area          21293 non-null  float64       \n",
      " 13  balcony               23551 non-null  float64       \n",
      " 14  locality_name         23502 non-null  object        \n",
      " 15  airports_nearest      18057 non-null  float64       \n",
      " 16  cityCenters_nearest   18077 non-null  float64       \n",
      " 17  parks_around3000      18078 non-null  float64       \n",
      " 18  parks_nearest         8016 non-null   float64       \n",
      " 19  ponds_around3000      18078 non-null  float64       \n",
      " 20  ponds_nearest         9050 non-null   float64       \n",
      " 21  days_exposition       20394 non-null  float64       \n",
      "dtypes: bool(3), datetime64[ns](1), float64(13), int64(4), object(1)\n",
      "memory usage: 3.5+ MB\n"
     ]
    }
   ],
   "source": [
    "data.balcony.astype(int)\n",
    "data.info()"
   ]
  },
  {
   "cell_type": "markdown",
   "metadata": {},
   "source": [
    "Удаляем \"городской\", и \"городского типа\" из названия посёлков во избежании неявных дубликатов."
   ]
  },
  {
   "cell_type": "code",
   "execution_count": 22,
   "metadata": {},
   "outputs": [
    {
     "data": {
      "text/plain": [
       "363"
      ]
     },
     "execution_count": 22,
     "metadata": {},
     "output_type": "execute_result"
    }
   ],
   "source": [
    "len(data.locality_name.unique())"
   ]
  },
  {
   "cell_type": "code",
   "execution_count": 23,
   "metadata": {},
   "outputs": [],
   "source": [
    "data.locality_name = data.locality_name.str.replace('городского типа ', '')\n",
    "data.locality_name = data.locality_name.str.replace('городской ', '')\n",
    "data.locality_name = data.locality_name.str.replace('коттеджный ', '')\n",
    "data.locality_name = data.locality_name.str.strip()"
   ]
  },
  {
   "cell_type": "code",
   "execution_count": 24,
   "metadata": {},
   "outputs": [
    {
     "data": {
      "text/plain": [
       "358"
      ]
     },
     "execution_count": 24,
     "metadata": {},
     "output_type": "execute_result"
    }
   ],
   "source": [
    "len(data.locality_name.unique())"
   ]
  },
  {
   "cell_type": "markdown",
   "metadata": {},
   "source": [
    "При написании слова посёлок - иногда используется буква \"е\", приведем всё к одному варианту написания."
   ]
  },
  {
   "cell_type": "code",
   "execution_count": 25,
   "metadata": {},
   "outputs": [],
   "source": [
    "data.locality_name = data.locality_name.str.replace('ё', 'е')"
   ]
  },
  {
   "cell_type": "code",
   "execution_count": 26,
   "metadata": {},
   "outputs": [
    {
     "data": {
      "text/plain": [
       "320"
      ]
     },
     "execution_count": 26,
     "metadata": {},
     "output_type": "execute_result"
    }
   ],
   "source": [
    "len(data.locality_name.unique())"
   ]
  },
  {
   "cell_type": "code",
   "execution_count": 27,
   "metadata": {},
   "outputs": [],
   "source": [
    "data.locality_name.fillna('n/a', inplace=True)"
   ]
  },
  {
   "cell_type": "markdown",
   "metadata": {},
   "source": [
    "При первой проверке  \"посёлок Янино-1\" встретился дважды, поэтому для удобства - сортируем уникальные значения названий населенных пунктов."
   ]
  },
  {
   "cell_type": "code",
   "execution_count": 28,
   "metadata": {
    "scrolled": true
   },
   "outputs": [
    {
     "name": "stdout",
     "output_type": "stream",
     "text": [
      "['n/a' 'Бокситогорск' 'Волосово' 'Волхов' 'Всеволожск' 'Выборг' 'Высоцк'\n",
      " 'Гатчина' 'Зеленогорск' 'Ивангород' 'Каменногорск' 'Кингисепп' 'Кириши'\n",
      " 'Кировск' 'Колпино' 'Коммунар' 'Красное Село' 'Кронштадт' 'Кудрово'\n",
      " 'Лодейное Поле' 'Ломоносов' 'Луга' 'Любань' 'Мурино' 'Никольское'\n",
      " 'Новая Ладога' 'Отрадное' 'Павловск' 'Петергоф' 'Пикалево' 'Подпорожье'\n",
      " 'Приморск' 'Приозерск' 'Пушкин' 'Санкт-Петербург' 'Светогорск'\n",
      " 'Сертолово' 'Сестрорецк' 'Сланцы' 'Сосновый Бор' 'Сясьстрой' 'Тихвин'\n",
      " 'Тосно' 'Шлиссельбург' 'деревня Агалатово' 'деревня Аро' 'деревня Батово'\n",
      " 'деревня Бегуницы' 'деревня Белогорка' 'деревня Большая Вруда'\n",
      " 'деревня Большая Пустомержа' 'деревня Большие Колпаны'\n",
      " 'деревня Большое Рейзино' 'деревня Большой Сабск' 'деревня Бор'\n",
      " 'деревня Борисова Грива' 'деревня Ваганово' 'деревня Вартемяги'\n",
      " 'деревня Вахнова Кара' 'деревня Выскатка' 'деревня Гарболово'\n",
      " 'деревня Глинка' 'деревня Горбунки' 'деревня Гостилицы'\n",
      " 'деревня Заклинье' 'деревня Заневка' 'деревня Зимитицы' 'деревня Извара'\n",
      " 'деревня Иссад' 'деревня Калитино' 'деревня Кальтино' 'деревня Камышовка'\n",
      " 'деревня Каськово' 'деревня Келози' 'деревня Кипень' 'деревня Кисельня'\n",
      " 'деревня Колтуши' 'деревня Коркино' 'деревня Котлы' 'деревня Кривко'\n",
      " 'деревня Кудрово' 'деревня Кузьмолово' 'деревня Курковицы'\n",
      " 'деревня Куровицы' 'деревня Куттузи' 'деревня Лаврики' 'деревня Лаголово'\n",
      " 'деревня Лампово' 'деревня Лесколово' 'деревня Лопухинка'\n",
      " 'деревня Лупполово' 'деревня Малая Романовка' 'деревня Малое Верево'\n",
      " 'деревня Малое Карлино' 'деревня Малые Колпаны' 'деревня Мануйлово'\n",
      " 'деревня Меньково' 'деревня Мины' 'деревня Мистолово' 'деревня Ненимяки'\n",
      " 'деревня Нижние Осельки' 'деревня Низино' 'деревня Новое Девяткино'\n",
      " 'деревня Новолисино' 'деревня Нурма' 'деревня Оржицы' 'деревня Парицы'\n",
      " 'деревня Пельгора' 'деревня Пеники' 'деревня Пижма' 'деревня Пикколово'\n",
      " 'деревня Пудомяги' 'деревня Пустынка' 'деревня Пчева' 'деревня Рабитицы'\n",
      " 'деревня Разбегаево' 'деревня Раздолье' 'деревня Разметелево'\n",
      " 'деревня Рапполово' 'деревня Реброво' 'деревня Русско' 'деревня Сижно'\n",
      " 'деревня Снегиревка' 'деревня Старая' 'деревня Старая Пустошь'\n",
      " 'деревня Старое Хинколово' 'деревня Старополье' 'деревня Старосиверская'\n",
      " 'деревня Старые Бегуницы' 'деревня Суоранда' 'деревня Сяськелево'\n",
      " 'деревня Тарасово' 'деревня Терпилицы' 'деревня Тихковицы'\n",
      " 'деревня Тойворово' 'деревня Торосово' 'деревня Торошковичи'\n",
      " 'деревня Трубников Бор' 'деревня Фалилеево' 'деревня Федоровское'\n",
      " 'деревня Хапо-Ое' 'деревня Хязельки' 'деревня Чудской Бор'\n",
      " 'деревня Шпаньково' 'деревня Щеглово' 'деревня Юкки' 'деревня Ялгино'\n",
      " 'деревня Яльгелево' 'деревня Ям-Тесово' 'поселок Александровская'\n",
      " 'поселок Алексеевка' 'поселок Аннино' 'поселок Барышево'\n",
      " 'поселок Белоостров' 'поселок Большая Ижора' 'поселок Бугры'\n",
      " 'поселок Будогощь' 'поселок Важины' 'поселок Виллози'\n",
      " 'поселок Вознесенье' 'поселок Возрождение' 'поселок Войсковицы'\n",
      " 'поселок Войскорово' 'поселок Володарское' 'поселок Вырица'\n",
      " 'поселок Высокоключевой' 'поселок Гаврилово' 'поселок Гарболово'\n",
      " 'поселок Гладкое' 'поселок Глажево' 'поселок Глебычево'\n",
      " 'поселок Гончарово' 'поселок Громово' 'поселок Дзержинского'\n",
      " 'поселок Дружная Горка' 'поселок Дружноселье' 'поселок Дубровка'\n",
      " 'поселок Елизаветино' 'поселок Ефимовский' 'поселок Жилгородок'\n",
      " 'поселок Жилпоселок' 'поселок Житково' 'поселок Заводской'\n",
      " 'поселок Запорожское' 'поселок Зимитицы' 'поселок Ильичево'\n",
      " 'поселок Калитино' 'поселок Каложицы' 'поселок Кивеннапа Север'\n",
      " 'поселок Кикерино' 'поселок Кингисеппский' 'поселок Кирпичное'\n",
      " 'поселок Кобралово' 'поселок Кобринское' 'поселок Коммунары'\n",
      " 'поселок Кондратьево' 'поселок Коробицыно' 'поселок Котельский'\n",
      " 'поселок Красная Долина' 'поселок Красносельское' 'поселок Красный Бор'\n",
      " 'поселок Кузнечное' 'поселок Кузьмоловский' 'поселок Лебяжье'\n",
      " 'поселок Левашово' 'поселок Ленинское' 'поселок Лесное'\n",
      " 'поселок Лесогорский' 'поселок Лисий Нос' 'поселок Лукаши'\n",
      " 'поселок Любань' 'поселок Мга' 'поселок Мельниково'\n",
      " 'поселок Металлострой' 'поселок Мичуринское' 'поселок Молодежное'\n",
      " 'поселок Молодцово' 'поселок Мурино' 'поселок Мыза-Ивановка'\n",
      " 'поселок Назия' 'поселок Никольский' 'поселок Новогорелово'\n",
      " 'поселок Новоселье' 'поселок Новый Свет' 'поселок Новый Учхоз'\n",
      " 'поселок Оредеж' 'поселок Павлово' 'поселок Пансионат Зеленый Бор'\n",
      " 'поселок Парголово' 'поселок Первомайское' 'поселок Перово'\n",
      " 'поселок Песочный' 'поселок Петро-Славянка' 'поселок Петровское'\n",
      " 'поселок Платформа 69-й километр' 'поселок Плодовое' 'поселок Плоское'\n",
      " 'поселок Победа' 'поселок Поляны' 'поселок Понтонный' 'поселок Почап'\n",
      " 'поселок Починок' 'поселок Пригородный' 'поселок Приладожский'\n",
      " 'поселок Пудость' 'поселок Пушное' 'поселок Пчевжа' 'поселок Рабитицы'\n",
      " 'поселок Рахья' 'поселок Репино' 'поселок Романовка' 'поселок Ромашки'\n",
      " 'поселок Ропша' 'поселок Рощино' 'поселок Рябово' 'поселок Саперное'\n",
      " 'поселок Саперный' 'поселок Севастьяново' 'поселок Селезнево'\n",
      " 'поселок Сельцо' 'поселок Семиозерье' 'поселок Семрино'\n",
      " 'поселок Серебрянский' 'поселок Сиверский' 'поселок Синявино'\n",
      " 'поселок Советский' 'поселок Совхозный' 'поселок Сосново'\n",
      " 'поселок Старая Малукса' 'поселок Стеклянный' 'поселок Стрельна'\n",
      " 'поселок Суйда' 'поселок Сумино' 'поселок Суходолье' 'поселок Счастье'\n",
      " 'поселок Тайцы' 'поселок Тельмана' 'поселок Терволово' 'поселок Тесово-4'\n",
      " 'поселок Токсово' 'поселок Торковичи' 'поселок Торфяное' 'поселок Углово'\n",
      " 'поселок Ульяновка' 'поселок Усть-Ижора' 'поселок Усть-Луга'\n",
      " 'поселок Ушаки' 'поселок Федоровское' 'поселок Форносово'\n",
      " 'поселок Форт Красная Горка' 'поселок Цвелодубово' 'поселок Цвылево'\n",
      " 'поселок Шугозеро' 'поселок Шушары' 'поселок Щеглово' 'поселок Янино-1'\n",
      " 'поселок имени Морозова' 'поселок имени Свердлова'\n",
      " 'поселок при железнодорожной станции Вещево'\n",
      " 'поселок при железнодорожной станции Приветнинское'\n",
      " 'поселок станции Вещево' 'поселок станции Громово'\n",
      " 'поселок станции Корнево' 'поселок станции Лужайка'\n",
      " 'поселок станции Приветнинское' 'поселок станции Свирь'\n",
      " 'садоводческое некоммерческое товарищество Лесная Поляна'\n",
      " 'садовое товарищество Новая Ропша' 'садовое товарищество Приладожский'\n",
      " 'садовое товарищество Рахья' 'садовое товарищество Садко' 'село Копорье'\n",
      " 'село Никольское' 'село Павлово' 'село Паша' 'село Путилово'\n",
      " 'село Рождествено' 'село Русско-Высоцкое' 'село Старая Ладога' 'село Шум'] \n",
      " 320\n"
     ]
    }
   ],
   "source": [
    "uniques = data.locality_name.unique()\n",
    "uniques.sort()\n",
    "print(uniques, '\\n', len(uniques))"
   ]
  },
  {
   "cell_type": "code",
   "execution_count": 29,
   "metadata": {},
   "outputs": [],
   "source": [
    "data = data.dropna(subset=['floors_total']).reset_index(drop=True)"
   ]
  },
  {
   "cell_type": "code",
   "execution_count": 30,
   "metadata": {},
   "outputs": [],
   "source": [
    "data.is_apartment.fillna(False, inplace=True)"
   ]
  },
  {
   "cell_type": "markdown",
   "metadata": {},
   "source": [
    "#### Преобразование типов"
   ]
  },
  {
   "cell_type": "code",
   "execution_count": 31,
   "metadata": {},
   "outputs": [],
   "source": [
    "data.parks_around3000 = data.parks_around3000.fillna(0).astype(int)\n",
    "\n",
    "data.ponds_around3000 = data.ponds_around3000.fillna(0).astype(int)"
   ]
  },
  {
   "cell_type": "code",
   "execution_count": 32,
   "metadata": {},
   "outputs": [],
   "source": [
    "data.last_price = data.last_price.astype(int)\n",
    "\n",
    "data.is_apartment = data.is_apartment.astype(bool)\n",
    "\n",
    "data.floors_total = data.floors_total.astype(int)"
   ]
  },
  {
   "cell_type": "markdown",
   "metadata": {},
   "source": [
    "Оцениваем границы ценового диапазона, для исключения выбросов"
   ]
  },
  {
   "cell_type": "code",
   "execution_count": 33,
   "metadata": {},
   "outputs": [
    {
     "name": "stdout",
     "output_type": "stream",
     "text": [
      "Нижняя граница last_price 1000000.0\n",
      "Верхняя граница last_price 35000000.0\n",
      "Процент отброшенных значений =  1.94 %\n"
     ]
    }
   ],
   "source": [
    "\n",
    "low_percentele = 0.01\n",
    "high_percentele = 0.99\n",
    "\n",
    "last_price_low = data['last_price'].quantile(low_percentele)\n",
    "last_price_high = data['last_price'].quantile(high_percentele)\n",
    "\n",
    "print(f'Нижняя граница last_price {last_price_low}')\n",
    "print(f'Верхняя граница last_price {last_price_high}')\n",
    "\n",
    "print(\n",
    "    'Процент отброшенных значений = ',\n",
    "    round(\n",
    "        100 - len(data.query('@last_price_low <= last_price <= @last_price_high'))\n",
    "        / len(data['last_price']) * 100,\n",
    "        2\n",
    "    ),\n",
    "    '%'\n",
    ")"
   ]
  },
  {
   "cell_type": "code",
   "execution_count": 34,
   "metadata": {},
   "outputs": [],
   "source": [
    "data = data.drop(data.loc[data.last_price < last_price_low].index)\n",
    "data = data.drop(data.loc[data.last_price > last_price_high].index)"
   ]
  },
  {
   "cell_type": "code",
   "execution_count": 35,
   "metadata": {},
   "outputs": [
    {
     "data": {
      "text/plain": [
       "0"
      ]
     },
     "execution_count": 35,
     "metadata": {},
     "output_type": "execute_result"
    }
   ],
   "source": [
    "data.duplicated().sum()"
   ]
  },
  {
   "cell_type": "code",
   "execution_count": 36,
   "metadata": {
    "scrolled": true
   },
   "outputs": [
    {
     "name": "stdout",
     "output_type": "stream",
     "text": [
      "total_images                0\n",
      "last_price                  0\n",
      "total_area                  0\n",
      "first_day_exposition        0\n",
      "rooms                       0\n",
      "ceiling_height              0\n",
      "floors_total                0\n",
      "living_area              1788\n",
      "floor                       0\n",
      "is_apartment                0\n",
      "studio                      0\n",
      "open_plan                   0\n",
      "kitchen_area             2138\n",
      "balcony                     0\n",
      "locality_name               0\n",
      "airports_nearest         5253\n",
      "cityCenters_nearest      5233\n",
      "parks_around3000            0\n",
      "parks_nearest           15200\n",
      "ponds_around3000            0\n",
      "ponds_nearest           14196\n",
      "days_exposition          3046\n",
      "dtype: int64\n",
      "\n",
      "<class 'pandas.core.frame.DataFrame'>\n",
      "Int64Index: 23010 entries, 0 to 23464\n",
      "Data columns (total 22 columns):\n",
      " #   Column                Non-Null Count  Dtype         \n",
      "---  ------                --------------  -----         \n",
      " 0   total_images          23010 non-null  int64         \n",
      " 1   last_price            23010 non-null  int64         \n",
      " 2   total_area            23010 non-null  float64       \n",
      " 3   first_day_exposition  23010 non-null  datetime64[ns]\n",
      " 4   rooms                 23010 non-null  int64         \n",
      " 5   ceiling_height        23010 non-null  float64       \n",
      " 6   floors_total          23010 non-null  int64         \n",
      " 7   living_area           21222 non-null  float64       \n",
      " 8   floor                 23010 non-null  int64         \n",
      " 9   is_apartment          23010 non-null  bool          \n",
      " 10  studio                23010 non-null  bool          \n",
      " 11  open_plan             23010 non-null  bool          \n",
      " 12  kitchen_area          20872 non-null  float64       \n",
      " 13  balcony               23010 non-null  float64       \n",
      " 14  locality_name         23010 non-null  object        \n",
      " 15  airports_nearest      17757 non-null  float64       \n",
      " 16  cityCenters_nearest   17777 non-null  float64       \n",
      " 17  parks_around3000      23010 non-null  int64         \n",
      " 18  parks_nearest         7810 non-null   float64       \n",
      " 19  ponds_around3000      23010 non-null  int64         \n",
      " 20  ponds_nearest         8814 non-null   float64       \n",
      " 21  days_exposition       19964 non-null  float64       \n",
      "dtypes: bool(3), datetime64[ns](1), float64(10), int64(7), object(1)\n",
      "memory usage: 3.6+ MB\n",
      "None\n"
     ]
    }
   ],
   "source": [
    "print(data.isna().sum(), end='\\n\\n')\n",
    "print(data.info())"
   ]
  },
  {
   "cell_type": "markdown",
   "metadata": {},
   "source": [
    "days_exposition скорее всего содержит пропуски из-за того, что объявления еще не сняты"
   ]
  },
  {
   "cell_type": "markdown",
   "metadata": {},
   "source": [
    "#### Вывод после предобработки\n",
    "\n",
    "При предобработке были сокращены все названия поселков, путём убирания пояснительных слов(\"коттеджный\", \"городского типа\", и т.д.), и замены буквы \"ё\" на \"е\". Таким образом удалось избежать неявных дубликатов. Также частично были устранены пропуски, где это возможно. В столбце с высотой потолков были использованы медианные значения, для заполнения пропусков. В столбце с балконами - было решено что причиной пропусков стало отсутствие балконов, так что они были заполнены нулями. Графа с датой снятия объявления имеет пропуски, теоретически, из-за не снятия объявления. Пропуски в географических данных обусловлены, предположительно, отсутсвием географических объектов, до которых измеряется расстояние. Пропуски в данных с площадями - оставлены как есть, по причине нехватки информации для их закрытия."
   ]
  },
  {
   "cell_type": "markdown",
   "metadata": {},
   "source": [
    "### Посчитайте и добавьте в таблицу новые столбцы"
   ]
  },
  {
   "cell_type": "code",
   "execution_count": 37,
   "metadata": {},
   "outputs": [],
   "source": [
    "# Добавляем столбец со стоимостью квадратного метра\n",
    "data['price_per_m'] = data.last_price / data.total_area\n",
    "# Столбец дней недели\n",
    "data['weekday'] = data.first_day_exposition.dt.weekday\n",
    "# Столбец с месяцами\n",
    "data['month'] = data.first_day_exposition.dt.month\n",
    "# Столбец с годами\n",
    "data['year'] = data.first_day_exposition.dt.year\n",
    "# Функция для группировки этажей, и применение её для создания нового столбца\n",
    "def grouping_floors(row):\n",
    "    if row['floor'] == 1:\n",
    "        return 'первый'\n",
    "    elif row['floor'] == row['floors_total']:\n",
    "        return 'последний'\n",
    "    else: return 'другой'\n",
    "    \n",
    "data['floor_type'] = data.apply(grouping_floors, axis=1)\n",
    "# Столбец с километражом до центра города\n",
    "data['km_to_city_center'] = round(data['cityCenters_nearest'] / 1000)\n"
   ]
  },
  {
   "cell_type": "code",
   "execution_count": 38,
   "metadata": {},
   "outputs": [
    {
     "data": {
      "text/plain": [
       "0    16.0\n",
       "1    19.0\n",
       "2    14.0\n",
       "4     8.0\n",
       "5     NaN\n",
       "Name: km_to_city_center, dtype: float64"
      ]
     },
     "execution_count": 38,
     "metadata": {},
     "output_type": "execute_result"
    }
   ],
   "source": [
    "data['km_to_city_center'].head()"
   ]
  },
  {
   "cell_type": "markdown",
   "metadata": {},
   "source": [
    "### Проведите исследовательский анализ данных"
   ]
  },
  {
   "cell_type": "code",
   "execution_count": 39,
   "metadata": {
    "scrolled": false
   },
   "outputs": [
    {
     "name": "stdout",
     "output_type": "stream",
     "text": [
      "<class 'pandas.core.frame.DataFrame'>\n",
      "Int64Index: 23010 entries, 0 to 23464\n",
      "Data columns (total 28 columns):\n",
      " #   Column                Non-Null Count  Dtype         \n",
      "---  ------                --------------  -----         \n",
      " 0   total_images          23010 non-null  int64         \n",
      " 1   last_price            23010 non-null  int64         \n",
      " 2   total_area            23010 non-null  float64       \n",
      " 3   first_day_exposition  23010 non-null  datetime64[ns]\n",
      " 4   rooms                 23010 non-null  int64         \n",
      " 5   ceiling_height        23010 non-null  float64       \n",
      " 6   floors_total          23010 non-null  int64         \n",
      " 7   living_area           21222 non-null  float64       \n",
      " 8   floor                 23010 non-null  int64         \n",
      " 9   is_apartment          23010 non-null  bool          \n",
      " 10  studio                23010 non-null  bool          \n",
      " 11  open_plan             23010 non-null  bool          \n",
      " 12  kitchen_area          20872 non-null  float64       \n",
      " 13  balcony               23010 non-null  float64       \n",
      " 14  locality_name         23010 non-null  object        \n",
      " 15  airports_nearest      17757 non-null  float64       \n",
      " 16  cityCenters_nearest   17777 non-null  float64       \n",
      " 17  parks_around3000      23010 non-null  int64         \n",
      " 18  parks_nearest         7810 non-null   float64       \n",
      " 19  ponds_around3000      23010 non-null  int64         \n",
      " 20  ponds_nearest         8814 non-null   float64       \n",
      " 21  days_exposition       19964 non-null  float64       \n",
      " 22  price_per_m           23010 non-null  float64       \n",
      " 23  weekday               23010 non-null  int64         \n",
      " 24  month                 23010 non-null  int64         \n",
      " 25  year                  23010 non-null  int64         \n",
      " 26  floor_type            23010 non-null  object        \n",
      " 27  km_to_city_center     17777 non-null  float64       \n",
      "dtypes: bool(3), datetime64[ns](1), float64(12), int64(10), object(2)\n",
      "memory usage: 4.6+ MB\n"
     ]
    }
   ],
   "source": [
    "data.info()"
   ]
  },
  {
   "cell_type": "code",
   "execution_count": 40,
   "metadata": {
    "scrolled": false
   },
   "outputs": [
    {
     "name": "stdout",
     "output_type": "stream",
     "text": [
      "total_area\n"
     ]
    },
    {
     "data": {
      "image/png": "[encoded data removed]",
      "text/plain": [
       "<Figure size 432x288 with 1 Axes>"
      ]
     },
     "metadata": {
      "needs_background": "light"
     },
     "output_type": "display_data"
    },
    {
     "name": "stdout",
     "output_type": "stream",
     "text": [
      "rooms\n"
     ]
    },
    {
     "data": {
      "image/png": "[encoded data removed]",
      "text/plain": [
       "<Figure size 432x288 with 1 Axes>"
      ]
     },
     "metadata": {
      "needs_background": "light"
     },
     "output_type": "display_data"
    },
    {
     "name": "stdout",
     "output_type": "stream",
     "text": [
      "ceiling_height\n"
     ]
    },
    {
     "data": {
      "image/png": "[encoded data removed]",
      "text/plain": [
       "<Figure size 432x288 with 1 Axes>"
      ]
     },
     "metadata": {
      "needs_background": "light"
     },
     "output_type": "display_data"
    },
    {
     "name": "stdout",
     "output_type": "stream",
     "text": [
      "floors_total\n"
     ]
    },
    {
     "data": {
      "image/png": "[encoded data removed]",
      "text/plain": [
       "<Figure size 432x288 with 1 Axes>"
      ]
     },
     "metadata": {
      "needs_background": "light"
     },
     "output_type": "display_data"
    },
    {
     "name": "stdout",
     "output_type": "stream",
     "text": [
      "living_area\n"
     ]
    },
    {
     "data": {
      "image/png": "[encoded data removed]",
      "text/plain": [
       "<Figure size 432x288 with 1 Axes>"
      ]
     },
     "metadata": {
      "needs_background": "light"
     },
     "output_type": "display_data"
    },
    {
     "name": "stdout",
     "output_type": "stream",
     "text": [
      "airports_nearest\n"
     ]
    },
    {
     "data": {
      "image/png": "[encoded data removed]",
      "text/plain": [
       "<Figure size 432x288 with 1 Axes>"
      ]
     },
     "metadata": {
      "needs_background": "light"
     },
     "output_type": "display_data"
    },
    {
     "name": "stdout",
     "output_type": "stream",
     "text": [
      "cityCenters_nearest\n"
     ]
    },
    {
     "data": {
      "image/png": "[encoded data removed]",
      "text/plain": [
       "<Figure size 432x288 with 1 Axes>"
      ]
     },
     "metadata": {
      "needs_background": "light"
     },
     "output_type": "display_data"
    },
    {
     "name": "stdout",
     "output_type": "stream",
     "text": [
      "parks_nearest\n"
     ]
    },
    {
     "data": {
      "image/png": "[encoded data removed]",
      "text/plain": [
       "<Figure size 432x288 with 1 Axes>"
      ]
     },
     "metadata": {
      "needs_background": "light"
     },
     "output_type": "display_data"
    },
    {
     "name": "stdout",
     "output_type": "stream",
     "text": [
      "weekday\n"
     ]
    },
    {
     "data": {
      "image/png": "[encoded data removed]",
      "text/plain": [
       "<Figure size 432x288 with 1 Axes>"
      ]
     },
     "metadata": {
      "needs_background": "light"
     },
     "output_type": "display_data"
    },
    {
     "name": "stdout",
     "output_type": "stream",
     "text": [
      "month\n"
     ]
    },
    {
     "data": {
      "image/png": "[encoded data removed]",
      "text/plain": [
       "<Figure size 432x288 with 1 Axes>"
      ]
     },
     "metadata": {
      "needs_background": "light"
     },
     "output_type": "display_data"
    },
    {
     "name": "stdout",
     "output_type": "stream",
     "text": [
      "floor_type\n"
     ]
    },
    {
     "data": {
      "image/png": "[encoded data removed]",
      "text/plain": [
       "<Figure size 432x288 with 1 Axes>"
      ]
     },
     "metadata": {
      "needs_background": "light"
     },
     "output_type": "display_data"
    }
   ],
   "source": [
    "columns = ['total_area',\n",
    "        'rooms', 'ceiling_height', 'floors_total', 'living_area',\n",
    "        'airports_nearest', 'cityCenters_nearest', 'parks_nearest', \n",
    "        'weekday', 'month', 'floor_type']\n",
    "\n",
    "for column in columns:\n",
    "    print(column)\n",
    "    data[column].hist(bins=50)\n",
    "    plt.show()\n",
    "    \n",
    "None\n",
    "# не работает проход в цикле, будто строит на одной плоскости всё"
   ]
  },
  {
   "cell_type": "code",
   "execution_count": 41,
   "metadata": {
    "scrolled": true
   },
   "outputs": [
    {
     "data": {
      "image/png": "[encoded data removed]",
      "text/plain": [
       "<Figure size 432x288 with 1 Axes>"
      ]
     },
     "metadata": {
      "needs_background": "light"
     },
     "output_type": "display_data"
    }
   ],
   "source": [
    "data.last_price.plot(kind='hist', title='last price', range=(10000, 20000000))\n",
    "None"
   ]
  },
  {
   "cell_type": "markdown",
   "metadata": {},
   "source": [
    "#### Days exposition exploring."
   ]
  },
  {
   "cell_type": "code",
   "execution_count": 42,
   "metadata": {},
   "outputs": [
    {
     "data": {
      "text/plain": [
       "count    19964.000000\n",
       "mean       179.971449\n",
       "std        219.199656\n",
       "min          1.000000\n",
       "25%         45.000000\n",
       "50%         95.000000\n",
       "75%        229.000000\n",
       "max       1580.000000\n",
       "Name: days_exposition, dtype: float64"
      ]
     },
     "execution_count": 42,
     "metadata": {},
     "output_type": "execute_result"
    }
   ],
   "source": [
    "data.days_exposition.describe()"
   ]
  },
  {
   "cell_type": "code",
   "execution_count": 43,
   "metadata": {
    "scrolled": true
   },
   "outputs": [
    {
     "data": {
      "image/png": "[encoded data removed]",
      "text/plain": [
       "<Figure size 432x288 with 1 Axes>"
      ]
     },
     "metadata": {
      "needs_background": "light"
     },
     "output_type": "display_data"
    }
   ],
   "source": [
    "data.days_exposition.hist()\n",
    "None"
   ]
  },
  {
   "cell_type": "markdown",
   "metadata": {},
   "source": [
    "В медианном значении продажа квартиры занимает 95 дней, при этом есть и продажи меньше чем за 10 дней, что кажется аномально маленьким, также есть, напротив, продажи, более чем за 3 года, что кажется аномально высоким показателем."
   ]
  },
  {
   "cell_type": "markdown",
   "metadata": {},
   "source": [
    "#### *Изучение зависимостей*"
   ]
  },
  {
   "cell_type": "code",
   "execution_count": 44,
   "metadata": {
    "scrolled": false
   },
   "outputs": [
    {
     "name": "stdout",
     "output_type": "stream",
     "text": [
      "0.7915020087321721\n"
     ]
    },
    {
     "data": {
      "image/png": "[encoded data removed]",
      "text/plain": [
       "<Figure size 432x288 with 1 Axes>"
      ]
     },
     "metadata": {
      "needs_background": "light"
     },
     "output_type": "display_data"
    }
   ],
   "source": [
    "print(data.last_price.corr(data.total_area))\n",
    "data.plot(x='total_area', y='last_price', kind='scatter', alpha=0.1)\n",
    "\n",
    "#data.pivot_table(index='total_area', values='last_price', aggfunc='median').plot(style='o-')\n",
    "None"
   ]
  },
  {
   "cell_type": "markdown",
   "metadata": {},
   "source": [
    "Исходя из корреляции и графиков - можно увидеть положительную зависимость цены, от площади квартиры."
   ]
  },
  {
   "cell_type": "code",
   "execution_count": 45,
   "metadata": {
    "scrolled": true
   },
   "outputs": [
    {
     "name": "stdout",
     "output_type": "stream",
     "text": [
      "0.6988219402175992\n",
      "0.9342898951693797\n"
     ]
    },
    {
     "data": {
      "image/png": "[encoded data removed]",
      "text/plain": [
       "<Figure size 432x288 with 1 Axes>"
      ]
     },
     "metadata": {
      "needs_background": "light"
     },
     "output_type": "display_data"
    }
   ],
   "source": [
    "print(data.last_price.corr(data.living_area), data.total_area.corr(data.living_area), sep='\\n')\n",
    "data.plot(x='living_area', y='last_price', kind='scatter', alpha=0.1)\n",
    "None\n",
    "#data.pivot_table(index='total_area', values='last_price', aggfunc='median').plot(style='o-')"
   ]
  },
  {
   "cell_type": "markdown",
   "metadata": {},
   "source": [
    "Так как, что не удивительно, корреляция между общей площадью и жилой - почти 1, и корреляция с ценой сохраняется положительная."
   ]
  },
  {
   "cell_type": "code",
   "execution_count": 46,
   "metadata": {},
   "outputs": [
    {
     "name": "stdout",
     "output_type": "stream",
     "text": [
      "0.6015123209215957\n"
     ]
    },
    {
     "data": {
      "image/png": "[encoded data removed]",
      "text/plain": [
       "<Figure size 432x288 with 1 Axes>"
      ]
     },
     "metadata": {
      "needs_background": "light"
     },
     "output_type": "display_data"
    }
   ],
   "source": [
    "print(data.last_price.corr(data.kitchen_area))\n",
    "data.plot(x='kitchen_area', y='last_price', kind='scatter', alpha=0.1)\n",
    "None"
   ]
  },
  {
   "cell_type": "code",
   "execution_count": 47,
   "metadata": {},
   "outputs": [
    {
     "data": {
      "image/png": "[encoded data removed]",
      "text/plain": [
       "<Figure size 432x288 with 1 Axes>"
      ]
     },
     "metadata": {
      "needs_background": "light"
     },
     "output_type": "display_data"
    }
   ],
   "source": [
    "'''print(data.last_price.corr(data.rooms))\n",
    "data.plot(x='rooms', y='last_price', kind='scatter', alpha=0.1)\n",
    "None'''\n",
    "data.pivot_table(index='rooms', values='last_price', aggfunc='median').plot(kind='bar', grid=True, logy=True)\n",
    "None"
   ]
  },
  {
   "cell_type": "code",
   "execution_count": 48,
   "metadata": {
    "scrolled": true
   },
   "outputs": [
    {
     "data": {
      "image/png": "[encoded data removed]",
      "text/plain": [
       "<Figure size 432x288 with 1 Axes>"
      ]
     },
     "metadata": {
      "needs_background": "light"
     },
     "output_type": "display_data"
    }
   ],
   "source": [
    "#data.plot(x='floor_type', y='last_price', kind='scatter')\n",
    "\n",
    "data.pivot_table(index='floor_type', values='last_price', aggfunc='median')\\\n",
    "    .plot(kind='bar', grid=True, logy=True)\n",
    "None"
   ]
  },
  {
   "cell_type": "code",
   "execution_count": 49,
   "metadata": {},
   "outputs": [
    {
     "data": {
      "image/png": "[encoded data removed]",
      "text/plain": [
       "<Figure size 432x288 with 1 Axes>"
      ]
     },
     "metadata": {
      "needs_background": "light"
     },
     "output_type": "display_data"
    }
   ],
   "source": [
    "\n",
    "data.pivot_table(index='weekday', values='last_price', aggfunc='median')\\\n",
    "    .plot(kind='bar', grid=True, logy=True)\n",
    "None"
   ]
  },
  {
   "cell_type": "markdown",
   "metadata": {},
   "source": [
    "Зависимость цены от дня недели, в который было выложено объявление - отсутствует, хотя медианные значения на выходных - самые низкие, но в эти дни выкладывается и меньше объявлений."
   ]
  },
  {
   "cell_type": "code",
   "execution_count": 50,
   "metadata": {
    "scrolled": true
   },
   "outputs": [
    {
     "data": {
      "image/png": "[encoded data removed]",
      "text/plain": [
       "<Figure size 432x288 with 1 Axes>"
      ]
     },
     "metadata": {
      "needs_background": "light"
     },
     "output_type": "display_data"
    }
   ],
   "source": [
    "#print(data.last_price.corr(data.month))\n",
    "#data.plot(x='month', y='last_price', kind='scatter')\n",
    "\n",
    "data.pivot_table(index='month', values='last_price', aggfunc='median')\\\n",
    "    .plot(kind='bar', grid=True, logy=True)\n",
    "None"
   ]
  },
  {
   "cell_type": "markdown",
   "metadata": {},
   "source": [
    "Зависимости от месяца, в котором было выложено объявления - нет, что видно и из графиков, и по значению корреляции."
   ]
  },
  {
   "cell_type": "code",
   "execution_count": 51,
   "metadata": {},
   "outputs": [
    {
     "data": {
      "image/png": "[encoded data removed]",
      "text/plain": [
       "<Figure size 432x288 with 1 Axes>"
      ]
     },
     "metadata": {
      "needs_background": "light"
     },
     "output_type": "display_data"
    }
   ],
   "source": [
    "#print(data.last_price.corr(data.year))\n",
    "#data.plot(x='year', y='last_price', kind='scatter')\n",
    "\n",
    "data.pivot_table(index='year', values='last_price', aggfunc='median')\\\n",
    "    .plot(kind='bar', grid=True, logy=True)\n",
    "None"
   ]
  },
  {
   "cell_type": "markdown",
   "metadata": {},
   "source": [
    "Исходя из графиков видно, что всреднем за период с 2014 по 2018 года - цены на недвижимость снижались, но в 2019 чуть-чуть выросли. При этом корреляция незначительная(но отрицательная)."
   ]
  },
  {
   "cell_type": "markdown",
   "metadata": {},
   "source": [
    "#### Топ 10 населенных пунктов по популярности"
   ]
  },
  {
   "cell_type": "code",
   "execution_count": 52,
   "metadata": {},
   "outputs": [
    {
     "data": {
      "text/html": [
       "<div>\n",
       "<style scoped>\n",
       "    .dataframe tbody tr th:only-of-type {\n",
       "        vertical-align: middle;\n",
       "    }\n",
       "\n",
       "    .dataframe tbody tr th {\n",
       "        vertical-align: top;\n",
       "    }\n",
       "\n",
       "    .dataframe thead th {\n",
       "        text-align: right;\n",
       "    }\n",
       "</style>\n",
       "<table border=\"1\" class=\"dataframe\">\n",
       "  <thead>\n",
       "    <tr style=\"text-align: right;\">\n",
       "      <th></th>\n",
       "      <th>locality_name</th>\n",
       "      <th>count</th>\n",
       "    </tr>\n",
       "  </thead>\n",
       "  <tbody>\n",
       "    <tr>\n",
       "      <th>0</th>\n",
       "      <td>Санкт-Петербург</td>\n",
       "      <td>15330</td>\n",
       "    </tr>\n",
       "    <tr>\n",
       "      <th>1</th>\n",
       "      <td>поселок Мурино</td>\n",
       "      <td>550</td>\n",
       "    </tr>\n",
       "    <tr>\n",
       "      <th>2</th>\n",
       "      <td>поселок Шушары</td>\n",
       "      <td>439</td>\n",
       "    </tr>\n",
       "    <tr>\n",
       "      <th>3</th>\n",
       "      <td>Всеволожск</td>\n",
       "      <td>395</td>\n",
       "    </tr>\n",
       "    <tr>\n",
       "      <th>4</th>\n",
       "      <td>Пушкин</td>\n",
       "      <td>364</td>\n",
       "    </tr>\n",
       "    <tr>\n",
       "      <th>5</th>\n",
       "      <td>Колпино</td>\n",
       "      <td>336</td>\n",
       "    </tr>\n",
       "    <tr>\n",
       "      <th>6</th>\n",
       "      <td>поселок Парголово</td>\n",
       "      <td>326</td>\n",
       "    </tr>\n",
       "    <tr>\n",
       "      <th>7</th>\n",
       "      <td>Гатчина</td>\n",
       "      <td>305</td>\n",
       "    </tr>\n",
       "    <tr>\n",
       "      <th>8</th>\n",
       "      <td>деревня Кудрово</td>\n",
       "      <td>299</td>\n",
       "    </tr>\n",
       "    <tr>\n",
       "      <th>9</th>\n",
       "      <td>Выборг</td>\n",
       "      <td>230</td>\n",
       "    </tr>\n",
       "  </tbody>\n",
       "</table>\n",
       "</div>"
      ],
      "text/plain": [
       "       locality_name  count\n",
       "0    Санкт-Петербург  15330\n",
       "1     поселок Мурино    550\n",
       "2     поселок Шушары    439\n",
       "3         Всеволожск    395\n",
       "4             Пушкин    364\n",
       "5            Колпино    336\n",
       "6  поселок Парголово    326\n",
       "7            Гатчина    305\n",
       "8    деревня Кудрово    299\n",
       "9             Выборг    230"
      ]
     },
     "execution_count": 52,
     "metadata": {},
     "output_type": "execute_result"
    }
   ],
   "source": [
    "top_10 = data.locality_name.value_counts().head(10)\n",
    "top_10 = pd.DataFrame({'locality_name':top_10.index, 'count':top_10}).reset_index(drop=True)\n",
    "top_10"
   ]
  },
  {
   "cell_type": "code",
   "execution_count": 53,
   "metadata": {},
   "outputs": [],
   "source": [
    "grouped = data\\\n",
    ".pivot_table(index='locality_name', values='price_per_m', aggfunc='mean')"
   ]
  },
  {
   "cell_type": "code",
   "execution_count": 54,
   "metadata": {},
   "outputs": [],
   "source": [
    "top_10 = grouped.loc[top_10.locality_name]"
   ]
  },
  {
   "cell_type": "code",
   "execution_count": 55,
   "metadata": {},
   "outputs": [],
   "source": [
    "top_10 = top_10.sort_values('price_per_m', ascending=False)"
   ]
  },
  {
   "cell_type": "code",
   "execution_count": 56,
   "metadata": {},
   "outputs": [
    {
     "data": {
      "image/png": "[encoded data removed]",
      "text/plain": [
       "<Figure size 432x288 with 1 Axes>"
      ]
     },
     "metadata": {
      "needs_background": "light"
     },
     "output_type": "display_data"
    }
   ],
   "source": [
    "top_10.plot(kind='bar', grid=True, logy=True)\n",
    "None"
   ]
  },
  {
   "cell_type": "markdown",
   "metadata": {},
   "source": [
    "Самая низкая цена из топ 10 самых популярных населенных пунктов - Выборг, с ценой около 58000 за квадратный метр. В Санкт-Петербурге же, как в самом популярном городе - цена состовляет около 114000 за квадратный метр, что почти в два раза больше."
   ]
  },
  {
   "cell_type": "markdown",
   "metadata": {},
   "source": [
    "#### Цена за километры"
   ]
  },
  {
   "cell_type": "code",
   "execution_count": 57,
   "metadata": {},
   "outputs": [
    {
     "data": {
      "text/html": [
       "<div>\n",
       "<style scoped>\n",
       "    .dataframe tbody tr th:only-of-type {\n",
       "        vertical-align: middle;\n",
       "    }\n",
       "\n",
       "    .dataframe tbody tr th {\n",
       "        vertical-align: top;\n",
       "    }\n",
       "\n",
       "    .dataframe thead th {\n",
       "        text-align: right;\n",
       "    }\n",
       "</style>\n",
       "<table border=\"1\" class=\"dataframe\">\n",
       "  <thead>\n",
       "    <tr style=\"text-align: right;\">\n",
       "      <th></th>\n",
       "      <th>locality_name</th>\n",
       "      <th>last_price</th>\n",
       "      <th>km_to_city_center</th>\n",
       "      <th>price_per_km</th>\n",
       "    </tr>\n",
       "  </thead>\n",
       "  <tbody>\n",
       "    <tr>\n",
       "      <th>0</th>\n",
       "      <td>Санкт-Петербург</td>\n",
       "      <td>13000000</td>\n",
       "      <td>16.0</td>\n",
       "      <td>8.125000e+05</td>\n",
       "    </tr>\n",
       "    <tr>\n",
       "      <th>2</th>\n",
       "      <td>Санкт-Петербург</td>\n",
       "      <td>5196000</td>\n",
       "      <td>14.0</td>\n",
       "      <td>3.711429e+05</td>\n",
       "    </tr>\n",
       "    <tr>\n",
       "      <th>4</th>\n",
       "      <td>Санкт-Петербург</td>\n",
       "      <td>10000000</td>\n",
       "      <td>8.0</td>\n",
       "      <td>1.250000e+06</td>\n",
       "    </tr>\n",
       "    <tr>\n",
       "      <th>7</th>\n",
       "      <td>Санкт-Петербург</td>\n",
       "      <td>7915000</td>\n",
       "      <td>12.0</td>\n",
       "      <td>6.595833e+05</td>\n",
       "    </tr>\n",
       "    <tr>\n",
       "      <th>9</th>\n",
       "      <td>Санкт-Петербург</td>\n",
       "      <td>5400000</td>\n",
       "      <td>15.0</td>\n",
       "      <td>3.600000e+05</td>\n",
       "    </tr>\n",
       "    <tr>\n",
       "      <th>...</th>\n",
       "      <td>...</td>\n",
       "      <td>...</td>\n",
       "      <td>...</td>\n",
       "      <td>...</td>\n",
       "    </tr>\n",
       "    <tr>\n",
       "      <th>23455</th>\n",
       "      <td>Санкт-Петербург</td>\n",
       "      <td>3550000</td>\n",
       "      <td>16.0</td>\n",
       "      <td>2.218750e+05</td>\n",
       "    </tr>\n",
       "    <tr>\n",
       "      <th>23456</th>\n",
       "      <td>Санкт-Петербург</td>\n",
       "      <td>5500000</td>\n",
       "      <td>6.0</td>\n",
       "      <td>9.166667e+05</td>\n",
       "    </tr>\n",
       "    <tr>\n",
       "      <th>23457</th>\n",
       "      <td>Санкт-Петербург</td>\n",
       "      <td>9470000</td>\n",
       "      <td>4.0</td>\n",
       "      <td>2.367500e+06</td>\n",
       "    </tr>\n",
       "    <tr>\n",
       "      <th>23460</th>\n",
       "      <td>Санкт-Петербург</td>\n",
       "      <td>9700000</td>\n",
       "      <td>4.0</td>\n",
       "      <td>2.425000e+06</td>\n",
       "    </tr>\n",
       "    <tr>\n",
       "      <th>23463</th>\n",
       "      <td>Санкт-Петербург</td>\n",
       "      <td>11475000</td>\n",
       "      <td>10.0</td>\n",
       "      <td>1.147500e+06</td>\n",
       "    </tr>\n",
       "  </tbody>\n",
       "</table>\n",
       "<p>15330 rows × 4 columns</p>\n",
       "</div>"
      ],
      "text/plain": [
       "         locality_name  last_price  km_to_city_center  price_per_km\n",
       "0      Санкт-Петербург    13000000               16.0  8.125000e+05\n",
       "2      Санкт-Петербург     5196000               14.0  3.711429e+05\n",
       "4      Санкт-Петербург    10000000                8.0  1.250000e+06\n",
       "7      Санкт-Петербург     7915000               12.0  6.595833e+05\n",
       "9      Санкт-Петербург     5400000               15.0  3.600000e+05\n",
       "...                ...         ...                ...           ...\n",
       "23455  Санкт-Петербург     3550000               16.0  2.218750e+05\n",
       "23456  Санкт-Петербург     5500000                6.0  9.166667e+05\n",
       "23457  Санкт-Петербург     9470000                4.0  2.367500e+06\n",
       "23460  Санкт-Петербург     9700000                4.0  2.425000e+06\n",
       "23463  Санкт-Петербург    11475000               10.0  1.147500e+06\n",
       "\n",
       "[15330 rows x 4 columns]"
      ]
     },
     "execution_count": 57,
     "metadata": {},
     "output_type": "execute_result"
    }
   ],
   "source": [
    "saint_pt_data = data.query('locality_name == \"Санкт-Петербург\"')\n",
    "saint_pt_data = saint_pt_data.filter(['locality_name','last_price','km_to_city_center'], axis=1)\n",
    "saint_pt_data['price_per_km'] = saint_pt_data['last_price'] / saint_pt_data['km_to_city_center']\n",
    "\n",
    "saint_pt_data\n"
   ]
  },
  {
   "cell_type": "code",
   "execution_count": 58,
   "metadata": {},
   "outputs": [
    {
     "data": {
      "text/plain": [
       "<AxesSubplot:xlabel='km_to_city_center'>"
      ]
     },
     "execution_count": 58,
     "metadata": {},
     "output_type": "execute_result"
    },
    {
     "data": {
      "image/png": "[encoded data removed]",
      "text/plain": [
       "<Figure size 432x288 with 1 Axes>"
      ]
     },
     "metadata": {
      "needs_background": "light"
     },
     "output_type": "display_data"
    }
   ],
   "source": [
    "saint_pt_data.pivot_table(index='km_to_city_center', values='last_price', aggfunc='median')\\\n",
    "    .plot(kind='bar', grid=True, logy=True)"
   ]
  },
  {
   "cell_type": "markdown",
   "metadata": {},
   "source": [
    "#### Промежуточный вывод\n",
    "\n",
    "Из графика видно, что в самом центре квартиры стоят резко дороже, чем в остальном, в районе 10-20 км наблюдается самый ровный участок(плато?), а дальше цены ведут себя не однозначно, для понимания причин - нужно смотреть на другие признаки."
   ]
  },
  {
   "cell_type": "markdown",
   "metadata": {},
   "source": [
    "### Общий вывод"
   ]
  },
  {
   "cell_type": "markdown",
   "metadata": {},
   "source": [
    "В ходе предобработки данные были модифицированы следующим образом:\n",
    "   - Столбец `locality_name` был избавлен от неявных дубликатов, путем устранения поясняющих слов, и замены \"ё\" на \"е\".\n",
    "   - Пропуски столбца `balcony` были заполнены нулями, считая что пропускают данную графу люди, не имеющие балконов.\n",
    "   - Пропуски столбца `ceiling_height` были заполнены медианными значениями, также в данном столбце были замечены аномально маленькие значения (75 квартир с потолками менее 2.5м), и аномально большие (75 квартир с потолками выше 4м). Всвязи с небольшим количеством аномальных данных - данные строки были отброшены.\n",
    "   - Был изменен тип данных `first_day_exposition` на соответствующий типу для хранения дат.\n",
    "   - Пропуски в географических данных, соответствующие небольшим поселкам были оставлены, так как их удаление могло привести к потере значимых данных.\n",
    "   - Пропуски в названиях населенных пунктов были заполнены фразой 'n/a'\n",
    "   - Пропуски в графе `days_exposition` скорее всего вызваны тем, что объявления ещё актуальны\n",
    "    \n",
    "Также при проведении исследования были выявлены зависимости итоговой цены объекта недвижимости от таких факторов, как:\n",
    "   * `total_area` – общая площадь, её увеличение напрямую влияет на увеличение стоимости недвижимости\n",
    "   * `year` - виден отрицательный рост цен на недвижимость с 2014го года, который плавно перешел в положительный в 2017 году, но медианная цена 2019 года не достигла показателей 2015го\n",
    "   * `rooms` - заметно что рост цены сильно замедляется после того, как количество комнат достигает 7и, но до этого - цена стабильно растет.\n",
    "   \n",
    "Удалось проследить сезонность публикации объявлений, так в зимние месяцы - объявлений до двух раз больше, чем летом, также и цена недвижимости выложенной летом, всреднем, ниже, того же показателя в остальные месяцы. При этом в выходные - занятие продажей недвижимости сильно теряет свою популярность(частота в сб-вс в два раза меньше чем в чт-пт), также как и цена выкладываемых в выходные объектов недвижимости - резко падает."
   ]
  }
 ],
 "metadata": {
  "ExecuteTimeLog": [
   {
    "duration": 408,
    "start_time": "2022-08-31T13:45:02.508Z"
   },
   {
    "duration": 300,
    "start_time": "2022-08-31T13:45:23.629Z"
   },
   {
    "duration": 15,
    "start_time": "2022-08-31T13:45:37.403Z"
   },
   {
    "duration": 12,
    "start_time": "2022-08-31T13:45:50.161Z"
   },
   {
    "duration": 54,
    "start_time": "2022-08-31T13:46:02.739Z"
   },
   {
    "duration": 94,
    "start_time": "2022-08-31T13:46:07.836Z"
   },
   {
    "duration": 33,
    "start_time": "2022-08-31T13:46:08.487Z"
   },
   {
    "duration": 15,
    "start_time": "2022-08-31T13:46:15.434Z"
   },
   {
    "duration": 32,
    "start_time": "2022-08-31T13:46:57.231Z"
   },
   {
    "duration": 78,
    "start_time": "2022-08-31T13:48:20.591Z"
   },
   {
    "duration": 31,
    "start_time": "2022-08-31T13:52:18.915Z"
   },
   {
    "duration": 2626,
    "start_time": "2022-08-31T13:55:35.846Z"
   },
   {
    "duration": 49,
    "start_time": "2022-08-31T20:50:40.042Z"
   },
   {
    "duration": 405,
    "start_time": "2022-08-31T20:50:45.980Z"
   },
   {
    "duration": 689,
    "start_time": "2022-08-31T20:50:46.387Z"
   },
   {
    "duration": 13,
    "start_time": "2022-08-31T20:50:47.078Z"
   },
   {
    "duration": 25,
    "start_time": "2022-08-31T20:50:47.093Z"
   },
   {
    "duration": 60,
    "start_time": "2022-08-31T20:50:47.119Z"
   },
   {
    "duration": 2088,
    "start_time": "2022-08-31T20:50:47.181Z"
   },
   {
    "duration": 51,
    "start_time": "2022-08-31T20:53:04.617Z"
   },
   {
    "duration": 54,
    "start_time": "2022-08-31T20:53:26.818Z"
   },
   {
    "duration": 40,
    "start_time": "2022-08-31T20:53:41.637Z"
   },
   {
    "duration": 7,
    "start_time": "2022-08-31T20:53:48.758Z"
   },
   {
    "duration": 8,
    "start_time": "2022-08-31T20:54:24.038Z"
   },
   {
    "duration": 30,
    "start_time": "2022-08-31T20:57:46.568Z"
   },
   {
    "duration": 7,
    "start_time": "2022-08-31T20:59:02.528Z"
   },
   {
    "duration": 8,
    "start_time": "2022-08-31T20:59:07.258Z"
   },
   {
    "duration": 4,
    "start_time": "2022-08-31T20:59:12.972Z"
   },
   {
    "duration": 6,
    "start_time": "2022-08-31T20:59:45.728Z"
   },
   {
    "duration": 4,
    "start_time": "2022-08-31T20:59:49.290Z"
   },
   {
    "duration": 9,
    "start_time": "2022-08-31T21:04:35.766Z"
   },
   {
    "duration": 41,
    "start_time": "2022-08-31T21:04:46.812Z"
   },
   {
    "duration": 8,
    "start_time": "2022-08-31T21:06:57.461Z"
   },
   {
    "duration": 8,
    "start_time": "2022-08-31T21:07:15.507Z"
   },
   {
    "duration": 8,
    "start_time": "2022-08-31T21:07:27.161Z"
   },
   {
    "duration": 34,
    "start_time": "2022-08-31T21:07:51.929Z"
   },
   {
    "duration": 6,
    "start_time": "2022-08-31T21:08:27.168Z"
   },
   {
    "duration": 3,
    "start_time": "2022-08-31T21:09:21.962Z"
   },
   {
    "duration": 100,
    "start_time": "2022-08-31T21:09:27.056Z"
   },
   {
    "duration": 30,
    "start_time": "2022-08-31T21:10:29.261Z"
   },
   {
    "duration": 29,
    "start_time": "2022-08-31T21:42:05.892Z"
   },
   {
    "duration": 26,
    "start_time": "2022-08-31T21:42:15.025Z"
   },
   {
    "duration": 17,
    "start_time": "2022-08-31T21:42:28.776Z"
   },
   {
    "duration": 15,
    "start_time": "2022-08-31T21:42:45.670Z"
   },
   {
    "duration": 7,
    "start_time": "2022-08-31T21:43:12.031Z"
   },
   {
    "duration": 11,
    "start_time": "2022-08-31T21:43:20.048Z"
   },
   {
    "duration": 8,
    "start_time": "2022-08-31T21:43:39.290Z"
   },
   {
    "duration": 5,
    "start_time": "2022-08-31T21:43:50.270Z"
   },
   {
    "duration": 39,
    "start_time": "2022-08-31T21:44:30.365Z"
   },
   {
    "duration": 15,
    "start_time": "2022-08-31T21:45:37.263Z"
   },
   {
    "duration": 21,
    "start_time": "2022-08-31T21:45:51.689Z"
   },
   {
    "duration": 51,
    "start_time": "2022-08-31T21:46:02.575Z"
   },
   {
    "duration": 15,
    "start_time": "2022-08-31T21:46:13.845Z"
   },
   {
    "duration": 18,
    "start_time": "2022-08-31T21:47:34.915Z"
   },
   {
    "duration": 28,
    "start_time": "2022-08-31T21:48:34.490Z"
   },
   {
    "duration": 27,
    "start_time": "2022-08-31T21:48:45.463Z"
   },
   {
    "duration": 17,
    "start_time": "2022-08-31T21:48:56.329Z"
   },
   {
    "duration": 17,
    "start_time": "2022-08-31T21:49:00.911Z"
   },
   {
    "duration": 20,
    "start_time": "2022-08-31T21:49:07.667Z"
   },
   {
    "duration": 4,
    "start_time": "2022-08-31T21:51:15.910Z"
   },
   {
    "duration": 847,
    "start_time": "2022-08-31T21:54:38.361Z"
   },
   {
    "duration": 718,
    "start_time": "2022-08-31T21:56:42.111Z"
   },
   {
    "duration": 717,
    "start_time": "2022-08-31T21:56:46.962Z"
   },
   {
    "duration": 15,
    "start_time": "2022-08-31T21:58:26.922Z"
   },
   {
    "duration": 49,
    "start_time": "2022-08-31T21:58:41.893Z"
   },
   {
    "duration": 13,
    "start_time": "2022-08-31T21:58:51.024Z"
   },
   {
    "duration": 12,
    "start_time": "2022-08-31T21:59:05.054Z"
   },
   {
    "duration": 13,
    "start_time": "2022-08-31T21:59:50.464Z"
   },
   {
    "duration": 2,
    "start_time": "2022-08-31T21:59:58.734Z"
   },
   {
    "duration": 89,
    "start_time": "2022-08-31T21:59:58.737Z"
   },
   {
    "duration": 12,
    "start_time": "2022-08-31T21:59:58.828Z"
   },
   {
    "duration": 22,
    "start_time": "2022-08-31T21:59:58.842Z"
   },
   {
    "duration": 1656,
    "start_time": "2022-08-31T21:59:58.865Z"
   },
   {
    "duration": 22,
    "start_time": "2022-08-31T22:00:00.523Z"
   },
   {
    "duration": 27,
    "start_time": "2022-08-31T22:00:00.547Z"
   },
   {
    "duration": 54,
    "start_time": "2022-08-31T22:00:00.576Z"
   },
   {
    "duration": 11,
    "start_time": "2022-08-31T22:00:00.633Z"
   },
   {
    "duration": 11,
    "start_time": "2022-08-31T22:00:00.646Z"
   },
   {
    "duration": 41,
    "start_time": "2022-08-31T22:00:00.658Z"
   },
   {
    "duration": 5,
    "start_time": "2022-08-31T22:01:33.571Z"
   },
   {
    "duration": 5,
    "start_time": "2022-08-31T22:01:43.580Z"
   },
   {
    "duration": 3,
    "start_time": "2022-08-31T22:01:50.824Z"
   },
   {
    "duration": 98,
    "start_time": "2022-08-31T22:01:50.829Z"
   },
   {
    "duration": 12,
    "start_time": "2022-08-31T22:01:50.929Z"
   },
   {
    "duration": 21,
    "start_time": "2022-08-31T22:01:50.942Z"
   },
   {
    "duration": 1795,
    "start_time": "2022-08-31T22:01:50.965Z"
   },
   {
    "duration": 21,
    "start_time": "2022-08-31T22:01:52.761Z"
   },
   {
    "duration": 23,
    "start_time": "2022-08-31T22:01:52.783Z"
   },
   {
    "duration": 7,
    "start_time": "2022-08-31T22:02:01.924Z"
   },
   {
    "duration": 3,
    "start_time": "2022-08-31T22:03:45.634Z"
   },
   {
    "duration": 20,
    "start_time": "2022-08-31T22:03:48.307Z"
   },
   {
    "duration": 9,
    "start_time": "2022-08-31T22:05:12.737Z"
   },
   {
    "duration": 8,
    "start_time": "2022-08-31T22:05:44.060Z"
   },
   {
    "duration": 8,
    "start_time": "2022-08-31T22:05:57.251Z"
   },
   {
    "duration": 32,
    "start_time": "2022-08-31T22:06:09.494Z"
   },
   {
    "duration": 9,
    "start_time": "2022-08-31T22:07:10.586Z"
   },
   {
    "duration": 3,
    "start_time": "2022-08-31T22:07:38.049Z"
   },
   {
    "duration": 15,
    "start_time": "2022-08-31T22:07:43.695Z"
   },
   {
    "duration": 8,
    "start_time": "2022-08-31T22:07:54.081Z"
   },
   {
    "duration": 5,
    "start_time": "2022-08-31T22:08:02.061Z"
   },
   {
    "duration": 3,
    "start_time": "2022-08-31T22:08:09.738Z"
   },
   {
    "duration": 15,
    "start_time": "2022-08-31T22:08:21.895Z"
   },
   {
    "duration": 31,
    "start_time": "2022-08-31T22:08:49.981Z"
   },
   {
    "duration": 19,
    "start_time": "2022-08-31T22:09:33.363Z"
   },
   {
    "duration": 4,
    "start_time": "2022-08-31T22:18:59.424Z"
   },
   {
    "duration": 3,
    "start_time": "2022-08-31T22:19:17.162Z"
   },
   {
    "duration": 9,
    "start_time": "2022-08-31T22:23:36.212Z"
   },
   {
    "duration": 7,
    "start_time": "2022-08-31T22:25:12.607Z"
   },
   {
    "duration": 10,
    "start_time": "2022-08-31T22:28:29.303Z"
   },
   {
    "duration": 14,
    "start_time": "2022-08-31T22:28:57.852Z"
   },
   {
    "duration": 21,
    "start_time": "2022-08-31T22:29:27.952Z"
   },
   {
    "duration": 426,
    "start_time": "2022-09-01T08:44:10.797Z"
   },
   {
    "duration": 320,
    "start_time": "2022-09-01T08:44:11.225Z"
   },
   {
    "duration": 15,
    "start_time": "2022-09-01T08:44:11.546Z"
   },
   {
    "duration": 31,
    "start_time": "2022-09-01T08:44:11.563Z"
   },
   {
    "duration": 2342,
    "start_time": "2022-09-01T08:44:11.596Z"
   },
   {
    "duration": 20,
    "start_time": "2022-09-01T08:44:13.940Z"
   },
   {
    "duration": 27,
    "start_time": "2022-09-01T08:44:13.962Z"
   },
   {
    "duration": 3,
    "start_time": "2022-09-01T08:44:13.991Z"
   },
   {
    "duration": 18,
    "start_time": "2022-09-01T08:44:13.996Z"
   },
   {
    "duration": 7,
    "start_time": "2022-09-01T08:44:14.015Z"
   },
   {
    "duration": 30,
    "start_time": "2022-09-01T08:44:14.024Z"
   },
   {
    "duration": 4,
    "start_time": "2022-09-01T08:44:14.055Z"
   },
   {
    "duration": 50,
    "start_time": "2022-09-01T08:44:14.060Z"
   },
   {
    "duration": 22,
    "start_time": "2022-09-01T08:44:14.113Z"
   },
   {
    "duration": 4,
    "start_time": "2022-09-01T08:44:14.137Z"
   },
   {
    "duration": 6,
    "start_time": "2022-09-01T08:51:04.081Z"
   },
   {
    "duration": 7,
    "start_time": "2022-09-01T08:53:19.338Z"
   },
   {
    "duration": 76,
    "start_time": "2022-09-01T08:58:31.403Z"
   },
   {
    "duration": 12,
    "start_time": "2022-09-01T08:58:41.497Z"
   },
   {
    "duration": 25,
    "start_time": "2022-09-01T08:58:54.923Z"
   },
   {
    "duration": 7,
    "start_time": "2022-09-01T08:59:15.215Z"
   },
   {
    "duration": 23,
    "start_time": "2022-09-01T09:03:26.597Z"
   },
   {
    "duration": 21,
    "start_time": "2022-09-01T09:03:34.823Z"
   },
   {
    "duration": 31,
    "start_time": "2022-09-01T09:04:15.887Z"
   },
   {
    "duration": 33,
    "start_time": "2022-09-01T09:04:43.415Z"
   },
   {
    "duration": 3,
    "start_time": "2022-09-01T09:04:53.932Z"
   },
   {
    "duration": 101,
    "start_time": "2022-09-01T09:04:53.937Z"
   },
   {
    "duration": 14,
    "start_time": "2022-09-01T09:04:54.040Z"
   },
   {
    "duration": 35,
    "start_time": "2022-09-01T09:04:54.057Z"
   },
   {
    "duration": 1908,
    "start_time": "2022-09-01T09:04:54.094Z"
   },
   {
    "duration": 27,
    "start_time": "2022-09-01T09:04:56.004Z"
   },
   {
    "duration": 24,
    "start_time": "2022-09-01T09:04:56.034Z"
   },
   {
    "duration": 3,
    "start_time": "2022-09-01T09:04:56.060Z"
   },
   {
    "duration": 14,
    "start_time": "2022-09-01T09:04:56.065Z"
   },
   {
    "duration": 41,
    "start_time": "2022-09-01T09:04:56.080Z"
   },
   {
    "duration": 44,
    "start_time": "2022-09-01T09:04:56.123Z"
   },
   {
    "duration": 4,
    "start_time": "2022-09-01T09:04:56.169Z"
   },
   {
    "duration": 24,
    "start_time": "2022-09-01T09:04:56.174Z"
   },
   {
    "duration": 28,
    "start_time": "2022-09-01T09:04:56.199Z"
   },
   {
    "duration": 3,
    "start_time": "2022-09-01T09:04:56.229Z"
   },
   {
    "duration": 13,
    "start_time": "2022-09-01T09:04:56.234Z"
   },
   {
    "duration": 33,
    "start_time": "2022-09-01T09:04:56.249Z"
   },
   {
    "duration": 26,
    "start_time": "2022-09-01T09:04:56.283Z"
   },
   {
    "duration": 25,
    "start_time": "2022-09-01T09:05:04.106Z"
   },
   {
    "duration": 33,
    "start_time": "2022-09-01T09:05:45.612Z"
   },
   {
    "duration": 6,
    "start_time": "2022-09-01T09:05:46.580Z"
   },
   {
    "duration": 33,
    "start_time": "2022-09-01T09:06:22.633Z"
   },
   {
    "duration": 6,
    "start_time": "2022-09-01T09:06:23.881Z"
   },
   {
    "duration": 2,
    "start_time": "2022-09-01T09:06:51.828Z"
   },
   {
    "duration": 94,
    "start_time": "2022-09-01T09:06:51.832Z"
   },
   {
    "duration": 14,
    "start_time": "2022-09-01T09:06:51.927Z"
   },
   {
    "duration": 23,
    "start_time": "2022-09-01T09:06:51.943Z"
   },
   {
    "duration": 1971,
    "start_time": "2022-09-01T09:06:51.968Z"
   },
   {
    "duration": 19,
    "start_time": "2022-09-01T09:06:53.941Z"
   },
   {
    "duration": 23,
    "start_time": "2022-09-01T09:06:53.962Z"
   },
   {
    "duration": 24,
    "start_time": "2022-09-01T09:06:53.987Z"
   },
   {
    "duration": 12,
    "start_time": "2022-09-01T09:06:54.013Z"
   },
   {
    "duration": 7,
    "start_time": "2022-09-01T09:06:54.027Z"
   },
   {
    "duration": 44,
    "start_time": "2022-09-01T09:06:54.035Z"
   },
   {
    "duration": 4,
    "start_time": "2022-09-01T09:06:54.081Z"
   },
   {
    "duration": 42,
    "start_time": "2022-09-01T09:06:54.088Z"
   },
   {
    "duration": 27,
    "start_time": "2022-09-01T09:06:54.131Z"
   },
   {
    "duration": 3,
    "start_time": "2022-09-01T09:06:54.160Z"
   },
   {
    "duration": 9,
    "start_time": "2022-09-01T09:06:54.164Z"
   },
   {
    "duration": 53,
    "start_time": "2022-09-01T09:06:54.175Z"
   },
   {
    "duration": 6,
    "start_time": "2022-09-01T09:06:54.230Z"
   },
   {
    "duration": 7,
    "start_time": "2022-09-01T09:07:09.435Z"
   },
   {
    "duration": 9,
    "start_time": "2022-09-01T09:07:43.573Z"
   },
   {
    "duration": 7,
    "start_time": "2022-09-01T09:09:12.437Z"
   },
   {
    "duration": 4,
    "start_time": "2022-09-01T09:09:41.885Z"
   },
   {
    "duration": 4,
    "start_time": "2022-09-01T09:09:44.514Z"
   },
   {
    "duration": 4,
    "start_time": "2022-09-01T09:09:59.932Z"
   },
   {
    "duration": 8,
    "start_time": "2022-09-01T09:10:24.351Z"
   },
   {
    "duration": 8,
    "start_time": "2022-09-01T09:10:30.166Z"
   },
   {
    "duration": 5,
    "start_time": "2022-09-01T09:10:43.854Z"
   },
   {
    "duration": 6,
    "start_time": "2022-09-01T09:10:48.218Z"
   },
   {
    "duration": 5,
    "start_time": "2022-09-01T09:11:16.959Z"
   },
   {
    "duration": 8,
    "start_time": "2022-09-01T09:11:25.734Z"
   },
   {
    "duration": 5,
    "start_time": "2022-09-01T09:13:03.841Z"
   },
   {
    "duration": 10,
    "start_time": "2022-09-01T09:16:49.570Z"
   },
   {
    "duration": 6,
    "start_time": "2022-09-01T09:20:23.169Z"
   },
   {
    "duration": 36,
    "start_time": "2022-09-01T09:20:56.730Z"
   },
   {
    "duration": 5,
    "start_time": "2022-09-01T09:21:13.850Z"
   },
   {
    "duration": 38,
    "start_time": "2022-09-01T09:22:46.304Z"
   },
   {
    "duration": 43,
    "start_time": "2022-09-01T09:27:51.652Z"
   },
   {
    "duration": 19,
    "start_time": "2022-09-01T09:28:03.592Z"
   },
   {
    "duration": 8,
    "start_time": "2022-09-01T09:29:18.205Z"
   },
   {
    "duration": 9,
    "start_time": "2022-09-01T09:29:54.889Z"
   },
   {
    "duration": 42,
    "start_time": "2022-09-01T09:30:33.671Z"
   },
   {
    "duration": 13,
    "start_time": "2022-09-01T09:31:55.797Z"
   },
   {
    "duration": 98,
    "start_time": "2022-09-01T09:32:18.551Z"
   },
   {
    "duration": 18,
    "start_time": "2022-09-01T09:32:23.668Z"
   },
   {
    "duration": 5,
    "start_time": "2022-09-01T09:33:14.766Z"
   },
   {
    "duration": 9,
    "start_time": "2022-09-01T09:33:18.053Z"
   },
   {
    "duration": 9,
    "start_time": "2022-09-01T09:33:46.669Z"
   },
   {
    "duration": 3,
    "start_time": "2022-09-01T09:35:57.284Z"
   },
   {
    "duration": 20,
    "start_time": "2022-09-01T09:37:21.949Z"
   },
   {
    "duration": 6,
    "start_time": "2022-09-01T09:42:05.828Z"
   },
   {
    "duration": 14,
    "start_time": "2022-09-01T09:43:55.224Z"
   },
   {
    "duration": 17,
    "start_time": "2022-09-01T09:44:17.434Z"
   },
   {
    "duration": 14,
    "start_time": "2022-09-01T09:44:26.673Z"
   },
   {
    "duration": 13,
    "start_time": "2022-09-01T09:44:30.038Z"
   },
   {
    "duration": 8,
    "start_time": "2022-09-01T09:44:38.370Z"
   },
   {
    "duration": 3,
    "start_time": "2022-09-01T09:45:06.205Z"
   },
   {
    "duration": 94,
    "start_time": "2022-09-01T09:45:06.210Z"
   },
   {
    "duration": 14,
    "start_time": "2022-09-01T09:45:06.305Z"
   },
   {
    "duration": 23,
    "start_time": "2022-09-01T09:45:06.321Z"
   },
   {
    "duration": 1878,
    "start_time": "2022-09-01T09:45:06.346Z"
   },
   {
    "duration": 17,
    "start_time": "2022-09-01T09:45:08.226Z"
   },
   {
    "duration": 14,
    "start_time": "2022-09-01T09:45:08.244Z"
   },
   {
    "duration": 0,
    "start_time": "2022-09-01T09:45:08.260Z"
   },
   {
    "duration": 0,
    "start_time": "2022-09-01T09:45:08.261Z"
   },
   {
    "duration": 0,
    "start_time": "2022-09-01T09:45:08.262Z"
   },
   {
    "duration": 0,
    "start_time": "2022-09-01T09:45:08.263Z"
   },
   {
    "duration": 0,
    "start_time": "2022-09-01T09:45:08.264Z"
   },
   {
    "duration": 0,
    "start_time": "2022-09-01T09:45:08.265Z"
   },
   {
    "duration": 0,
    "start_time": "2022-09-01T09:45:08.266Z"
   },
   {
    "duration": 0,
    "start_time": "2022-09-01T09:45:08.267Z"
   },
   {
    "duration": 0,
    "start_time": "2022-09-01T09:45:08.269Z"
   },
   {
    "duration": 0,
    "start_time": "2022-09-01T09:45:08.270Z"
   },
   {
    "duration": 0,
    "start_time": "2022-09-01T09:45:08.271Z"
   },
   {
    "duration": 0,
    "start_time": "2022-09-01T09:45:08.451Z"
   },
   {
    "duration": 0,
    "start_time": "2022-09-01T09:45:08.453Z"
   },
   {
    "duration": 0,
    "start_time": "2022-09-01T09:45:08.454Z"
   },
   {
    "duration": 0,
    "start_time": "2022-09-01T09:45:08.455Z"
   },
   {
    "duration": 0,
    "start_time": "2022-09-01T09:45:08.456Z"
   },
   {
    "duration": 0,
    "start_time": "2022-09-01T09:45:08.457Z"
   },
   {
    "duration": 0,
    "start_time": "2022-09-01T09:45:08.458Z"
   },
   {
    "duration": 0,
    "start_time": "2022-09-01T09:45:08.459Z"
   },
   {
    "duration": 3,
    "start_time": "2022-09-01T09:46:15.770Z"
   },
   {
    "duration": 93,
    "start_time": "2022-09-01T09:46:15.775Z"
   },
   {
    "duration": 15,
    "start_time": "2022-09-01T09:46:15.870Z"
   },
   {
    "duration": 39,
    "start_time": "2022-09-01T09:46:15.887Z"
   },
   {
    "duration": 1796,
    "start_time": "2022-09-01T09:46:15.928Z"
   },
   {
    "duration": 19,
    "start_time": "2022-09-01T09:46:17.726Z"
   },
   {
    "duration": 34,
    "start_time": "2022-09-01T09:46:17.747Z"
   },
   {
    "duration": 39,
    "start_time": "2022-09-01T09:46:17.783Z"
   },
   {
    "duration": 8,
    "start_time": "2022-09-01T09:46:17.824Z"
   },
   {
    "duration": 6,
    "start_time": "2022-09-01T09:46:17.834Z"
   },
   {
    "duration": 27,
    "start_time": "2022-09-01T09:46:17.842Z"
   },
   {
    "duration": 3,
    "start_time": "2022-09-01T09:46:17.870Z"
   },
   {
    "duration": 30,
    "start_time": "2022-09-01T09:46:17.875Z"
   },
   {
    "duration": 17,
    "start_time": "2022-09-01T09:46:17.906Z"
   },
   {
    "duration": 32,
    "start_time": "2022-09-01T09:46:17.925Z"
   },
   {
    "duration": 15,
    "start_time": "2022-09-01T09:46:17.959Z"
   },
   {
    "duration": 15,
    "start_time": "2022-09-01T09:46:17.977Z"
   },
   {
    "duration": 4,
    "start_time": "2022-09-01T09:46:17.993Z"
   },
   {
    "duration": 5,
    "start_time": "2022-09-01T09:46:17.998Z"
   },
   {
    "duration": 10,
    "start_time": "2022-09-01T09:46:18.004Z"
   },
   {
    "duration": 9,
    "start_time": "2022-09-01T09:46:18.015Z"
   },
   {
    "duration": 7,
    "start_time": "2022-09-01T09:46:18.026Z"
   },
   {
    "duration": 30,
    "start_time": "2022-09-01T09:46:18.035Z"
   },
   {
    "duration": 4,
    "start_time": "2022-09-01T09:46:18.067Z"
   },
   {
    "duration": 9,
    "start_time": "2022-09-01T09:46:18.072Z"
   },
   {
    "duration": 7,
    "start_time": "2022-09-01T09:46:18.082Z"
   },
   {
    "duration": 22,
    "start_time": "2022-09-01T09:46:18.090Z"
   },
   {
    "duration": 7,
    "start_time": "2022-09-01T09:46:18.114Z"
   },
   {
    "duration": 5,
    "start_time": "2022-09-01T11:42:57.077Z"
   },
   {
    "duration": 13,
    "start_time": "2022-09-01T11:43:11.169Z"
   },
   {
    "duration": 3,
    "start_time": "2022-09-01T11:43:35.295Z"
   },
   {
    "duration": 104,
    "start_time": "2022-09-01T11:43:35.300Z"
   },
   {
    "duration": 14,
    "start_time": "2022-09-01T11:43:35.405Z"
   },
   {
    "duration": 25,
    "start_time": "2022-09-01T11:43:35.421Z"
   },
   {
    "duration": 2116,
    "start_time": "2022-09-01T11:43:35.448Z"
   },
   {
    "duration": 19,
    "start_time": "2022-09-01T11:43:37.567Z"
   },
   {
    "duration": 22,
    "start_time": "2022-09-01T11:43:37.588Z"
   },
   {
    "duration": 23,
    "start_time": "2022-09-01T11:43:37.612Z"
   },
   {
    "duration": 9,
    "start_time": "2022-09-01T11:43:37.639Z"
   },
   {
    "duration": 17,
    "start_time": "2022-09-01T11:43:37.649Z"
   },
   {
    "duration": 51,
    "start_time": "2022-09-01T11:43:37.670Z"
   },
   {
    "duration": 4,
    "start_time": "2022-09-01T11:43:37.723Z"
   },
   {
    "duration": 30,
    "start_time": "2022-09-01T11:43:37.728Z"
   },
   {
    "duration": 14,
    "start_time": "2022-09-01T11:43:37.760Z"
   },
   {
    "duration": 69,
    "start_time": "2022-09-01T11:43:37.775Z"
   },
   {
    "duration": 29,
    "start_time": "2022-09-01T11:43:37.847Z"
   },
   {
    "duration": 32,
    "start_time": "2022-09-01T11:43:37.878Z"
   },
   {
    "duration": 5,
    "start_time": "2022-09-01T11:43:37.912Z"
   },
   {
    "duration": 5,
    "start_time": "2022-09-01T11:43:37.918Z"
   },
   {
    "duration": 9,
    "start_time": "2022-09-01T11:43:37.924Z"
   },
   {
    "duration": 16,
    "start_time": "2022-09-01T11:43:37.935Z"
   },
   {
    "duration": 6,
    "start_time": "2022-09-01T11:43:37.952Z"
   },
   {
    "duration": 56,
    "start_time": "2022-09-01T11:43:37.959Z"
   },
   {
    "duration": 4,
    "start_time": "2022-09-01T11:43:38.018Z"
   },
   {
    "duration": 11,
    "start_time": "2022-09-01T11:43:38.023Z"
   },
   {
    "duration": 3,
    "start_time": "2022-09-01T11:43:38.035Z"
   },
   {
    "duration": 26,
    "start_time": "2022-09-01T11:43:38.039Z"
   },
   {
    "duration": 8,
    "start_time": "2022-09-01T11:43:38.067Z"
   },
   {
    "duration": 37,
    "start_time": "2022-09-01T11:45:00.819Z"
   },
   {
    "duration": 9,
    "start_time": "2022-09-01T11:47:19.738Z"
   },
   {
    "duration": 12,
    "start_time": "2022-09-01T11:48:05.044Z"
   },
   {
    "duration": 7,
    "start_time": "2022-09-01T11:49:14.463Z"
   },
   {
    "duration": 6,
    "start_time": "2022-09-01T11:49:20.238Z"
   },
   {
    "duration": 10,
    "start_time": "2022-09-01T11:49:28.477Z"
   },
   {
    "duration": 2,
    "start_time": "2022-09-01T11:49:31.815Z"
   },
   {
    "duration": 9,
    "start_time": "2022-09-01T11:49:35.072Z"
   },
   {
    "duration": 8,
    "start_time": "2022-09-01T11:50:26.383Z"
   },
   {
    "duration": 3,
    "start_time": "2022-09-01T11:50:28.766Z"
   },
   {
    "duration": 21,
    "start_time": "2022-09-01T11:50:29.201Z"
   },
   {
    "duration": 9,
    "start_time": "2022-09-01T11:50:30.282Z"
   },
   {
    "duration": 38,
    "start_time": "2022-09-01T11:51:29.149Z"
   },
   {
    "duration": 7,
    "start_time": "2022-09-01T11:54:23.075Z"
   },
   {
    "duration": 23,
    "start_time": "2022-09-01T11:54:25.875Z"
   },
   {
    "duration": 8,
    "start_time": "2022-09-01T11:54:26.129Z"
   },
   {
    "duration": 68,
    "start_time": "2022-09-01T11:57:47.854Z"
   },
   {
    "duration": 5,
    "start_time": "2022-09-01T12:01:34.132Z"
   },
   {
    "duration": 37,
    "start_time": "2022-09-01T12:02:06.522Z"
   },
   {
    "duration": 37,
    "start_time": "2022-09-01T12:02:25.337Z"
   },
   {
    "duration": 38,
    "start_time": "2022-09-01T12:02:50.457Z"
   },
   {
    "duration": 10,
    "start_time": "2022-09-01T12:05:18.578Z"
   },
   {
    "duration": 6,
    "start_time": "2022-09-01T12:05:25.249Z"
   },
   {
    "duration": 8,
    "start_time": "2022-09-01T12:05:32.892Z"
   },
   {
    "duration": 4,
    "start_time": "2022-09-01T12:05:53.636Z"
   },
   {
    "duration": 93,
    "start_time": "2022-09-01T12:05:53.642Z"
   },
   {
    "duration": 13,
    "start_time": "2022-09-01T12:05:53.737Z"
   },
   {
    "duration": 22,
    "start_time": "2022-09-01T12:05:53.752Z"
   },
   {
    "duration": 1775,
    "start_time": "2022-09-01T12:05:53.776Z"
   },
   {
    "duration": 25,
    "start_time": "2022-09-01T12:05:55.553Z"
   },
   {
    "duration": 297,
    "start_time": "2022-09-01T12:05:55.580Z"
   },
   {
    "duration": 7,
    "start_time": "2022-09-01T12:05:55.879Z"
   },
   {
    "duration": 37,
    "start_time": "2022-09-01T12:05:55.888Z"
   },
   {
    "duration": 9,
    "start_time": "2022-09-01T12:05:55.928Z"
   },
   {
    "duration": 18,
    "start_time": "2022-09-01T12:05:55.940Z"
   },
   {
    "duration": 50,
    "start_time": "2022-09-01T12:05:55.960Z"
   },
   {
    "duration": 4,
    "start_time": "2022-09-01T12:05:56.012Z"
   },
   {
    "duration": 26,
    "start_time": "2022-09-01T12:05:56.017Z"
   },
   {
    "duration": 9,
    "start_time": "2022-09-01T12:05:56.045Z"
   },
   {
    "duration": 56,
    "start_time": "2022-09-01T12:05:56.055Z"
   },
   {
    "duration": 16,
    "start_time": "2022-09-01T12:05:56.112Z"
   },
   {
    "duration": 14,
    "start_time": "2022-09-01T12:05:56.130Z"
   },
   {
    "duration": 4,
    "start_time": "2022-09-01T12:05:56.146Z"
   },
   {
    "duration": 9,
    "start_time": "2022-09-01T12:05:56.151Z"
   },
   {
    "duration": 9,
    "start_time": "2022-09-01T12:05:56.162Z"
   },
   {
    "duration": 37,
    "start_time": "2022-09-01T12:05:56.172Z"
   },
   {
    "duration": 6,
    "start_time": "2022-09-01T12:05:56.211Z"
   },
   {
    "duration": 40,
    "start_time": "2022-09-01T12:05:56.218Z"
   },
   {
    "duration": 4,
    "start_time": "2022-09-01T12:05:56.260Z"
   },
   {
    "duration": 12,
    "start_time": "2022-09-01T12:05:56.265Z"
   },
   {
    "duration": 36,
    "start_time": "2022-09-01T12:05:56.278Z"
   },
   {
    "duration": 0,
    "start_time": "2022-09-01T12:05:56.316Z"
   },
   {
    "duration": 0,
    "start_time": "2022-09-01T12:05:56.317Z"
   },
   {
    "duration": 0,
    "start_time": "2022-09-01T12:05:56.319Z"
   },
   {
    "duration": 0,
    "start_time": "2022-09-01T12:05:56.319Z"
   },
   {
    "duration": 0,
    "start_time": "2022-09-01T12:05:56.320Z"
   },
   {
    "duration": 8,
    "start_time": "2022-09-01T12:06:00.738Z"
   },
   {
    "duration": 17,
    "start_time": "2022-09-01T12:06:23.698Z"
   },
   {
    "duration": 11,
    "start_time": "2022-09-01T12:06:48.888Z"
   },
   {
    "duration": 5,
    "start_time": "2022-09-01T12:06:51.458Z"
   },
   {
    "duration": 7,
    "start_time": "2022-09-01T12:06:52.049Z"
   },
   {
    "duration": 34,
    "start_time": "2022-09-01T12:06:52.543Z"
   },
   {
    "duration": 7,
    "start_time": "2022-09-01T12:06:55.381Z"
   },
   {
    "duration": 21,
    "start_time": "2022-09-01T12:06:55.860Z"
   },
   {
    "duration": 10,
    "start_time": "2022-09-01T12:06:57.262Z"
   },
   {
    "duration": 12,
    "start_time": "2022-09-01T12:20:18.452Z"
   },
   {
    "duration": 98,
    "start_time": "2022-09-01T12:20:42.700Z"
   },
   {
    "duration": 1135,
    "start_time": "2022-09-01T12:21:09.703Z"
   },
   {
    "duration": 335,
    "start_time": "2022-09-01T12:21:27.566Z"
   },
   {
    "duration": 292,
    "start_time": "2022-09-01T12:22:18.508Z"
   },
   {
    "duration": 846,
    "start_time": "2022-09-01T12:22:44.098Z"
   },
   {
    "duration": 8,
    "start_time": "2022-09-01T12:25:13.133Z"
   },
   {
    "duration": 244,
    "start_time": "2022-09-01T12:32:08.041Z"
   },
   {
    "duration": 281,
    "start_time": "2022-09-01T12:32:16.819Z"
   },
   {
    "duration": 6,
    "start_time": "2022-09-01T12:32:30.170Z"
   },
   {
    "duration": 5,
    "start_time": "2022-09-01T12:32:33.549Z"
   },
   {
    "duration": 6,
    "start_time": "2022-09-01T12:32:39.169Z"
   },
   {
    "duration": 3,
    "start_time": "2022-09-01T12:32:47.270Z"
   },
   {
    "duration": 114,
    "start_time": "2022-09-01T12:32:47.275Z"
   },
   {
    "duration": 17,
    "start_time": "2022-09-01T12:32:47.392Z"
   },
   {
    "duration": 28,
    "start_time": "2022-09-01T12:32:47.411Z"
   },
   {
    "duration": 1758,
    "start_time": "2022-09-01T12:32:47.441Z"
   },
   {
    "duration": 22,
    "start_time": "2022-09-01T12:32:49.200Z"
   },
   {
    "duration": 69,
    "start_time": "2022-09-01T12:32:49.223Z"
   },
   {
    "duration": 7,
    "start_time": "2022-09-01T12:32:49.309Z"
   },
   {
    "duration": 24,
    "start_time": "2022-09-01T12:32:49.317Z"
   },
   {
    "duration": 7,
    "start_time": "2022-09-01T12:32:49.343Z"
   },
   {
    "duration": 14,
    "start_time": "2022-09-01T12:32:49.351Z"
   },
   {
    "duration": 5,
    "start_time": "2022-09-01T12:32:49.366Z"
   },
   {
    "duration": 48,
    "start_time": "2022-09-01T12:32:49.372Z"
   },
   {
    "duration": 3,
    "start_time": "2022-09-01T12:32:49.422Z"
   },
   {
    "duration": 24,
    "start_time": "2022-09-01T12:32:49.427Z"
   },
   {
    "duration": 8,
    "start_time": "2022-09-01T12:32:49.452Z"
   },
   {
    "duration": 35,
    "start_time": "2022-09-01T12:32:49.461Z"
   },
   {
    "duration": 23,
    "start_time": "2022-09-01T12:32:49.498Z"
   },
   {
    "duration": 15,
    "start_time": "2022-09-01T12:32:49.522Z"
   },
   {
    "duration": 4,
    "start_time": "2022-09-01T12:32:49.538Z"
   },
   {
    "duration": 5,
    "start_time": "2022-09-01T12:32:49.543Z"
   },
   {
    "duration": 7,
    "start_time": "2022-09-01T12:32:49.549Z"
   },
   {
    "duration": 17,
    "start_time": "2022-09-01T12:32:49.557Z"
   },
   {
    "duration": 5,
    "start_time": "2022-09-01T12:32:49.575Z"
   },
   {
    "duration": 50,
    "start_time": "2022-09-01T12:32:49.581Z"
   },
   {
    "duration": 4,
    "start_time": "2022-09-01T12:32:49.633Z"
   },
   {
    "duration": 15,
    "start_time": "2022-09-01T12:32:49.638Z"
   },
   {
    "duration": 15,
    "start_time": "2022-09-01T12:32:49.654Z"
   },
   {
    "duration": 4,
    "start_time": "2022-09-01T12:32:49.670Z"
   },
   {
    "duration": 8,
    "start_time": "2022-09-01T12:32:49.676Z"
   },
   {
    "duration": 57,
    "start_time": "2022-09-01T12:32:49.686Z"
   },
   {
    "duration": 6,
    "start_time": "2022-09-01T12:32:49.745Z"
   },
   {
    "duration": 19,
    "start_time": "2022-09-01T12:32:49.752Z"
   },
   {
    "duration": 7,
    "start_time": "2022-09-01T12:32:49.773Z"
   },
   {
    "duration": 343,
    "start_time": "2022-09-01T12:32:49.781Z"
   },
   {
    "duration": 6,
    "start_time": "2022-09-01T12:33:06.182Z"
   },
   {
    "duration": 5,
    "start_time": "2022-09-01T12:33:21.017Z"
   },
   {
    "duration": 2,
    "start_time": "2022-09-01T12:37:10.471Z"
   },
   {
    "duration": 3,
    "start_time": "2022-09-01T12:37:18.780Z"
   },
   {
    "duration": 93,
    "start_time": "2022-09-01T12:37:18.785Z"
   },
   {
    "duration": 13,
    "start_time": "2022-09-01T12:37:18.880Z"
   },
   {
    "duration": 36,
    "start_time": "2022-09-01T12:37:18.895Z"
   },
   {
    "duration": 1723,
    "start_time": "2022-09-01T12:37:18.933Z"
   },
   {
    "duration": 19,
    "start_time": "2022-09-01T12:37:20.659Z"
   },
   {
    "duration": 203,
    "start_time": "2022-09-01T12:37:20.680Z"
   },
   {
    "duration": 6,
    "start_time": "2022-09-01T12:37:20.886Z"
   },
   {
    "duration": 50,
    "start_time": "2022-09-01T12:37:20.894Z"
   },
   {
    "duration": 3,
    "start_time": "2022-09-01T12:37:20.946Z"
   },
   {
    "duration": 23,
    "start_time": "2022-09-01T12:37:20.951Z"
   },
   {
    "duration": 31,
    "start_time": "2022-09-01T12:37:20.976Z"
   },
   {
    "duration": 50,
    "start_time": "2022-09-01T12:37:21.009Z"
   },
   {
    "duration": 5,
    "start_time": "2022-09-01T12:37:21.062Z"
   },
   {
    "duration": 31,
    "start_time": "2022-09-01T12:37:21.068Z"
   },
   {
    "duration": 17,
    "start_time": "2022-09-01T12:37:21.101Z"
   },
   {
    "duration": 41,
    "start_time": "2022-09-01T12:37:21.120Z"
   },
   {
    "duration": 16,
    "start_time": "2022-09-01T12:37:21.162Z"
   },
   {
    "duration": 15,
    "start_time": "2022-09-01T12:37:21.180Z"
   },
   {
    "duration": 24,
    "start_time": "2022-09-01T12:37:21.210Z"
   },
   {
    "duration": 15,
    "start_time": "2022-09-01T12:37:21.236Z"
   },
   {
    "duration": 19,
    "start_time": "2022-09-01T12:37:21.252Z"
   },
   {
    "duration": 18,
    "start_time": "2022-09-01T12:37:21.273Z"
   },
   {
    "duration": 5,
    "start_time": "2022-09-01T12:37:21.293Z"
   },
   {
    "duration": 53,
    "start_time": "2022-09-01T12:37:21.300Z"
   },
   {
    "duration": 3,
    "start_time": "2022-09-01T12:37:21.355Z"
   },
   {
    "duration": 22,
    "start_time": "2022-09-01T12:37:21.360Z"
   },
   {
    "duration": 25,
    "start_time": "2022-09-01T12:37:21.383Z"
   },
   {
    "duration": 9,
    "start_time": "2022-09-01T12:37:21.409Z"
   },
   {
    "duration": 60,
    "start_time": "2022-09-01T12:37:21.419Z"
   },
   {
    "duration": 113,
    "start_time": "2022-09-01T12:37:21.481Z"
   },
   {
    "duration": 7,
    "start_time": "2022-09-01T12:37:21.595Z"
   },
   {
    "duration": 20,
    "start_time": "2022-09-01T12:37:21.604Z"
   },
   {
    "duration": 7,
    "start_time": "2022-09-01T12:37:21.626Z"
   },
   {
    "duration": 312,
    "start_time": "2022-09-01T12:37:21.635Z"
   },
   {
    "duration": 4,
    "start_time": "2022-09-01T12:37:21.949Z"
   },
   {
    "duration": 310,
    "start_time": "2022-09-01T13:35:05.399Z"
   },
   {
    "duration": 5,
    "start_time": "2022-09-01T13:35:15.547Z"
   },
   {
    "duration": 131,
    "start_time": "2022-09-01T13:37:03.903Z"
   },
   {
    "duration": 122,
    "start_time": "2022-09-01T13:37:23.531Z"
   },
   {
    "duration": 15,
    "start_time": "2022-09-01T13:38:02.535Z"
   },
   {
    "duration": 148,
    "start_time": "2022-09-01T13:38:50.855Z"
   },
   {
    "duration": 132,
    "start_time": "2022-09-01T13:39:38.169Z"
   },
   {
    "duration": 135,
    "start_time": "2022-09-01T13:40:07.877Z"
   },
   {
    "duration": 132,
    "start_time": "2022-09-01T13:40:51.355Z"
   },
   {
    "duration": 130,
    "start_time": "2022-09-01T13:41:31.025Z"
   },
   {
    "duration": 143,
    "start_time": "2022-09-01T13:41:33.978Z"
   },
   {
    "duration": 142,
    "start_time": "2022-09-01T13:42:02.169Z"
   },
   {
    "duration": 14,
    "start_time": "2022-09-01T13:42:50.527Z"
   },
   {
    "duration": 6,
    "start_time": "2022-09-01T13:43:04.507Z"
   },
   {
    "duration": 126,
    "start_time": "2022-09-01T13:43:09.108Z"
   },
   {
    "duration": 233,
    "start_time": "2022-09-01T13:43:47.430Z"
   },
   {
    "duration": 125,
    "start_time": "2022-09-01T13:44:27.075Z"
   },
   {
    "duration": 195,
    "start_time": "2022-09-01T13:45:37.196Z"
   },
   {
    "duration": 7,
    "start_time": "2022-09-01T13:46:30.908Z"
   },
   {
    "duration": 4,
    "start_time": "2022-09-01T13:46:33.845Z"
   },
   {
    "duration": 280,
    "start_time": "2022-09-01T13:49:56.290Z"
   },
   {
    "duration": 334,
    "start_time": "2022-09-01T13:50:23.215Z"
   },
   {
    "duration": 267,
    "start_time": "2022-09-01T13:50:46.849Z"
   },
   {
    "duration": 141,
    "start_time": "2022-09-01T13:54:32.826Z"
   },
   {
    "duration": 138,
    "start_time": "2022-09-01T13:54:46.685Z"
   },
   {
    "duration": 377,
    "start_time": "2022-09-01T13:55:11.326Z"
   },
   {
    "duration": 509,
    "start_time": "2022-09-01T13:56:01.837Z"
   },
   {
    "duration": 259,
    "start_time": "2022-09-01T13:56:32.297Z"
   },
   {
    "duration": 114,
    "start_time": "2022-09-01T14:02:36.639Z"
   },
   {
    "duration": 157,
    "start_time": "2022-09-01T14:03:07.079Z"
   },
   {
    "duration": 1678,
    "start_time": "2022-09-01T14:04:38.751Z"
   },
   {
    "duration": 130,
    "start_time": "2022-09-01T14:04:48.536Z"
   },
   {
    "duration": 137,
    "start_time": "2022-09-01T14:05:03.550Z"
   },
   {
    "duration": 127,
    "start_time": "2022-09-01T14:05:09.376Z"
   },
   {
    "duration": 6,
    "start_time": "2022-09-01T14:06:29.521Z"
   },
   {
    "duration": 9,
    "start_time": "2022-09-01T14:06:32.485Z"
   },
   {
    "duration": 2,
    "start_time": "2022-09-01T14:08:43.638Z"
   },
   {
    "duration": 2,
    "start_time": "2022-09-01T14:08:47.768Z"
   },
   {
    "duration": 108,
    "start_time": "2022-09-01T14:08:47.772Z"
   },
   {
    "duration": 34,
    "start_time": "2022-09-01T14:08:47.882Z"
   },
   {
    "duration": 27,
    "start_time": "2022-09-01T14:08:47.918Z"
   },
   {
    "duration": 2207,
    "start_time": "2022-09-01T14:08:47.947Z"
   },
   {
    "duration": 20,
    "start_time": "2022-09-01T14:08:50.156Z"
   },
   {
    "duration": 85,
    "start_time": "2022-09-01T14:08:50.178Z"
   },
   {
    "duration": 7,
    "start_time": "2022-09-01T14:08:50.264Z"
   },
   {
    "duration": 42,
    "start_time": "2022-09-01T14:08:50.272Z"
   },
   {
    "duration": 3,
    "start_time": "2022-09-01T14:08:50.317Z"
   },
   {
    "duration": 17,
    "start_time": "2022-09-01T14:08:50.324Z"
   },
   {
    "duration": 8,
    "start_time": "2022-09-01T14:08:50.344Z"
   },
   {
    "duration": 31,
    "start_time": "2022-09-01T14:08:50.354Z"
   },
   {
    "duration": 25,
    "start_time": "2022-09-01T14:08:50.387Z"
   },
   {
    "duration": 38,
    "start_time": "2022-09-01T14:08:50.414Z"
   },
   {
    "duration": 25,
    "start_time": "2022-09-01T14:08:50.453Z"
   },
   {
    "duration": 75,
    "start_time": "2022-09-01T14:08:50.479Z"
   },
   {
    "duration": 16,
    "start_time": "2022-09-01T14:08:50.556Z"
   },
   {
    "duration": 17,
    "start_time": "2022-09-01T14:08:50.574Z"
   },
   {
    "duration": 10,
    "start_time": "2022-09-01T14:08:50.592Z"
   },
   {
    "duration": 20,
    "start_time": "2022-09-01T14:08:50.603Z"
   },
   {
    "duration": 22,
    "start_time": "2022-09-01T14:08:50.625Z"
   },
   {
    "duration": 28,
    "start_time": "2022-09-01T14:08:50.649Z"
   },
   {
    "duration": 6,
    "start_time": "2022-09-01T14:08:50.679Z"
   },
   {
    "duration": 59,
    "start_time": "2022-09-01T14:08:50.686Z"
   },
   {
    "duration": 4,
    "start_time": "2022-09-01T14:08:50.747Z"
   },
   {
    "duration": 22,
    "start_time": "2022-09-01T14:08:50.752Z"
   },
   {
    "duration": 23,
    "start_time": "2022-09-01T14:08:50.776Z"
   },
   {
    "duration": 33,
    "start_time": "2022-09-01T14:08:50.804Z"
   },
   {
    "duration": 20,
    "start_time": "2022-09-01T14:08:50.839Z"
   },
   {
    "duration": 13,
    "start_time": "2022-09-01T14:08:50.861Z"
   },
   {
    "duration": 19,
    "start_time": "2022-09-01T14:08:50.876Z"
   },
   {
    "duration": 37,
    "start_time": "2022-09-01T14:08:50.897Z"
   },
   {
    "duration": 32,
    "start_time": "2022-09-01T14:08:50.935Z"
   },
   {
    "duration": 340,
    "start_time": "2022-09-01T14:08:50.969Z"
   },
   {
    "duration": 8,
    "start_time": "2022-09-01T14:08:51.312Z"
   },
   {
    "duration": 28,
    "start_time": "2022-09-01T14:08:51.322Z"
   },
   {
    "duration": 5,
    "start_time": "2022-09-01T14:08:51.351Z"
   },
   {
    "duration": 182,
    "start_time": "2022-09-01T14:08:51.357Z"
   },
   {
    "duration": 151,
    "start_time": "2022-09-01T14:08:51.541Z"
   },
   {
    "duration": 169,
    "start_time": "2022-09-01T14:08:51.693Z"
   },
   {
    "duration": 166,
    "start_time": "2022-09-01T14:08:51.864Z"
   },
   {
    "duration": 166,
    "start_time": "2022-09-01T14:08:52.031Z"
   },
   {
    "duration": 164,
    "start_time": "2022-09-01T14:08:52.199Z"
   },
   {
    "duration": 156,
    "start_time": "2022-09-01T14:08:52.365Z"
   },
   {
    "duration": 144,
    "start_time": "2022-09-01T14:08:52.523Z"
   },
   {
    "duration": 159,
    "start_time": "2022-09-01T14:08:52.668Z"
   },
   {
    "duration": 132,
    "start_time": "2022-09-01T14:08:52.829Z"
   },
   {
    "duration": 156,
    "start_time": "2022-09-01T14:08:52.962Z"
   },
   {
    "duration": 161,
    "start_time": "2022-09-01T14:08:53.121Z"
   },
   {
    "duration": 346,
    "start_time": "2022-09-01T14:08:53.283Z"
   },
   {
    "duration": 10,
    "start_time": "2022-09-01T14:08:53.630Z"
   },
   {
    "duration": 3,
    "start_time": "2022-09-01T14:09:17.755Z"
   },
   {
    "duration": 104,
    "start_time": "2022-09-01T14:09:17.760Z"
   },
   {
    "duration": 14,
    "start_time": "2022-09-01T14:09:17.865Z"
   },
   {
    "duration": 55,
    "start_time": "2022-09-01T14:09:17.882Z"
   },
   {
    "duration": 1832,
    "start_time": "2022-09-01T14:09:17.940Z"
   },
   {
    "duration": 35,
    "start_time": "2022-09-01T14:09:19.775Z"
   },
   {
    "duration": 71,
    "start_time": "2022-09-01T14:09:19.812Z"
   },
   {
    "duration": 29,
    "start_time": "2022-09-01T14:09:19.885Z"
   },
   {
    "duration": 22,
    "start_time": "2022-09-01T14:09:19.918Z"
   },
   {
    "duration": 2,
    "start_time": "2022-09-01T14:09:19.942Z"
   },
   {
    "duration": 19,
    "start_time": "2022-09-01T14:09:19.946Z"
   },
   {
    "duration": 13,
    "start_time": "2022-09-01T14:09:19.967Z"
   },
   {
    "duration": 45,
    "start_time": "2022-09-01T14:09:19.982Z"
   },
   {
    "duration": 4,
    "start_time": "2022-09-01T14:09:20.029Z"
   },
   {
    "duration": 31,
    "start_time": "2022-09-01T14:09:20.035Z"
   },
   {
    "duration": 10,
    "start_time": "2022-09-01T14:09:20.068Z"
   },
   {
    "duration": 62,
    "start_time": "2022-09-01T14:09:20.080Z"
   },
   {
    "duration": 17,
    "start_time": "2022-09-01T14:09:20.144Z"
   },
   {
    "duration": 17,
    "start_time": "2022-09-01T14:09:20.163Z"
   },
   {
    "duration": 5,
    "start_time": "2022-09-01T14:09:20.210Z"
   },
   {
    "duration": 5,
    "start_time": "2022-09-01T14:09:20.216Z"
   },
   {
    "duration": 6,
    "start_time": "2022-09-01T14:09:20.222Z"
   },
   {
    "duration": 16,
    "start_time": "2022-09-01T14:09:20.230Z"
   },
   {
    "duration": 6,
    "start_time": "2022-09-01T14:09:20.249Z"
   },
   {
    "duration": 57,
    "start_time": "2022-09-01T14:09:20.257Z"
   },
   {
    "duration": 4,
    "start_time": "2022-09-01T14:09:20.316Z"
   },
   {
    "duration": 20,
    "start_time": "2022-09-01T14:09:20.322Z"
   },
   {
    "duration": 36,
    "start_time": "2022-09-01T14:09:20.344Z"
   },
   {
    "duration": 6,
    "start_time": "2022-09-01T14:09:20.382Z"
   },
   {
    "duration": 27,
    "start_time": "2022-09-01T14:09:20.390Z"
   },
   {
    "duration": 29,
    "start_time": "2022-09-01T14:09:20.419Z"
   },
   {
    "duration": 14,
    "start_time": "2022-09-01T14:09:20.450Z"
   },
   {
    "duration": 41,
    "start_time": "2022-09-01T14:09:20.466Z"
   },
   {
    "duration": 19,
    "start_time": "2022-09-01T14:09:20.509Z"
   },
   {
    "duration": 341,
    "start_time": "2022-09-01T14:09:20.530Z"
   },
   {
    "duration": 5,
    "start_time": "2022-09-01T14:09:20.873Z"
   },
   {
    "duration": 18,
    "start_time": "2022-09-01T14:09:20.879Z"
   },
   {
    "duration": 4,
    "start_time": "2022-09-01T14:09:20.909Z"
   },
   {
    "duration": 165,
    "start_time": "2022-09-01T14:09:20.915Z"
   },
   {
    "duration": 157,
    "start_time": "2022-09-01T14:09:21.082Z"
   },
   {
    "duration": 142,
    "start_time": "2022-09-01T14:09:21.240Z"
   },
   {
    "duration": 154,
    "start_time": "2022-09-01T14:09:21.384Z"
   },
   {
    "duration": 162,
    "start_time": "2022-09-01T14:09:21.539Z"
   },
   {
    "duration": 355,
    "start_time": "2022-09-01T14:09:21.704Z"
   },
   {
    "duration": 129,
    "start_time": "2022-09-01T14:09:22.061Z"
   },
   {
    "duration": 145,
    "start_time": "2022-09-01T14:09:22.192Z"
   },
   {
    "duration": 153,
    "start_time": "2022-09-01T14:09:22.339Z"
   },
   {
    "duration": 119,
    "start_time": "2022-09-01T14:09:22.494Z"
   },
   {
    "duration": 148,
    "start_time": "2022-09-01T14:09:22.615Z"
   },
   {
    "duration": 145,
    "start_time": "2022-09-01T14:09:22.765Z"
   },
   {
    "duration": 140,
    "start_time": "2022-09-01T14:09:22.912Z"
   },
   {
    "duration": 11,
    "start_time": "2022-09-01T14:09:23.054Z"
   },
   {
    "duration": 128,
    "start_time": "2022-09-01T14:09:27.536Z"
   },
   {
    "duration": 3,
    "start_time": "2022-09-01T14:09:51.494Z"
   },
   {
    "duration": 103,
    "start_time": "2022-09-01T14:09:51.500Z"
   },
   {
    "duration": 15,
    "start_time": "2022-09-01T14:09:51.604Z"
   },
   {
    "duration": 30,
    "start_time": "2022-09-01T14:09:51.621Z"
   },
   {
    "duration": 1813,
    "start_time": "2022-09-01T14:09:51.653Z"
   },
   {
    "duration": 19,
    "start_time": "2022-09-01T14:09:53.467Z"
   },
   {
    "duration": 81,
    "start_time": "2022-09-01T14:09:53.488Z"
   },
   {
    "duration": 6,
    "start_time": "2022-09-01T14:09:53.570Z"
   },
   {
    "duration": 41,
    "start_time": "2022-09-01T14:09:53.579Z"
   },
   {
    "duration": 2,
    "start_time": "2022-09-01T14:09:53.622Z"
   },
   {
    "duration": 23,
    "start_time": "2022-09-01T14:09:53.625Z"
   },
   {
    "duration": 17,
    "start_time": "2022-09-01T14:09:53.649Z"
   },
   {
    "duration": 41,
    "start_time": "2022-09-01T14:09:53.668Z"
   },
   {
    "duration": 4,
    "start_time": "2022-09-01T14:09:53.711Z"
   },
   {
    "duration": 43,
    "start_time": "2022-09-01T14:09:53.717Z"
   },
   {
    "duration": 19,
    "start_time": "2022-09-01T14:09:53.762Z"
   },
   {
    "duration": 38,
    "start_time": "2022-09-01T14:09:53.783Z"
   },
   {
    "duration": 17,
    "start_time": "2022-09-01T14:09:53.823Z"
   },
   {
    "duration": 18,
    "start_time": "2022-09-01T14:09:53.842Z"
   },
   {
    "duration": 6,
    "start_time": "2022-09-01T14:09:53.862Z"
   },
   {
    "duration": 11,
    "start_time": "2022-09-01T14:09:53.869Z"
   },
   {
    "duration": 28,
    "start_time": "2022-09-01T14:09:53.881Z"
   },
   {
    "duration": 38,
    "start_time": "2022-09-01T14:09:53.911Z"
   },
   {
    "duration": 11,
    "start_time": "2022-09-01T14:09:53.953Z"
   },
   {
    "duration": 40,
    "start_time": "2022-09-01T14:09:53.966Z"
   },
   {
    "duration": 4,
    "start_time": "2022-09-01T14:09:54.008Z"
   },
   {
    "duration": 14,
    "start_time": "2022-09-01T14:09:54.014Z"
   },
   {
    "duration": 25,
    "start_time": "2022-09-01T14:09:54.029Z"
   },
   {
    "duration": 5,
    "start_time": "2022-09-01T14:09:54.056Z"
   },
   {
    "duration": 10,
    "start_time": "2022-09-01T14:09:54.063Z"
   },
   {
    "duration": 6,
    "start_time": "2022-09-01T14:09:54.074Z"
   },
   {
    "duration": 9,
    "start_time": "2022-09-01T14:09:54.082Z"
   },
   {
    "duration": 26,
    "start_time": "2022-09-01T14:09:54.092Z"
   },
   {
    "duration": 9,
    "start_time": "2022-09-01T14:09:54.120Z"
   },
   {
    "duration": 326,
    "start_time": "2022-09-01T14:09:54.131Z"
   },
   {
    "duration": 5,
    "start_time": "2022-09-01T14:09:54.459Z"
   },
   {
    "duration": 64,
    "start_time": "2022-09-01T14:09:54.465Z"
   },
   {
    "duration": 4,
    "start_time": "2022-09-01T14:09:54.531Z"
   },
   {
    "duration": 164,
    "start_time": "2022-09-01T14:09:54.537Z"
   },
   {
    "duration": 145,
    "start_time": "2022-09-01T14:09:54.702Z"
   },
   {
    "duration": 381,
    "start_time": "2022-09-01T14:09:54.849Z"
   },
   {
    "duration": 144,
    "start_time": "2022-09-01T14:09:55.232Z"
   },
   {
    "duration": 147,
    "start_time": "2022-09-01T14:09:55.378Z"
   },
   {
    "duration": 140,
    "start_time": "2022-09-01T14:09:55.527Z"
   },
   {
    "duration": 135,
    "start_time": "2022-09-01T14:09:55.669Z"
   },
   {
    "duration": 133,
    "start_time": "2022-09-01T14:09:55.805Z"
   },
   {
    "duration": 161,
    "start_time": "2022-09-01T14:09:55.941Z"
   },
   {
    "duration": 133,
    "start_time": "2022-09-01T14:09:56.109Z"
   },
   {
    "duration": 153,
    "start_time": "2022-09-01T14:09:56.243Z"
   },
   {
    "duration": 152,
    "start_time": "2022-09-01T14:09:56.398Z"
   },
   {
    "duration": 151,
    "start_time": "2022-09-01T14:09:56.551Z"
   },
   {
    "duration": 13,
    "start_time": "2022-09-01T14:09:56.704Z"
   },
   {
    "duration": 158,
    "start_time": "2022-09-01T14:09:56.719Z"
   },
   {
    "duration": 6,
    "start_time": "2022-09-01T17:10:23.453Z"
   },
   {
    "duration": 6,
    "start_time": "2022-09-01T17:14:14.298Z"
   },
   {
    "duration": 5,
    "start_time": "2022-09-01T17:14:14.682Z"
   },
   {
    "duration": 5,
    "start_time": "2022-09-01T17:14:15.068Z"
   },
   {
    "duration": 330,
    "start_time": "2022-09-01T17:14:15.461Z"
   },
   {
    "duration": 6,
    "start_time": "2022-09-01T17:14:15.897Z"
   },
   {
    "duration": 5,
    "start_time": "2022-09-01T17:14:16.941Z"
   },
   {
    "duration": 6,
    "start_time": "2022-09-01T17:14:17.268Z"
   },
   {
    "duration": 8,
    "start_time": "2022-09-01T17:16:36.957Z"
   },
   {
    "duration": 164,
    "start_time": "2022-09-01T17:17:44.291Z"
   },
   {
    "duration": 5,
    "start_time": "2022-09-01T17:18:06.118Z"
   },
   {
    "duration": 174,
    "start_time": "2022-09-01T17:18:38.777Z"
   },
   {
    "duration": 197,
    "start_time": "2022-09-01T17:18:49.425Z"
   },
   {
    "duration": 189,
    "start_time": "2022-09-01T17:19:11.895Z"
   },
   {
    "duration": 152,
    "start_time": "2022-09-01T17:20:23.947Z"
   },
   {
    "duration": 851,
    "start_time": "2022-09-01T17:21:30.890Z"
   },
   {
    "duration": 166,
    "start_time": "2022-09-01T17:21:48.280Z"
   },
   {
    "duration": 180,
    "start_time": "2022-09-01T17:22:03.146Z"
   },
   {
    "duration": 179,
    "start_time": "2022-09-01T17:22:25.031Z"
   },
   {
    "duration": 167,
    "start_time": "2022-09-01T17:22:41.368Z"
   },
   {
    "duration": 170,
    "start_time": "2022-09-01T17:22:51.985Z"
   },
   {
    "duration": 178,
    "start_time": "2022-09-01T18:02:52.515Z"
   },
   {
    "duration": 269,
    "start_time": "2022-09-01T18:03:18.221Z"
   },
   {
    "duration": 282,
    "start_time": "2022-09-01T18:03:46.731Z"
   },
   {
    "duration": 320,
    "start_time": "2022-09-01T18:04:55.476Z"
   },
   {
    "duration": 305,
    "start_time": "2022-09-01T18:05:13.581Z"
   },
   {
    "duration": 285,
    "start_time": "2022-09-01T18:05:20.115Z"
   },
   {
    "duration": 181,
    "start_time": "2022-09-01T18:05:31.858Z"
   },
   {
    "duration": 181,
    "start_time": "2022-09-01T18:05:33.004Z"
   },
   {
    "duration": 298,
    "start_time": "2022-09-01T18:05:42.780Z"
   },
   {
    "duration": 277,
    "start_time": "2022-09-01T18:06:44.985Z"
   },
   {
    "duration": 338,
    "start_time": "2022-09-01T18:07:02.191Z"
   },
   {
    "duration": 308,
    "start_time": "2022-09-01T18:07:19.038Z"
   },
   {
    "duration": 308,
    "start_time": "2022-09-01T18:07:32.921Z"
   },
   {
    "duration": 309,
    "start_time": "2022-09-01T18:07:52.425Z"
   },
   {
    "duration": 298,
    "start_time": "2022-09-01T18:15:10.234Z"
   },
   {
    "duration": 296,
    "start_time": "2022-09-01T18:15:36.816Z"
   },
   {
    "duration": 176,
    "start_time": "2022-09-01T18:15:39.257Z"
   },
   {
    "duration": 160,
    "start_time": "2022-09-01T18:15:40.372Z"
   },
   {
    "duration": 306,
    "start_time": "2022-09-01T18:15:40.903Z"
   },
   {
    "duration": 282,
    "start_time": "2022-09-01T18:15:42.076Z"
   },
   {
    "duration": 336,
    "start_time": "2022-09-01T18:15:42.967Z"
   },
   {
    "duration": 375,
    "start_time": "2022-09-01T18:15:47.072Z"
   },
   {
    "duration": 295,
    "start_time": "2022-09-01T18:15:53.031Z"
   },
   {
    "duration": 293,
    "start_time": "2022-09-01T18:15:59.200Z"
   },
   {
    "duration": 325,
    "start_time": "2022-09-01T18:18:39.928Z"
   },
   {
    "duration": 651,
    "start_time": "2022-09-01T18:19:06.981Z"
   },
   {
    "duration": 335,
    "start_time": "2022-09-01T18:19:45.104Z"
   },
   {
    "duration": 8,
    "start_time": "2022-09-01T18:27:02.483Z"
   },
   {
    "duration": 10,
    "start_time": "2022-09-01T18:27:11.470Z"
   },
   {
    "duration": 10,
    "start_time": "2022-09-01T18:28:05.938Z"
   },
   {
    "duration": 11,
    "start_time": "2022-09-01T18:28:27.097Z"
   },
   {
    "duration": 10,
    "start_time": "2022-09-01T18:28:37.306Z"
   },
   {
    "duration": 9,
    "start_time": "2022-09-01T18:29:17.543Z"
   },
   {
    "duration": 6,
    "start_time": "2022-09-01T18:30:20.517Z"
   },
   {
    "duration": 7,
    "start_time": "2022-09-01T18:30:27.781Z"
   },
   {
    "duration": 7,
    "start_time": "2022-09-01T18:30:36.796Z"
   },
   {
    "duration": 7,
    "start_time": "2022-09-01T18:30:50.922Z"
   },
   {
    "duration": 10,
    "start_time": "2022-09-01T18:30:54.913Z"
   },
   {
    "duration": 7,
    "start_time": "2022-09-01T18:30:59.736Z"
   },
   {
    "duration": 7,
    "start_time": "2022-09-01T18:31:08.575Z"
   },
   {
    "duration": 6,
    "start_time": "2022-09-01T18:32:01.778Z"
   },
   {
    "duration": 7,
    "start_time": "2022-09-01T18:32:06.356Z"
   },
   {
    "duration": 8,
    "start_time": "2022-09-01T18:33:07.379Z"
   },
   {
    "duration": 8,
    "start_time": "2022-09-01T18:33:11.597Z"
   },
   {
    "duration": 20,
    "start_time": "2022-09-01T18:36:54.478Z"
   },
   {
    "duration": 19,
    "start_time": "2022-09-01T18:37:20.855Z"
   },
   {
    "duration": 7,
    "start_time": "2022-09-01T18:38:31.404Z"
   },
   {
    "duration": 8,
    "start_time": "2022-09-01T18:38:36.471Z"
   },
   {
    "duration": 10,
    "start_time": "2022-09-01T18:39:35.472Z"
   },
   {
    "duration": 13,
    "start_time": "2022-09-01T18:39:45.128Z"
   },
   {
    "duration": 5,
    "start_time": "2022-09-01T18:40:02.795Z"
   },
   {
    "duration": 9,
    "start_time": "2022-09-01T18:40:06.733Z"
   },
   {
    "duration": 11,
    "start_time": "2022-09-01T18:47:48.538Z"
   },
   {
    "duration": 7,
    "start_time": "2022-09-01T18:49:52.208Z"
   },
   {
    "duration": 12,
    "start_time": "2022-09-01T18:49:56.386Z"
   },
   {
    "duration": 10,
    "start_time": "2022-09-01T18:50:43.770Z"
   },
   {
    "duration": 12,
    "start_time": "2022-09-01T18:50:58.522Z"
   },
   {
    "duration": 17,
    "start_time": "2022-09-01T18:51:07.166Z"
   },
   {
    "duration": 12,
    "start_time": "2022-09-01T18:51:35.656Z"
   },
   {
    "duration": 15,
    "start_time": "2022-09-01T18:51:42.981Z"
   },
   {
    "duration": 3,
    "start_time": "2022-09-01T18:52:00.342Z"
   },
   {
    "duration": 112,
    "start_time": "2022-09-01T18:52:00.348Z"
   },
   {
    "duration": 16,
    "start_time": "2022-09-01T18:52:00.462Z"
   },
   {
    "duration": 41,
    "start_time": "2022-09-01T18:52:00.479Z"
   },
   {
    "duration": 1808,
    "start_time": "2022-09-01T18:52:00.522Z"
   },
   {
    "duration": 18,
    "start_time": "2022-09-01T18:52:02.332Z"
   },
   {
    "duration": 83,
    "start_time": "2022-09-01T18:52:02.351Z"
   },
   {
    "duration": 6,
    "start_time": "2022-09-01T18:52:02.435Z"
   },
   {
    "duration": 26,
    "start_time": "2022-09-01T18:52:02.443Z"
   },
   {
    "duration": 2,
    "start_time": "2022-09-01T18:52:02.470Z"
   },
   {
    "duration": 18,
    "start_time": "2022-09-01T18:52:02.474Z"
   },
   {
    "duration": 45,
    "start_time": "2022-09-01T18:52:02.493Z"
   },
   {
    "duration": 42,
    "start_time": "2022-09-01T18:52:02.540Z"
   },
   {
    "duration": 4,
    "start_time": "2022-09-01T18:52:02.586Z"
   },
   {
    "duration": 28,
    "start_time": "2022-09-01T18:52:02.592Z"
   },
   {
    "duration": 12,
    "start_time": "2022-09-01T18:52:02.622Z"
   },
   {
    "duration": 46,
    "start_time": "2022-09-01T18:52:02.636Z"
   },
   {
    "duration": 37,
    "start_time": "2022-09-01T18:52:02.684Z"
   },
   {
    "duration": 17,
    "start_time": "2022-09-01T18:52:02.723Z"
   },
   {
    "duration": 5,
    "start_time": "2022-09-01T18:52:02.742Z"
   },
   {
    "duration": 18,
    "start_time": "2022-09-01T18:52:02.748Z"
   },
   {
    "duration": 6,
    "start_time": "2022-09-01T18:52:02.768Z"
   },
   {
    "duration": 22,
    "start_time": "2022-09-01T18:52:02.775Z"
   },
   {
    "duration": 8,
    "start_time": "2022-09-01T18:52:02.810Z"
   },
   {
    "duration": 47,
    "start_time": "2022-09-01T18:52:02.820Z"
   },
   {
    "duration": 5,
    "start_time": "2022-09-01T18:52:02.869Z"
   },
   {
    "duration": 11,
    "start_time": "2022-09-01T18:52:02.875Z"
   },
   {
    "duration": 37,
    "start_time": "2022-09-01T18:52:02.888Z"
   },
   {
    "duration": 9,
    "start_time": "2022-09-01T18:52:02.927Z"
   },
   {
    "duration": 9,
    "start_time": "2022-09-01T18:52:02.939Z"
   },
   {
    "duration": 10,
    "start_time": "2022-09-01T18:52:02.951Z"
   },
   {
    "duration": 14,
    "start_time": "2022-09-01T18:52:02.963Z"
   },
   {
    "duration": 37,
    "start_time": "2022-09-01T18:52:02.979Z"
   },
   {
    "duration": 12,
    "start_time": "2022-09-01T18:52:03.018Z"
   },
   {
    "duration": 326,
    "start_time": "2022-09-01T18:52:03.033Z"
   },
   {
    "duration": 5,
    "start_time": "2022-09-01T18:52:03.361Z"
   },
   {
    "duration": 19,
    "start_time": "2022-09-01T18:52:03.367Z"
   },
   {
    "duration": 4,
    "start_time": "2022-09-01T18:52:03.388Z"
   },
   {
    "duration": 162,
    "start_time": "2022-09-01T18:52:03.393Z"
   },
   {
    "duration": 143,
    "start_time": "2022-09-01T18:52:03.557Z"
   },
   {
    "duration": 135,
    "start_time": "2022-09-01T18:52:03.708Z"
   },
   {
    "duration": 154,
    "start_time": "2022-09-01T18:52:03.844Z"
   },
   {
    "duration": 144,
    "start_time": "2022-09-01T18:52:04.000Z"
   },
   {
    "duration": 135,
    "start_time": "2022-09-01T18:52:04.146Z"
   },
   {
    "duration": 116,
    "start_time": "2022-09-01T18:52:04.282Z"
   },
   {
    "duration": 121,
    "start_time": "2022-09-01T18:52:04.400Z"
   },
   {
    "duration": 148,
    "start_time": "2022-09-01T18:52:04.523Z"
   },
   {
    "duration": 119,
    "start_time": "2022-09-01T18:52:04.672Z"
   },
   {
    "duration": 152,
    "start_time": "2022-09-01T18:52:04.793Z"
   },
   {
    "duration": 139,
    "start_time": "2022-09-01T18:52:04.947Z"
   },
   {
    "duration": 143,
    "start_time": "2022-09-01T18:52:05.087Z"
   },
   {
    "duration": 8,
    "start_time": "2022-09-01T18:52:05.232Z"
   },
   {
    "duration": 143,
    "start_time": "2022-09-01T18:52:05.242Z"
   },
   {
    "duration": 310,
    "start_time": "2022-09-01T18:52:05.387Z"
   },
   {
    "duration": 382,
    "start_time": "2022-09-01T18:52:05.699Z"
   },
   {
    "duration": 170,
    "start_time": "2022-09-01T18:52:06.083Z"
   },
   {
    "duration": 307,
    "start_time": "2022-09-01T18:52:06.254Z"
   },
   {
    "duration": 282,
    "start_time": "2022-09-01T18:52:06.563Z"
   },
   {
    "duration": 319,
    "start_time": "2022-09-01T18:52:06.847Z"
   },
   {
    "duration": 372,
    "start_time": "2022-09-01T18:52:07.168Z"
   },
   {
    "duration": 340,
    "start_time": "2022-09-01T18:52:07.542Z"
   },
   {
    "duration": 11,
    "start_time": "2022-09-01T18:52:07.884Z"
   },
   {
    "duration": 33,
    "start_time": "2022-09-01T18:52:07.897Z"
   },
   {
    "duration": 14,
    "start_time": "2022-09-01T18:52:31.113Z"
   },
   {
    "duration": 11,
    "start_time": "2022-09-01T18:53:05.062Z"
   },
   {
    "duration": 9,
    "start_time": "2022-09-01T18:53:08.381Z"
   },
   {
    "duration": 8,
    "start_time": "2022-09-01T18:53:44.873Z"
   },
   {
    "duration": 8,
    "start_time": "2022-09-01T18:53:47.594Z"
   },
   {
    "duration": 13,
    "start_time": "2022-09-01T18:54:50.671Z"
   },
   {
    "duration": 7,
    "start_time": "2022-09-01T18:54:52.616Z"
   },
   {
    "duration": 8,
    "start_time": "2022-09-01T18:55:03.355Z"
   },
   {
    "duration": 7,
    "start_time": "2022-09-01T18:56:26.403Z"
   },
   {
    "duration": 3,
    "start_time": "2022-09-01T18:56:39.583Z"
   },
   {
    "duration": 46,
    "start_time": "2022-09-01T18:56:44.628Z"
   },
   {
    "duration": 4,
    "start_time": "2022-09-01T18:56:57.025Z"
   },
   {
    "duration": 8,
    "start_time": "2022-09-01T18:58:03.406Z"
   },
   {
    "duration": 4,
    "start_time": "2022-09-01T18:58:38.003Z"
   },
   {
    "duration": 11,
    "start_time": "2022-09-01T18:58:59.922Z"
   },
   {
    "duration": 5,
    "start_time": "2022-09-01T18:59:00.594Z"
   },
   {
    "duration": 10,
    "start_time": "2022-09-01T18:59:05.826Z"
   },
   {
    "duration": 8,
    "start_time": "2022-09-01T18:59:22.497Z"
   },
   {
    "duration": 4,
    "start_time": "2022-09-01T18:59:37.855Z"
   },
   {
    "duration": 7,
    "start_time": "2022-09-01T18:59:42.230Z"
   },
   {
    "duration": 12,
    "start_time": "2022-09-01T19:00:07.368Z"
   },
   {
    "duration": 4,
    "start_time": "2022-09-01T19:00:16.581Z"
   },
   {
    "duration": 8,
    "start_time": "2022-09-01T19:00:22.175Z"
   },
   {
    "duration": 9,
    "start_time": "2022-09-01T19:00:37.724Z"
   },
   {
    "duration": 8,
    "start_time": "2022-09-01T19:00:53.033Z"
   },
   {
    "duration": 8,
    "start_time": "2022-09-01T19:01:03.731Z"
   },
   {
    "duration": 17,
    "start_time": "2022-09-01T19:07:52.464Z"
   },
   {
    "duration": 8,
    "start_time": "2022-09-01T19:08:00.162Z"
   },
   {
    "duration": 795,
    "start_time": "2022-09-01T19:10:54.928Z"
   },
   {
    "duration": 12,
    "start_time": "2022-09-01T19:12:02.431Z"
   },
   {
    "duration": 20,
    "start_time": "2022-09-01T19:12:12.286Z"
   },
   {
    "duration": 131,
    "start_time": "2022-09-01T19:13:40.117Z"
   },
   {
    "duration": 463,
    "start_time": "2022-09-01T21:22:28.679Z"
   },
   {
    "duration": 114,
    "start_time": "2022-09-01T21:22:29.144Z"
   },
   {
    "duration": 16,
    "start_time": "2022-09-01T21:22:29.260Z"
   },
   {
    "duration": 45,
    "start_time": "2022-09-01T21:22:29.284Z"
   },
   {
    "duration": 2477,
    "start_time": "2022-09-01T21:22:29.331Z"
   },
   {
    "duration": 3458,
    "start_time": "2022-09-01T21:22:31.810Z"
   },
   {
    "duration": 34,
    "start_time": "2022-09-01T21:22:35.269Z"
   },
   {
    "duration": 91,
    "start_time": "2022-09-01T21:22:35.305Z"
   },
   {
    "duration": 12,
    "start_time": "2022-09-01T21:22:35.399Z"
   },
   {
    "duration": 26,
    "start_time": "2022-09-01T21:22:35.415Z"
   },
   {
    "duration": 2,
    "start_time": "2022-09-01T21:22:35.443Z"
   },
   {
    "duration": 12,
    "start_time": "2022-09-01T21:22:35.447Z"
   },
   {
    "duration": 35,
    "start_time": "2022-09-01T21:22:35.460Z"
   },
   {
    "duration": 35,
    "start_time": "2022-09-01T21:22:35.497Z"
   },
   {
    "duration": 4,
    "start_time": "2022-09-01T21:22:35.534Z"
   },
   {
    "duration": 47,
    "start_time": "2022-09-01T21:22:35.540Z"
   },
   {
    "duration": 13,
    "start_time": "2022-09-01T21:22:35.589Z"
   },
   {
    "duration": 44,
    "start_time": "2022-09-01T21:22:35.604Z"
   },
   {
    "duration": 58,
    "start_time": "2022-09-01T21:22:35.650Z"
   },
   {
    "duration": 24,
    "start_time": "2022-09-01T21:22:35.710Z"
   },
   {
    "duration": 4,
    "start_time": "2022-09-01T21:22:35.736Z"
   },
   {
    "duration": 8,
    "start_time": "2022-09-01T21:22:35.742Z"
   },
   {
    "duration": 7,
    "start_time": "2022-09-01T21:22:35.752Z"
   },
   {
    "duration": 36,
    "start_time": "2022-09-01T21:22:35.760Z"
   },
   {
    "duration": 9,
    "start_time": "2022-09-01T21:22:35.798Z"
   },
   {
    "duration": 37,
    "start_time": "2022-09-01T21:22:35.809Z"
   },
   {
    "duration": 4,
    "start_time": "2022-09-01T21:22:35.848Z"
   },
   {
    "duration": 29,
    "start_time": "2022-09-01T21:22:35.856Z"
   },
   {
    "duration": 16,
    "start_time": "2022-09-01T21:22:35.887Z"
   },
   {
    "duration": 7,
    "start_time": "2022-09-01T21:22:35.906Z"
   },
   {
    "duration": 9,
    "start_time": "2022-09-01T21:22:35.915Z"
   },
   {
    "duration": 3,
    "start_time": "2022-09-01T21:22:35.926Z"
   },
   {
    "duration": 6,
    "start_time": "2022-09-01T21:22:35.930Z"
   },
   {
    "duration": 63,
    "start_time": "2022-09-01T21:22:35.937Z"
   },
   {
    "duration": 12,
    "start_time": "2022-09-01T21:22:36.002Z"
   },
   {
    "duration": 420,
    "start_time": "2022-09-01T21:22:36.015Z"
   },
   {
    "duration": 6,
    "start_time": "2022-09-01T21:22:36.436Z"
   },
   {
    "duration": 20,
    "start_time": "2022-09-01T21:22:36.444Z"
   },
   {
    "duration": 4,
    "start_time": "2022-09-01T21:22:36.466Z"
   },
   {
    "duration": 190,
    "start_time": "2022-09-01T21:22:36.486Z"
   },
   {
    "duration": 178,
    "start_time": "2022-09-01T21:22:36.679Z"
   },
   {
    "duration": 143,
    "start_time": "2022-09-01T21:22:36.859Z"
   },
   {
    "duration": 158,
    "start_time": "2022-09-01T21:22:37.003Z"
   },
   {
    "duration": 172,
    "start_time": "2022-09-01T21:22:37.163Z"
   },
   {
    "duration": 299,
    "start_time": "2022-09-01T21:22:37.337Z"
   },
   {
    "duration": 165,
    "start_time": "2022-09-01T21:22:37.638Z"
   },
   {
    "duration": 150,
    "start_time": "2022-09-01T21:22:37.805Z"
   },
   {
    "duration": 167,
    "start_time": "2022-09-01T21:22:37.957Z"
   },
   {
    "duration": 153,
    "start_time": "2022-09-01T21:22:38.126Z"
   },
   {
    "duration": 157,
    "start_time": "2022-09-01T21:22:38.285Z"
   },
   {
    "duration": 175,
    "start_time": "2022-09-01T21:22:38.443Z"
   },
   {
    "duration": 169,
    "start_time": "2022-09-01T21:22:38.620Z"
   },
   {
    "duration": 15,
    "start_time": "2022-09-01T21:22:38.794Z"
   },
   {
    "duration": 175,
    "start_time": "2022-09-01T21:22:38.816Z"
   },
   {
    "duration": 390,
    "start_time": "2022-09-01T21:22:38.996Z"
   },
   {
    "duration": 428,
    "start_time": "2022-09-01T21:22:39.389Z"
   },
   {
    "duration": 195,
    "start_time": "2022-09-01T21:22:39.819Z"
   },
   {
    "duration": 423,
    "start_time": "2022-09-01T21:22:40.016Z"
   },
   {
    "duration": 316,
    "start_time": "2022-09-01T21:22:40.442Z"
   },
   {
    "duration": 509,
    "start_time": "2022-09-01T21:22:40.760Z"
   },
   {
    "duration": 394,
    "start_time": "2022-09-01T21:22:41.271Z"
   },
   {
    "duration": 362,
    "start_time": "2022-09-01T21:22:41.667Z"
   },
   {
    "duration": 11,
    "start_time": "2022-09-01T21:22:42.031Z"
   },
   {
    "duration": 15,
    "start_time": "2022-09-01T21:22:42.044Z"
   },
   {
    "duration": 8,
    "start_time": "2022-09-01T21:22:42.060Z"
   },
   {
    "duration": 24,
    "start_time": "2022-09-01T21:22:42.070Z"
   },
   {
    "duration": 33,
    "start_time": "2022-09-01T21:22:42.096Z"
   },
   {
    "duration": 164,
    "start_time": "2022-09-01T21:22:42.131Z"
   },
   {
    "duration": 43,
    "start_time": "2022-09-01T22:27:11.747Z"
   },
   {
    "duration": 402,
    "start_time": "2022-09-01T22:27:19.146Z"
   },
   {
    "duration": 150,
    "start_time": "2022-09-01T22:27:19.550Z"
   },
   {
    "duration": 16,
    "start_time": "2022-09-01T22:27:19.701Z"
   },
   {
    "duration": 29,
    "start_time": "2022-09-01T22:27:19.719Z"
   },
   {
    "duration": 2126,
    "start_time": "2022-09-01T22:27:19.755Z"
   },
   {
    "duration": 1659,
    "start_time": "2022-09-01T22:27:21.883Z"
   },
   {
    "duration": 27,
    "start_time": "2022-09-01T22:27:23.543Z"
   },
   {
    "duration": 64,
    "start_time": "2022-09-01T22:27:23.572Z"
   },
   {
    "duration": 34,
    "start_time": "2022-09-01T22:27:23.655Z"
   },
   {
    "duration": 0,
    "start_time": "2022-09-01T22:27:23.693Z"
   },
   {
    "duration": 0,
    "start_time": "2022-09-01T22:27:23.695Z"
   },
   {
    "duration": 0,
    "start_time": "2022-09-01T22:27:23.696Z"
   },
   {
    "duration": 0,
    "start_time": "2022-09-01T22:27:23.697Z"
   },
   {
    "duration": 0,
    "start_time": "2022-09-01T22:27:23.698Z"
   },
   {
    "duration": 0,
    "start_time": "2022-09-01T22:27:23.699Z"
   },
   {
    "duration": 0,
    "start_time": "2022-09-01T22:27:23.700Z"
   },
   {
    "duration": 0,
    "start_time": "2022-09-01T22:27:23.702Z"
   },
   {
    "duration": 0,
    "start_time": "2022-09-01T22:27:23.703Z"
   },
   {
    "duration": 0,
    "start_time": "2022-09-01T22:27:23.705Z"
   },
   {
    "duration": 0,
    "start_time": "2022-09-01T22:27:23.706Z"
   },
   {
    "duration": 0,
    "start_time": "2022-09-01T22:27:23.707Z"
   },
   {
    "duration": 0,
    "start_time": "2022-09-01T22:27:23.708Z"
   },
   {
    "duration": 0,
    "start_time": "2022-09-01T22:27:23.709Z"
   },
   {
    "duration": 0,
    "start_time": "2022-09-01T22:27:23.710Z"
   },
   {
    "duration": 0,
    "start_time": "2022-09-01T22:27:23.717Z"
   },
   {
    "duration": 0,
    "start_time": "2022-09-01T22:27:23.754Z"
   },
   {
    "duration": 0,
    "start_time": "2022-09-01T22:27:23.756Z"
   },
   {
    "duration": 0,
    "start_time": "2022-09-01T22:27:23.757Z"
   },
   {
    "duration": 0,
    "start_time": "2022-09-01T22:27:23.758Z"
   },
   {
    "duration": 0,
    "start_time": "2022-09-01T22:27:23.759Z"
   },
   {
    "duration": 0,
    "start_time": "2022-09-01T22:27:23.760Z"
   },
   {
    "duration": 0,
    "start_time": "2022-09-01T22:27:23.761Z"
   },
   {
    "duration": 0,
    "start_time": "2022-09-01T22:27:23.761Z"
   },
   {
    "duration": 0,
    "start_time": "2022-09-01T22:27:23.762Z"
   },
   {
    "duration": 0,
    "start_time": "2022-09-01T22:27:23.763Z"
   },
   {
    "duration": 0,
    "start_time": "2022-09-01T22:27:23.764Z"
   },
   {
    "duration": 0,
    "start_time": "2022-09-01T22:27:23.765Z"
   },
   {
    "duration": 0,
    "start_time": "2022-09-01T22:27:23.766Z"
   },
   {
    "duration": 0,
    "start_time": "2022-09-01T22:27:23.767Z"
   },
   {
    "duration": 0,
    "start_time": "2022-09-01T22:27:23.768Z"
   },
   {
    "duration": 0,
    "start_time": "2022-09-01T22:27:23.769Z"
   },
   {
    "duration": 0,
    "start_time": "2022-09-01T22:27:23.770Z"
   },
   {
    "duration": 0,
    "start_time": "2022-09-01T22:27:23.772Z"
   },
   {
    "duration": 0,
    "start_time": "2022-09-01T22:27:23.772Z"
   },
   {
    "duration": 0,
    "start_time": "2022-09-01T22:27:23.773Z"
   },
   {
    "duration": 0,
    "start_time": "2022-09-01T22:27:23.776Z"
   },
   {
    "duration": 1,
    "start_time": "2022-09-01T22:27:23.776Z"
   },
   {
    "duration": 0,
    "start_time": "2022-09-01T22:27:23.778Z"
   },
   {
    "duration": 0,
    "start_time": "2022-09-01T22:27:23.779Z"
   },
   {
    "duration": 0,
    "start_time": "2022-09-01T22:27:23.780Z"
   },
   {
    "duration": 0,
    "start_time": "2022-09-01T22:27:23.781Z"
   },
   {
    "duration": 0,
    "start_time": "2022-09-01T22:27:23.782Z"
   },
   {
    "duration": 0,
    "start_time": "2022-09-01T22:27:23.783Z"
   },
   {
    "duration": 0,
    "start_time": "2022-09-01T22:27:23.784Z"
   },
   {
    "duration": 0,
    "start_time": "2022-09-01T22:27:23.785Z"
   },
   {
    "duration": 0,
    "start_time": "2022-09-01T22:27:23.786Z"
   },
   {
    "duration": 0,
    "start_time": "2022-09-01T22:27:23.787Z"
   },
   {
    "duration": 0,
    "start_time": "2022-09-01T22:27:23.788Z"
   },
   {
    "duration": 0,
    "start_time": "2022-09-01T22:27:23.789Z"
   },
   {
    "duration": 0,
    "start_time": "2022-09-01T22:27:23.790Z"
   },
   {
    "duration": 0,
    "start_time": "2022-09-01T22:27:23.791Z"
   },
   {
    "duration": 0,
    "start_time": "2022-09-01T22:27:23.792Z"
   },
   {
    "duration": 0,
    "start_time": "2022-09-01T22:27:23.855Z"
   },
   {
    "duration": 0,
    "start_time": "2022-09-01T22:27:23.857Z"
   },
   {
    "duration": 0,
    "start_time": "2022-09-01T22:27:23.858Z"
   },
   {
    "duration": 0,
    "start_time": "2022-09-01T22:27:23.859Z"
   },
   {
    "duration": 0,
    "start_time": "2022-09-01T22:27:23.860Z"
   },
   {
    "duration": 0,
    "start_time": "2022-09-01T22:27:23.861Z"
   },
   {
    "duration": 14,
    "start_time": "2022-09-01T22:28:21.883Z"
   },
   {
    "duration": 14,
    "start_time": "2022-09-01T22:28:55.475Z"
   },
   {
    "duration": 395,
    "start_time": "2022-09-01T22:29:32.527Z"
   },
   {
    "duration": 90,
    "start_time": "2022-09-01T22:29:32.923Z"
   },
   {
    "duration": 14,
    "start_time": "2022-09-01T22:29:33.015Z"
   },
   {
    "duration": 38,
    "start_time": "2022-09-01T22:29:33.031Z"
   },
   {
    "duration": 1891,
    "start_time": "2022-09-01T22:29:33.070Z"
   },
   {
    "duration": 1686,
    "start_time": "2022-09-01T22:29:34.962Z"
   },
   {
    "duration": 18,
    "start_time": "2022-09-01T22:29:36.650Z"
   },
   {
    "duration": 95,
    "start_time": "2022-09-01T22:29:36.670Z"
   },
   {
    "duration": 19,
    "start_time": "2022-09-01T22:29:36.767Z"
   },
   {
    "duration": 27,
    "start_time": "2022-09-01T22:29:36.789Z"
   },
   {
    "duration": 2,
    "start_time": "2022-09-01T22:29:36.817Z"
   },
   {
    "duration": 36,
    "start_time": "2022-09-01T22:29:36.821Z"
   },
   {
    "duration": 8,
    "start_time": "2022-09-01T22:29:36.859Z"
   },
   {
    "duration": 25,
    "start_time": "2022-09-01T22:29:36.869Z"
   },
   {
    "duration": 4,
    "start_time": "2022-09-01T22:29:36.895Z"
   },
   {
    "duration": 21,
    "start_time": "2022-09-01T22:29:36.901Z"
   },
   {
    "duration": 10,
    "start_time": "2022-09-01T22:29:36.955Z"
   },
   {
    "duration": 39,
    "start_time": "2022-09-01T22:29:36.967Z"
   },
   {
    "duration": 48,
    "start_time": "2022-09-01T22:29:37.008Z"
   },
   {
    "duration": 15,
    "start_time": "2022-09-01T22:29:37.057Z"
   },
   {
    "duration": 4,
    "start_time": "2022-09-01T22:29:37.073Z"
   },
   {
    "duration": 4,
    "start_time": "2022-09-01T22:29:37.078Z"
   },
   {
    "duration": 6,
    "start_time": "2022-09-01T22:29:37.083Z"
   },
   {
    "duration": 14,
    "start_time": "2022-09-01T22:29:37.090Z"
   },
   {
    "duration": 5,
    "start_time": "2022-09-01T22:29:37.105Z"
   },
   {
    "duration": 65,
    "start_time": "2022-09-01T22:29:37.111Z"
   },
   {
    "duration": 4,
    "start_time": "2022-09-01T22:29:37.178Z"
   },
   {
    "duration": 8,
    "start_time": "2022-09-01T22:29:37.185Z"
   },
   {
    "duration": 14,
    "start_time": "2022-09-01T22:29:37.194Z"
   },
   {
    "duration": 2,
    "start_time": "2022-09-01T22:29:37.210Z"
   },
   {
    "duration": 8,
    "start_time": "2022-09-01T22:29:37.214Z"
   },
   {
    "duration": 3,
    "start_time": "2022-09-01T22:29:37.223Z"
   },
   {
    "duration": 4,
    "start_time": "2022-09-01T22:29:37.255Z"
   },
   {
    "duration": 32,
    "start_time": "2022-09-01T22:29:37.261Z"
   },
   {
    "duration": 9,
    "start_time": "2022-09-01T22:29:37.294Z"
   },
   {
    "duration": 334,
    "start_time": "2022-09-01T22:29:37.305Z"
   },
   {
    "duration": 4,
    "start_time": "2022-09-01T22:29:37.641Z"
   },
   {
    "duration": 19,
    "start_time": "2022-09-01T22:29:37.647Z"
   },
   {
    "duration": 3,
    "start_time": "2022-09-01T22:29:37.668Z"
   },
   {
    "duration": 156,
    "start_time": "2022-09-01T22:29:37.673Z"
   },
   {
    "duration": 133,
    "start_time": "2022-09-01T22:29:37.831Z"
   },
   {
    "duration": 136,
    "start_time": "2022-09-01T22:29:37.965Z"
   },
   {
    "duration": 126,
    "start_time": "2022-09-01T22:29:38.103Z"
   },
   {
    "duration": 141,
    "start_time": "2022-09-01T22:29:38.231Z"
   },
   {
    "duration": 220,
    "start_time": "2022-09-01T22:29:38.373Z"
   },
   {
    "duration": 116,
    "start_time": "2022-09-01T22:29:38.594Z"
   },
   {
    "duration": 115,
    "start_time": "2022-09-01T22:29:38.711Z"
   },
   {
    "duration": 119,
    "start_time": "2022-09-01T22:29:38.828Z"
   },
   {
    "duration": 112,
    "start_time": "2022-09-01T22:29:38.949Z"
   },
   {
    "duration": 136,
    "start_time": "2022-09-01T22:29:39.063Z"
   },
   {
    "duration": 132,
    "start_time": "2022-09-01T22:29:39.201Z"
   },
   {
    "duration": 122,
    "start_time": "2022-09-01T22:29:39.335Z"
   },
   {
    "duration": 8,
    "start_time": "2022-09-01T22:29:39.459Z"
   },
   {
    "duration": 141,
    "start_time": "2022-09-01T22:29:39.468Z"
   },
   {
    "duration": 296,
    "start_time": "2022-09-01T22:29:39.611Z"
   },
   {
    "duration": 305,
    "start_time": "2022-09-01T22:29:39.909Z"
   },
   {
    "duration": 175,
    "start_time": "2022-09-01T22:29:40.216Z"
   },
   {
    "duration": 294,
    "start_time": "2022-09-01T22:29:40.392Z"
   },
   {
    "duration": 272,
    "start_time": "2022-09-01T22:29:40.688Z"
   },
   {
    "duration": 395,
    "start_time": "2022-09-01T22:29:40.962Z"
   },
   {
    "duration": 296,
    "start_time": "2022-09-01T22:29:41.359Z"
   },
   {
    "duration": 290,
    "start_time": "2022-09-01T22:29:41.656Z"
   },
   {
    "duration": 15,
    "start_time": "2022-09-01T22:29:41.948Z"
   },
   {
    "duration": 20,
    "start_time": "2022-09-01T22:29:41.964Z"
   },
   {
    "duration": 6,
    "start_time": "2022-09-01T22:29:41.985Z"
   },
   {
    "duration": 11,
    "start_time": "2022-09-01T22:29:41.992Z"
   },
   {
    "duration": 22,
    "start_time": "2022-09-01T22:29:42.004Z"
   },
   {
    "duration": 146,
    "start_time": "2022-09-01T22:29:42.027Z"
   },
   {
    "duration": 179,
    "start_time": "2022-09-01T22:31:19.490Z"
   },
   {
    "duration": 121,
    "start_time": "2022-09-01T22:31:23.688Z"
   },
   {
    "duration": 4,
    "start_time": "2022-09-01T22:36:01.440Z"
   },
   {
    "duration": 364,
    "start_time": "2022-09-01T22:39:17.087Z"
   },
   {
    "duration": 87,
    "start_time": "2022-09-01T22:39:17.455Z"
   },
   {
    "duration": 15,
    "start_time": "2022-09-01T22:39:17.543Z"
   },
   {
    "duration": 28,
    "start_time": "2022-09-01T22:39:17.560Z"
   },
   {
    "duration": 2027,
    "start_time": "2022-09-01T22:39:17.590Z"
   },
   {
    "duration": 1685,
    "start_time": "2022-09-01T22:39:19.619Z"
   },
   {
    "duration": 17,
    "start_time": "2022-09-01T22:39:21.306Z"
   },
   {
    "duration": 82,
    "start_time": "2022-09-01T22:39:21.324Z"
   },
   {
    "duration": 5,
    "start_time": "2022-09-01T22:39:21.407Z"
   },
   {
    "duration": 25,
    "start_time": "2022-09-01T22:39:21.413Z"
   },
   {
    "duration": 2,
    "start_time": "2022-09-01T22:39:21.454Z"
   },
   {
    "duration": 9,
    "start_time": "2022-09-01T22:39:21.458Z"
   },
   {
    "duration": 7,
    "start_time": "2022-09-01T22:39:21.468Z"
   },
   {
    "duration": 26,
    "start_time": "2022-09-01T22:39:21.477Z"
   },
   {
    "duration": 3,
    "start_time": "2022-09-01T22:39:21.505Z"
   },
   {
    "duration": 54,
    "start_time": "2022-09-01T22:39:21.509Z"
   },
   {
    "duration": 8,
    "start_time": "2022-09-01T22:39:21.564Z"
   },
   {
    "duration": 32,
    "start_time": "2022-09-01T22:39:21.573Z"
   },
   {
    "duration": 14,
    "start_time": "2022-09-01T22:39:21.606Z"
   },
   {
    "duration": 40,
    "start_time": "2022-09-01T22:39:21.621Z"
   },
   {
    "duration": 3,
    "start_time": "2022-09-01T22:39:21.663Z"
   },
   {
    "duration": 5,
    "start_time": "2022-09-01T22:39:21.668Z"
   },
   {
    "duration": 5,
    "start_time": "2022-09-01T22:39:21.674Z"
   },
   {
    "duration": 14,
    "start_time": "2022-09-01T22:39:21.680Z"
   },
   {
    "duration": 5,
    "start_time": "2022-09-01T22:39:21.696Z"
   },
   {
    "duration": 55,
    "start_time": "2022-09-01T22:39:21.702Z"
   },
   {
    "duration": 10,
    "start_time": "2022-09-01T22:39:21.758Z"
   },
   {
    "duration": 5,
    "start_time": "2022-09-01T22:39:21.769Z"
   },
   {
    "duration": 28,
    "start_time": "2022-09-01T22:39:49.437Z"
   },
   {
    "duration": 9,
    "start_time": "2022-09-01T22:39:50.933Z"
   },
   {
    "duration": 7,
    "start_time": "2022-09-01T22:39:51.942Z"
   },
   {
    "duration": 5,
    "start_time": "2022-09-01T22:40:11.291Z"
   },
   {
    "duration": 6,
    "start_time": "2022-09-01T22:40:17.339Z"
   },
   {
    "duration": 368,
    "start_time": "2022-09-01T22:40:52.661Z"
   },
   {
    "duration": 88,
    "start_time": "2022-09-01T22:40:53.031Z"
   },
   {
    "duration": 18,
    "start_time": "2022-09-01T22:40:53.121Z"
   },
   {
    "duration": 37,
    "start_time": "2022-09-01T22:40:53.141Z"
   },
   {
    "duration": 1901,
    "start_time": "2022-09-01T22:40:53.180Z"
   },
   {
    "duration": 1657,
    "start_time": "2022-09-01T22:40:55.083Z"
   },
   {
    "duration": 27,
    "start_time": "2022-09-01T22:40:56.742Z"
   },
   {
    "duration": 67,
    "start_time": "2022-09-01T22:40:56.771Z"
   },
   {
    "duration": 5,
    "start_time": "2022-09-01T22:40:56.854Z"
   },
   {
    "duration": 26,
    "start_time": "2022-09-01T22:40:56.861Z"
   },
   {
    "duration": 3,
    "start_time": "2022-09-01T22:40:56.888Z"
   },
   {
    "duration": 12,
    "start_time": "2022-09-01T22:40:56.892Z"
   },
   {
    "duration": 8,
    "start_time": "2022-09-01T22:40:56.905Z"
   },
   {
    "duration": 55,
    "start_time": "2022-09-01T22:40:56.915Z"
   },
   {
    "duration": 4,
    "start_time": "2022-09-01T22:40:56.971Z"
   },
   {
    "duration": 26,
    "start_time": "2022-09-01T22:40:56.976Z"
   },
   {
    "duration": 9,
    "start_time": "2022-09-01T22:40:57.004Z"
   },
   {
    "duration": 69,
    "start_time": "2022-09-01T22:40:57.014Z"
   },
   {
    "duration": 17,
    "start_time": "2022-09-01T22:40:57.086Z"
   },
   {
    "duration": 14,
    "start_time": "2022-09-01T22:40:57.104Z"
   },
   {
    "duration": 4,
    "start_time": "2022-09-01T22:40:57.119Z"
   },
   {
    "duration": 2,
    "start_time": "2022-09-01T22:40:57.125Z"
   },
   {
    "duration": 32,
    "start_time": "2022-09-01T22:40:57.128Z"
   },
   {
    "duration": 15,
    "start_time": "2022-09-01T22:40:57.161Z"
   },
   {
    "duration": 6,
    "start_time": "2022-09-01T22:40:57.178Z"
   },
   {
    "duration": 32,
    "start_time": "2022-09-01T22:40:57.185Z"
   },
   {
    "duration": 5,
    "start_time": "2022-09-01T22:40:57.218Z"
   },
   {
    "duration": 45,
    "start_time": "2022-09-01T22:40:57.224Z"
   },
   {
    "duration": 7,
    "start_time": "2022-09-01T22:40:57.271Z"
   },
   {
    "duration": 6,
    "start_time": "2022-09-01T22:40:57.280Z"
   },
   {
    "duration": 408,
    "start_time": "2022-09-01T22:44:54.237Z"
   },
   {
    "duration": 86,
    "start_time": "2022-09-01T22:44:54.647Z"
   },
   {
    "duration": 13,
    "start_time": "2022-09-01T22:44:54.735Z"
   },
   {
    "duration": 28,
    "start_time": "2022-09-01T22:44:54.750Z"
   },
   {
    "duration": 1977,
    "start_time": "2022-09-01T22:44:54.780Z"
   },
   {
    "duration": 1741,
    "start_time": "2022-09-01T22:44:56.759Z"
   },
   {
    "duration": 18,
    "start_time": "2022-09-01T22:44:58.501Z"
   },
   {
    "duration": 80,
    "start_time": "2022-09-01T22:44:58.521Z"
   },
   {
    "duration": 5,
    "start_time": "2022-09-01T22:44:58.602Z"
   },
   {
    "duration": 23,
    "start_time": "2022-09-01T22:44:58.609Z"
   },
   {
    "duration": 2,
    "start_time": "2022-09-01T22:44:58.633Z"
   },
   {
    "duration": 7,
    "start_time": "2022-09-01T22:44:58.654Z"
   },
   {
    "duration": 7,
    "start_time": "2022-09-01T22:44:58.662Z"
   },
   {
    "duration": 26,
    "start_time": "2022-09-01T22:44:58.670Z"
   },
   {
    "duration": 3,
    "start_time": "2022-09-01T22:44:58.697Z"
   },
   {
    "duration": 53,
    "start_time": "2022-09-01T22:44:58.701Z"
   },
   {
    "duration": 11,
    "start_time": "2022-09-01T22:44:58.756Z"
   },
   {
    "duration": 39,
    "start_time": "2022-09-01T22:44:58.769Z"
   },
   {
    "duration": 14,
    "start_time": "2022-09-01T22:44:58.809Z"
   },
   {
    "duration": 42,
    "start_time": "2022-09-01T22:44:58.825Z"
   },
   {
    "duration": 4,
    "start_time": "2022-09-01T22:44:58.869Z"
   },
   {
    "duration": 4,
    "start_time": "2022-09-01T22:44:58.874Z"
   },
   {
    "duration": 5,
    "start_time": "2022-09-01T22:44:58.879Z"
   },
   {
    "duration": 14,
    "start_time": "2022-09-01T22:44:58.886Z"
   },
   {
    "duration": 4,
    "start_time": "2022-09-01T22:44:58.901Z"
   },
   {
    "duration": 65,
    "start_time": "2022-09-01T22:44:58.906Z"
   },
   {
    "duration": 5,
    "start_time": "2022-09-01T22:44:58.972Z"
   },
   {
    "duration": 14,
    "start_time": "2022-09-01T22:44:58.981Z"
   },
   {
    "duration": 9,
    "start_time": "2022-09-01T22:44:58.996Z"
   },
   {
    "duration": 4,
    "start_time": "2022-09-01T22:44:59.006Z"
   },
   {
    "duration": 8,
    "start_time": "2022-09-01T22:44:59.011Z"
   },
   {
    "duration": 41,
    "start_time": "2022-09-01T22:44:59.020Z"
   },
   {
    "duration": 4,
    "start_time": "2022-09-01T22:44:59.063Z"
   },
   {
    "duration": 7,
    "start_time": "2022-09-01T22:44:59.069Z"
   },
   {
    "duration": 4,
    "start_time": "2022-09-01T22:44:59.078Z"
   },
   {
    "duration": 4,
    "start_time": "2022-09-01T22:44:59.084Z"
   },
   {
    "duration": 4,
    "start_time": "2022-09-01T22:44:59.090Z"
   },
   {
    "duration": 60,
    "start_time": "2022-09-01T22:44:59.096Z"
   },
   {
    "duration": 10,
    "start_time": "2022-09-01T22:44:59.158Z"
   },
   {
    "duration": 315,
    "start_time": "2022-09-01T22:44:59.170Z"
   },
   {
    "duration": 4,
    "start_time": "2022-09-01T22:44:59.487Z"
   },
   {
    "duration": 15,
    "start_time": "2022-09-01T22:44:59.493Z"
   },
   {
    "duration": 3,
    "start_time": "2022-09-01T22:44:59.509Z"
   },
   {
    "duration": 183,
    "start_time": "2022-09-01T22:44:59.514Z"
   },
   {
    "duration": 133,
    "start_time": "2022-09-01T22:44:59.699Z"
   },
   {
    "duration": 123,
    "start_time": "2022-09-01T22:44:59.834Z"
   },
   {
    "duration": 221,
    "start_time": "2022-09-01T22:44:59.958Z"
   },
   {
    "duration": 179,
    "start_time": "2022-09-01T22:45:00.181Z"
   },
   {
    "duration": 238,
    "start_time": "2022-09-01T22:45:00.361Z"
   },
   {
    "duration": 122,
    "start_time": "2022-09-01T22:45:00.601Z"
   },
   {
    "duration": 120,
    "start_time": "2022-09-01T22:45:00.725Z"
   },
   {
    "duration": 137,
    "start_time": "2022-09-01T22:45:00.847Z"
   },
   {
    "duration": 127,
    "start_time": "2022-09-01T22:45:00.986Z"
   },
   {
    "duration": 136,
    "start_time": "2022-09-01T22:45:01.114Z"
   },
   {
    "duration": 135,
    "start_time": "2022-09-01T22:45:01.254Z"
   },
   {
    "duration": 136,
    "start_time": "2022-09-01T22:45:01.391Z"
   },
   {
    "duration": 9,
    "start_time": "2022-09-01T22:45:01.528Z"
   },
   {
    "duration": 143,
    "start_time": "2022-09-01T22:45:01.538Z"
   },
   {
    "duration": 286,
    "start_time": "2022-09-01T22:45:01.682Z"
   },
   {
    "duration": 302,
    "start_time": "2022-09-01T22:45:01.969Z"
   },
   {
    "duration": 159,
    "start_time": "2022-09-01T22:45:02.273Z"
   },
   {
    "duration": 298,
    "start_time": "2022-09-01T22:45:02.434Z"
   },
   {
    "duration": 275,
    "start_time": "2022-09-01T22:45:02.734Z"
   },
   {
    "duration": 404,
    "start_time": "2022-09-01T22:45:03.011Z"
   },
   {
    "duration": 301,
    "start_time": "2022-09-01T22:45:03.417Z"
   },
   {
    "duration": 298,
    "start_time": "2022-09-01T22:45:03.719Z"
   },
   {
    "duration": 10,
    "start_time": "2022-09-01T22:45:04.019Z"
   },
   {
    "duration": 26,
    "start_time": "2022-09-01T22:45:04.030Z"
   },
   {
    "duration": 3,
    "start_time": "2022-09-01T22:45:04.058Z"
   },
   {
    "duration": 9,
    "start_time": "2022-09-01T22:45:04.062Z"
   },
   {
    "duration": 22,
    "start_time": "2022-09-01T22:45:04.072Z"
   },
   {
    "duration": 138,
    "start_time": "2022-09-01T22:45:04.096Z"
   },
   {
    "duration": 12,
    "start_time": "2022-09-01T22:45:47.873Z"
   },
   {
    "duration": 5,
    "start_time": "2022-09-01T22:46:05.094Z"
   },
   {
    "duration": 2,
    "start_time": "2022-09-01T22:46:18.807Z"
   },
   {
    "duration": 93,
    "start_time": "2022-09-01T22:46:18.811Z"
   },
   {
    "duration": 12,
    "start_time": "2022-09-01T22:46:18.906Z"
   },
   {
    "duration": 42,
    "start_time": "2022-09-01T22:46:18.920Z"
   },
   {
    "duration": 1817,
    "start_time": "2022-09-01T22:46:18.963Z"
   },
   {
    "duration": 1676,
    "start_time": "2022-09-01T22:46:20.782Z"
   },
   {
    "duration": 17,
    "start_time": "2022-09-01T22:46:22.460Z"
   },
   {
    "duration": 219,
    "start_time": "2022-09-01T22:46:22.479Z"
   },
   {
    "duration": 5,
    "start_time": "2022-09-01T22:46:22.700Z"
   },
   {
    "duration": 24,
    "start_time": "2022-09-01T22:46:22.706Z"
   },
   {
    "duration": 3,
    "start_time": "2022-09-01T22:46:22.732Z"
   },
   {
    "duration": 24,
    "start_time": "2022-09-01T22:46:22.736Z"
   },
   {
    "duration": 6,
    "start_time": "2022-09-01T22:46:22.762Z"
   },
   {
    "duration": 24,
    "start_time": "2022-09-01T22:46:22.769Z"
   },
   {
    "duration": 3,
    "start_time": "2022-09-01T22:46:22.795Z"
   },
   {
    "duration": 59,
    "start_time": "2022-09-01T22:46:22.800Z"
   },
   {
    "duration": 8,
    "start_time": "2022-09-01T22:46:22.861Z"
   },
   {
    "duration": 32,
    "start_time": "2022-09-01T22:46:22.870Z"
   },
   {
    "duration": 18,
    "start_time": "2022-09-01T22:46:22.903Z"
   },
   {
    "duration": 42,
    "start_time": "2022-09-01T22:46:22.922Z"
   },
   {
    "duration": 4,
    "start_time": "2022-09-01T22:46:22.965Z"
   },
   {
    "duration": 4,
    "start_time": "2022-09-01T22:46:22.970Z"
   },
   {
    "duration": 9,
    "start_time": "2022-09-01T22:46:22.976Z"
   },
   {
    "duration": 32,
    "start_time": "2022-09-01T22:46:22.987Z"
   },
   {
    "duration": 5,
    "start_time": "2022-09-01T22:46:23.020Z"
   },
   {
    "duration": 41,
    "start_time": "2022-09-01T22:46:23.026Z"
   },
   {
    "duration": 4,
    "start_time": "2022-09-01T22:46:23.069Z"
   },
   {
    "duration": 11,
    "start_time": "2022-09-01T22:46:23.074Z"
   },
   {
    "duration": 4,
    "start_time": "2022-09-01T22:46:23.088Z"
   },
   {
    "duration": 5,
    "start_time": "2022-09-01T22:46:23.093Z"
   },
   {
    "duration": 10,
    "start_time": "2022-09-01T22:46:23.099Z"
   },
   {
    "duration": 9,
    "start_time": "2022-09-01T22:46:23.110Z"
   },
   {
    "duration": 36,
    "start_time": "2022-09-01T22:46:23.120Z"
   },
   {
    "duration": 8,
    "start_time": "2022-09-01T22:46:23.157Z"
   },
   {
    "duration": 5,
    "start_time": "2022-09-01T22:46:23.167Z"
   },
   {
    "duration": 4,
    "start_time": "2022-09-01T22:46:23.173Z"
   },
   {
    "duration": 5,
    "start_time": "2022-09-01T22:46:23.178Z"
   },
   {
    "duration": 21,
    "start_time": "2022-09-01T22:46:23.184Z"
   },
   {
    "duration": 8,
    "start_time": "2022-09-01T22:46:23.206Z"
   },
   {
    "duration": 16,
    "start_time": "2022-09-01T22:48:52.951Z"
   },
   {
    "duration": 372,
    "start_time": "2022-09-01T22:55:21.176Z"
   },
   {
    "duration": 87,
    "start_time": "2022-09-01T22:55:21.555Z"
   },
   {
    "duration": 13,
    "start_time": "2022-09-01T22:55:21.643Z"
   },
   {
    "duration": 27,
    "start_time": "2022-09-01T22:55:21.658Z"
   },
   {
    "duration": 1890,
    "start_time": "2022-09-01T22:55:21.687Z"
   },
   {
    "duration": 2204,
    "start_time": "2022-09-01T22:55:23.579Z"
   },
   {
    "duration": 72,
    "start_time": "2022-09-01T22:55:25.785Z"
   },
   {
    "duration": 118,
    "start_time": "2022-09-01T22:55:25.858Z"
   },
   {
    "duration": 5,
    "start_time": "2022-09-01T22:55:25.977Z"
   },
   {
    "duration": 79,
    "start_time": "2022-09-01T22:55:25.983Z"
   },
   {
    "duration": 2,
    "start_time": "2022-09-01T22:55:26.063Z"
   },
   {
    "duration": 12,
    "start_time": "2022-09-01T22:55:26.067Z"
   },
   {
    "duration": 9,
    "start_time": "2022-09-01T22:55:26.080Z"
   },
   {
    "duration": 76,
    "start_time": "2022-09-01T22:55:26.092Z"
   },
   {
    "duration": 4,
    "start_time": "2022-09-01T22:55:26.169Z"
   },
   {
    "duration": 87,
    "start_time": "2022-09-01T22:55:26.174Z"
   },
   {
    "duration": 11,
    "start_time": "2022-09-01T22:55:26.262Z"
   },
   {
    "duration": 85,
    "start_time": "2022-09-01T22:55:26.275Z"
   },
   {
    "duration": 17,
    "start_time": "2022-09-01T22:55:26.361Z"
   },
   {
    "duration": 16,
    "start_time": "2022-09-01T22:55:26.380Z"
   },
   {
    "duration": 4,
    "start_time": "2022-09-01T22:55:26.455Z"
   },
   {
    "duration": 3,
    "start_time": "2022-09-01T22:55:26.461Z"
   },
   {
    "duration": 4,
    "start_time": "2022-09-01T22:55:26.466Z"
   },
   {
    "duration": 14,
    "start_time": "2022-09-01T22:55:26.472Z"
   },
   {
    "duration": 4,
    "start_time": "2022-09-01T22:55:26.487Z"
   },
   {
    "duration": 63,
    "start_time": "2022-09-01T22:55:26.492Z"
   },
   {
    "duration": 4,
    "start_time": "2022-09-01T22:55:26.556Z"
   },
   {
    "duration": 11,
    "start_time": "2022-09-01T22:55:26.562Z"
   },
   {
    "duration": 9,
    "start_time": "2022-09-01T22:55:26.574Z"
   },
   {
    "duration": 5,
    "start_time": "2022-09-01T22:55:26.585Z"
   },
   {
    "duration": 9,
    "start_time": "2022-09-01T22:55:26.592Z"
   },
   {
    "duration": 9,
    "start_time": "2022-09-01T22:55:26.603Z"
   },
   {
    "duration": 3,
    "start_time": "2022-09-01T22:55:26.613Z"
   },
   {
    "duration": 42,
    "start_time": "2022-09-01T22:55:26.618Z"
   },
   {
    "duration": 4,
    "start_time": "2022-09-01T22:55:26.661Z"
   },
   {
    "duration": 6,
    "start_time": "2022-09-01T22:55:26.667Z"
   },
   {
    "duration": 7,
    "start_time": "2022-09-01T22:55:26.675Z"
   },
   {
    "duration": 24,
    "start_time": "2022-09-01T22:55:26.684Z"
   },
   {
    "duration": 15,
    "start_time": "2022-09-01T22:55:26.710Z"
   },
   {
    "duration": 340,
    "start_time": "2022-09-01T22:55:26.726Z"
   },
   {
    "duration": 5,
    "start_time": "2022-09-01T22:55:27.070Z"
   },
   {
    "duration": 17,
    "start_time": "2022-09-01T22:55:27.076Z"
   },
   {
    "duration": 4,
    "start_time": "2022-09-01T22:55:27.095Z"
   },
   {
    "duration": 164,
    "start_time": "2022-09-01T22:55:27.101Z"
   },
   {
    "duration": 165,
    "start_time": "2022-09-01T22:55:27.267Z"
   },
   {
    "duration": 142,
    "start_time": "2022-09-01T22:55:27.434Z"
   },
   {
    "duration": 146,
    "start_time": "2022-09-01T22:55:27.578Z"
   },
   {
    "duration": 137,
    "start_time": "2022-09-01T22:55:27.726Z"
   },
   {
    "duration": 227,
    "start_time": "2022-09-01T22:55:27.865Z"
   },
   {
    "duration": 121,
    "start_time": "2022-09-01T22:55:28.093Z"
   },
   {
    "duration": 113,
    "start_time": "2022-09-01T22:55:28.215Z"
   },
   {
    "duration": 128,
    "start_time": "2022-09-01T22:55:28.330Z"
   },
   {
    "duration": 109,
    "start_time": "2022-09-01T22:55:28.460Z"
   },
   {
    "duration": 136,
    "start_time": "2022-09-01T22:55:28.570Z"
   },
   {
    "duration": 132,
    "start_time": "2022-09-01T22:55:28.708Z"
   },
   {
    "duration": 133,
    "start_time": "2022-09-01T22:55:28.842Z"
   },
   {
    "duration": 9,
    "start_time": "2022-09-01T22:55:28.977Z"
   },
   {
    "duration": 146,
    "start_time": "2022-09-01T22:55:28.987Z"
   },
   {
    "duration": 292,
    "start_time": "2022-09-01T22:55:29.136Z"
   },
   {
    "duration": 294,
    "start_time": "2022-09-01T22:55:29.429Z"
   },
   {
    "duration": 158,
    "start_time": "2022-09-01T22:55:29.725Z"
   },
   {
    "duration": 296,
    "start_time": "2022-09-01T22:55:29.885Z"
   },
   {
    "duration": 277,
    "start_time": "2022-09-01T22:55:30.182Z"
   },
   {
    "duration": 508,
    "start_time": "2022-09-01T22:55:30.461Z"
   },
   {
    "duration": 618,
    "start_time": "2022-09-01T22:55:30.971Z"
   },
   {
    "duration": 585,
    "start_time": "2022-09-01T22:55:31.591Z"
   },
   {
    "duration": 11,
    "start_time": "2022-09-01T22:55:32.177Z"
   },
   {
    "duration": 65,
    "start_time": "2022-09-01T22:55:32.190Z"
   },
   {
    "duration": 3,
    "start_time": "2022-09-01T22:55:32.257Z"
   },
   {
    "duration": 10,
    "start_time": "2022-09-01T22:55:32.262Z"
   },
   {
    "duration": 17,
    "start_time": "2022-09-01T22:55:32.274Z"
   },
   {
    "duration": 184,
    "start_time": "2022-09-01T22:55:32.292Z"
   },
   {
    "duration": 5,
    "start_time": "2022-09-01T22:56:05.212Z"
   },
   {
    "duration": 6,
    "start_time": "2022-09-01T22:56:20.338Z"
   },
   {
    "duration": 28,
    "start_time": "2022-09-01T22:57:15.066Z"
   },
   {
    "duration": 404,
    "start_time": "2022-09-01T22:57:22.738Z"
   },
   {
    "duration": 85,
    "start_time": "2022-09-01T22:57:23.144Z"
   },
   {
    "duration": 15,
    "start_time": "2022-09-01T22:57:23.230Z"
   },
   {
    "duration": 30,
    "start_time": "2022-09-01T22:57:23.246Z"
   },
   {
    "duration": 1876,
    "start_time": "2022-09-01T22:57:23.277Z"
   },
   {
    "duration": 1631,
    "start_time": "2022-09-01T22:57:25.154Z"
   },
   {
    "duration": 17,
    "start_time": "2022-09-01T22:57:26.787Z"
   },
   {
    "duration": 77,
    "start_time": "2022-09-01T22:57:26.805Z"
   },
   {
    "duration": 5,
    "start_time": "2022-09-01T22:57:26.883Z"
   },
   {
    "duration": 41,
    "start_time": "2022-09-01T22:57:26.890Z"
   },
   {
    "duration": 3,
    "start_time": "2022-09-01T22:57:26.932Z"
   },
   {
    "duration": 9,
    "start_time": "2022-09-01T22:57:26.936Z"
   },
   {
    "duration": 7,
    "start_time": "2022-09-01T22:57:26.954Z"
   },
   {
    "duration": 24,
    "start_time": "2022-09-01T22:57:26.962Z"
   },
   {
    "duration": 4,
    "start_time": "2022-09-01T22:57:26.987Z"
   },
   {
    "duration": 25,
    "start_time": "2022-09-01T22:57:26.993Z"
   },
   {
    "duration": 37,
    "start_time": "2022-09-01T22:57:27.020Z"
   },
   {
    "duration": 31,
    "start_time": "2022-09-01T22:57:27.059Z"
   },
   {
    "duration": 16,
    "start_time": "2022-09-01T22:57:27.092Z"
   },
   {
    "duration": 46,
    "start_time": "2022-09-01T22:57:27.110Z"
   },
   {
    "duration": 5,
    "start_time": "2022-09-01T22:57:27.158Z"
   },
   {
    "duration": 8,
    "start_time": "2022-09-01T22:57:27.165Z"
   },
   {
    "duration": 6,
    "start_time": "2022-09-01T22:57:27.174Z"
   },
   {
    "duration": 13,
    "start_time": "2022-09-01T22:57:27.182Z"
   },
   {
    "duration": 4,
    "start_time": "2022-09-01T22:57:27.197Z"
   },
   {
    "duration": 59,
    "start_time": "2022-09-01T22:57:27.203Z"
   },
   {
    "duration": 6,
    "start_time": "2022-09-01T22:57:27.264Z"
   },
   {
    "duration": 16,
    "start_time": "2022-09-01T22:57:27.275Z"
   },
   {
    "duration": 8,
    "start_time": "2022-09-01T22:57:27.293Z"
   },
   {
    "duration": 8,
    "start_time": "2022-09-01T22:57:27.303Z"
   },
   {
    "duration": 12,
    "start_time": "2022-09-01T22:57:27.313Z"
   },
   {
    "duration": 36,
    "start_time": "2022-09-01T22:57:27.327Z"
   },
   {
    "duration": 6,
    "start_time": "2022-09-01T22:57:27.365Z"
   },
   {
    "duration": 11,
    "start_time": "2022-09-01T22:57:27.373Z"
   },
   {
    "duration": 7,
    "start_time": "2022-09-01T22:57:27.386Z"
   },
   {
    "duration": 5,
    "start_time": "2022-09-01T22:57:27.395Z"
   },
   {
    "duration": 5,
    "start_time": "2022-09-01T22:57:27.401Z"
   },
   {
    "duration": 19,
    "start_time": "2022-09-01T22:57:27.407Z"
   },
   {
    "duration": 38,
    "start_time": "2022-09-01T22:57:27.428Z"
   },
   {
    "duration": 295,
    "start_time": "2022-09-01T22:57:27.468Z"
   },
   {
    "duration": 5,
    "start_time": "2022-09-01T22:57:27.765Z"
   },
   {
    "duration": 16,
    "start_time": "2022-09-01T22:57:27.772Z"
   },
   {
    "duration": 4,
    "start_time": "2022-09-01T22:57:27.790Z"
   },
   {
    "duration": 160,
    "start_time": "2022-09-01T22:57:27.795Z"
   },
   {
    "duration": 128,
    "start_time": "2022-09-01T22:57:27.956Z"
   },
   {
    "duration": 125,
    "start_time": "2022-09-01T22:57:28.086Z"
   },
   {
    "duration": 125,
    "start_time": "2022-09-01T22:57:28.213Z"
   },
   {
    "duration": 131,
    "start_time": "2022-09-01T22:57:28.340Z"
   },
   {
    "duration": 215,
    "start_time": "2022-09-01T22:57:28.472Z"
   },
   {
    "duration": 108,
    "start_time": "2022-09-01T22:57:28.688Z"
   },
   {
    "duration": 111,
    "start_time": "2022-09-01T22:57:28.797Z"
   },
   {
    "duration": 119,
    "start_time": "2022-09-01T22:57:28.909Z"
   },
   {
    "duration": 106,
    "start_time": "2022-09-01T22:57:29.029Z"
   },
   {
    "duration": 135,
    "start_time": "2022-09-01T22:57:29.137Z"
   },
   {
    "duration": 122,
    "start_time": "2022-09-01T22:57:29.273Z"
   },
   {
    "duration": 128,
    "start_time": "2022-09-01T22:57:29.396Z"
   },
   {
    "duration": 8,
    "start_time": "2022-09-01T22:57:29.525Z"
   },
   {
    "duration": 132,
    "start_time": "2022-09-01T22:57:29.534Z"
   },
   {
    "duration": 496,
    "start_time": "2022-09-01T22:57:29.667Z"
   },
   {
    "duration": 595,
    "start_time": "2022-09-01T22:57:30.164Z"
   },
   {
    "duration": 311,
    "start_time": "2022-09-01T22:57:30.760Z"
   },
   {
    "duration": 463,
    "start_time": "2022-09-01T22:57:31.073Z"
   },
   {
    "duration": 258,
    "start_time": "2022-09-01T22:57:31.537Z"
   },
   {
    "duration": 366,
    "start_time": "2022-09-01T22:57:31.796Z"
   },
   {
    "duration": 282,
    "start_time": "2022-09-01T22:57:32.163Z"
   },
   {
    "duration": 283,
    "start_time": "2022-09-01T22:57:32.446Z"
   },
   {
    "duration": 10,
    "start_time": "2022-09-01T22:57:32.731Z"
   },
   {
    "duration": 22,
    "start_time": "2022-09-01T22:57:32.742Z"
   },
   {
    "duration": 3,
    "start_time": "2022-09-01T22:57:32.765Z"
   },
   {
    "duration": 8,
    "start_time": "2022-09-01T22:57:32.769Z"
   },
   {
    "duration": 17,
    "start_time": "2022-09-01T22:57:32.779Z"
   },
   {
    "duration": 140,
    "start_time": "2022-09-01T22:57:32.797Z"
   },
   {
    "duration": 38,
    "start_time": "2022-09-01T22:58:25.134Z"
   },
   {
    "duration": 6,
    "start_time": "2022-09-01T22:58:27.610Z"
   },
   {
    "duration": 5,
    "start_time": "2022-09-01T22:59:20.216Z"
   },
   {
    "duration": 26,
    "start_time": "2022-09-01T23:02:38.308Z"
   },
   {
    "duration": 95,
    "start_time": "2022-09-01T23:05:19.864Z"
   },
   {
    "duration": 130,
    "start_time": "2022-09-01T23:08:26.708Z"
   },
   {
    "duration": 367,
    "start_time": "2022-09-01T23:09:13.484Z"
   },
   {
    "duration": 86,
    "start_time": "2022-09-01T23:09:13.854Z"
   },
   {
    "duration": 14,
    "start_time": "2022-09-01T23:09:13.942Z"
   },
   {
    "duration": 28,
    "start_time": "2022-09-01T23:09:13.957Z"
   },
   {
    "duration": 1895,
    "start_time": "2022-09-01T23:09:13.986Z"
   },
   {
    "duration": 1746,
    "start_time": "2022-09-01T23:09:15.883Z"
   },
   {
    "duration": 28,
    "start_time": "2022-09-01T23:09:17.631Z"
   },
   {
    "duration": 63,
    "start_time": "2022-09-01T23:09:17.660Z"
   },
   {
    "duration": 4,
    "start_time": "2022-09-01T23:09:17.725Z"
   },
   {
    "duration": 41,
    "start_time": "2022-09-01T23:09:17.731Z"
   },
   {
    "duration": 2,
    "start_time": "2022-09-01T23:09:17.774Z"
   },
   {
    "duration": 12,
    "start_time": "2022-09-01T23:09:17.778Z"
   },
   {
    "duration": 7,
    "start_time": "2022-09-01T23:09:17.792Z"
   },
   {
    "duration": 24,
    "start_time": "2022-09-01T23:09:17.800Z"
   },
   {
    "duration": 30,
    "start_time": "2022-09-01T23:09:17.825Z"
   },
   {
    "duration": 20,
    "start_time": "2022-09-01T23:09:17.856Z"
   },
   {
    "duration": 11,
    "start_time": "2022-09-01T23:09:17.878Z"
   },
   {
    "duration": 30,
    "start_time": "2022-09-01T23:09:17.891Z"
   },
   {
    "duration": 38,
    "start_time": "2022-09-01T23:09:17.922Z"
   },
   {
    "duration": 14,
    "start_time": "2022-09-01T23:09:17.961Z"
   },
   {
    "duration": 4,
    "start_time": "2022-09-01T23:09:17.977Z"
   },
   {
    "duration": 4,
    "start_time": "2022-09-01T23:09:17.982Z"
   },
   {
    "duration": 5,
    "start_time": "2022-09-01T23:09:17.987Z"
   },
   {
    "duration": 14,
    "start_time": "2022-09-01T23:09:17.994Z"
   },
   {
    "duration": 5,
    "start_time": "2022-09-01T23:09:18.009Z"
   },
   {
    "duration": 75,
    "start_time": "2022-09-01T23:09:18.015Z"
   },
   {
    "duration": 4,
    "start_time": "2022-09-01T23:09:18.092Z"
   },
   {
    "duration": 10,
    "start_time": "2022-09-01T23:09:18.100Z"
   },
   {
    "duration": 6,
    "start_time": "2022-09-01T23:09:18.111Z"
   },
   {
    "duration": 37,
    "start_time": "2022-09-01T23:09:18.119Z"
   },
   {
    "duration": 6,
    "start_time": "2022-09-01T23:09:18.157Z"
   },
   {
    "duration": 10,
    "start_time": "2022-09-01T23:09:18.164Z"
   },
   {
    "duration": 3,
    "start_time": "2022-09-01T23:09:18.175Z"
   },
   {
    "duration": 7,
    "start_time": "2022-09-01T23:09:18.180Z"
   },
   {
    "duration": 5,
    "start_time": "2022-09-01T23:09:18.188Z"
   },
   {
    "duration": 2,
    "start_time": "2022-09-01T23:09:18.195Z"
   },
   {
    "duration": 5,
    "start_time": "2022-09-01T23:09:18.199Z"
   },
   {
    "duration": 55,
    "start_time": "2022-09-01T23:09:18.205Z"
   },
   {
    "duration": 14,
    "start_time": "2022-09-01T23:09:18.262Z"
   },
   {
    "duration": 330,
    "start_time": "2022-09-01T23:09:18.278Z"
   },
   {
    "duration": 5,
    "start_time": "2022-09-01T23:09:18.610Z"
   },
   {
    "duration": 16,
    "start_time": "2022-09-01T23:09:18.616Z"
   },
   {
    "duration": 4,
    "start_time": "2022-09-01T23:09:18.634Z"
   },
   {
    "duration": 226,
    "start_time": "2022-09-01T23:09:18.656Z"
   },
   {
    "duration": 199,
    "start_time": "2022-09-01T23:09:18.884Z"
   },
   {
    "duration": 143,
    "start_time": "2022-09-01T23:09:19.085Z"
   },
   {
    "duration": 244,
    "start_time": "2022-09-01T23:09:19.229Z"
   },
   {
    "duration": 134,
    "start_time": "2022-09-01T23:09:19.474Z"
   },
   {
    "duration": 129,
    "start_time": "2022-09-01T23:09:19.609Z"
   },
   {
    "duration": 119,
    "start_time": "2022-09-01T23:09:19.740Z"
   },
   {
    "duration": 121,
    "start_time": "2022-09-01T23:09:19.860Z"
   },
   {
    "duration": 129,
    "start_time": "2022-09-01T23:09:19.983Z"
   },
   {
    "duration": 111,
    "start_time": "2022-09-01T23:09:20.113Z"
   },
   {
    "duration": 137,
    "start_time": "2022-09-01T23:09:20.226Z"
   },
   {
    "duration": 133,
    "start_time": "2022-09-01T23:09:20.364Z"
   },
   {
    "duration": 135,
    "start_time": "2022-09-01T23:09:20.498Z"
   },
   {
    "duration": 20,
    "start_time": "2022-09-01T23:09:20.635Z"
   },
   {
    "duration": 140,
    "start_time": "2022-09-01T23:09:20.657Z"
   },
   {
    "duration": 304,
    "start_time": "2022-09-01T23:09:20.799Z"
   },
   {
    "duration": 304,
    "start_time": "2022-09-01T23:09:21.105Z"
   },
   {
    "duration": 158,
    "start_time": "2022-09-01T23:09:21.411Z"
   },
   {
    "duration": 384,
    "start_time": "2022-09-01T23:09:21.571Z"
   },
   {
    "duration": 266,
    "start_time": "2022-09-01T23:09:21.956Z"
   },
   {
    "duration": 303,
    "start_time": "2022-09-01T23:09:22.224Z"
   },
   {
    "duration": 305,
    "start_time": "2022-09-01T23:09:22.529Z"
   },
   {
    "duration": 309,
    "start_time": "2022-09-01T23:09:22.836Z"
   },
   {
    "duration": 18,
    "start_time": "2022-09-01T23:09:23.147Z"
   },
   {
    "duration": 12,
    "start_time": "2022-09-01T23:09:23.166Z"
   },
   {
    "duration": 4,
    "start_time": "2022-09-01T23:09:23.179Z"
   },
   {
    "duration": 11,
    "start_time": "2022-09-01T23:09:23.184Z"
   },
   {
    "duration": 20,
    "start_time": "2022-09-01T23:09:23.196Z"
   },
   {
    "duration": 154,
    "start_time": "2022-09-01T23:09:23.218Z"
   },
   {
    "duration": 169,
    "start_time": "2022-09-01T23:10:16.892Z"
   },
   {
    "duration": 122,
    "start_time": "2022-09-01T23:10:20.585Z"
   },
   {
    "duration": 122,
    "start_time": "2022-09-01T23:10:24.104Z"
   },
   {
    "duration": 126,
    "start_time": "2022-09-01T23:10:27.760Z"
   },
   {
    "duration": 142,
    "start_time": "2022-09-01T23:10:32.926Z"
   },
   {
    "duration": 120,
    "start_time": "2022-09-01T23:10:36.517Z"
   },
   {
    "duration": 128,
    "start_time": "2022-09-01T23:10:39.902Z"
   },
   {
    "duration": 153,
    "start_time": "2022-09-01T23:10:46.574Z"
   },
   {
    "duration": 267,
    "start_time": "2022-09-01T23:10:51.113Z"
   },
   {
    "duration": 144,
    "start_time": "2022-09-01T23:11:13.260Z"
   },
   {
    "duration": 145,
    "start_time": "2022-09-01T23:11:27.092Z"
   },
   {
    "duration": 103,
    "start_time": "2022-09-01T23:11:31.557Z"
   },
   {
    "duration": 128,
    "start_time": "2022-09-01T23:11:41.785Z"
   },
   {
    "duration": 135,
    "start_time": "2022-09-01T23:11:48.321Z"
   },
   {
    "duration": 169,
    "start_time": "2022-09-01T23:11:51.891Z"
   },
   {
    "duration": 162,
    "start_time": "2022-09-01T23:11:56.030Z"
   },
   {
    "duration": 148,
    "start_time": "2022-09-01T23:12:01.552Z"
   },
   {
    "duration": 116,
    "start_time": "2022-09-01T23:12:16.127Z"
   },
   {
    "duration": 117,
    "start_time": "2022-09-01T23:12:27.045Z"
   },
   {
    "duration": 121,
    "start_time": "2022-09-01T23:12:39.253Z"
   },
   {
    "duration": 112,
    "start_time": "2022-09-01T23:12:43.441Z"
   },
   {
    "duration": 109,
    "start_time": "2022-09-01T23:12:46.290Z"
   },
   {
    "duration": 133,
    "start_time": "2022-09-01T23:12:55.957Z"
   },
   {
    "duration": 228,
    "start_time": "2022-09-01T23:13:23.720Z"
   },
   {
    "duration": 43,
    "start_time": "2022-09-01T23:14:01.743Z"
   },
   {
    "duration": 383,
    "start_time": "2022-09-01T23:14:05.060Z"
   },
   {
    "duration": 85,
    "start_time": "2022-09-01T23:14:05.445Z"
   },
   {
    "duration": 15,
    "start_time": "2022-09-01T23:14:05.531Z"
   },
   {
    "duration": 27,
    "start_time": "2022-09-01T23:14:05.549Z"
   },
   {
    "duration": 1983,
    "start_time": "2022-09-01T23:14:05.578Z"
   },
   {
    "duration": 1699,
    "start_time": "2022-09-01T23:14:07.563Z"
   },
   {
    "duration": 20,
    "start_time": "2022-09-01T23:14:09.264Z"
   },
   {
    "duration": 88,
    "start_time": "2022-09-01T23:14:09.285Z"
   },
   {
    "duration": 5,
    "start_time": "2022-09-01T23:14:09.375Z"
   },
   {
    "duration": 26,
    "start_time": "2022-09-01T23:14:09.382Z"
   },
   {
    "duration": 2,
    "start_time": "2022-09-01T23:14:09.409Z"
   },
   {
    "duration": 10,
    "start_time": "2022-09-01T23:14:09.413Z"
   },
   {
    "duration": 36,
    "start_time": "2022-09-01T23:14:09.424Z"
   },
   {
    "duration": 30,
    "start_time": "2022-09-01T23:14:09.462Z"
   },
   {
    "duration": 4,
    "start_time": "2022-09-01T23:14:09.493Z"
   },
   {
    "duration": 20,
    "start_time": "2022-09-01T23:14:09.499Z"
   },
   {
    "duration": 39,
    "start_time": "2022-09-01T23:14:09.520Z"
   },
   {
    "duration": 30,
    "start_time": "2022-09-01T23:14:09.561Z"
   },
   {
    "duration": 16,
    "start_time": "2022-09-01T23:14:09.592Z"
   },
   {
    "duration": 14,
    "start_time": "2022-09-01T23:14:09.609Z"
   },
   {
    "duration": 31,
    "start_time": "2022-09-01T23:14:09.625Z"
   },
   {
    "duration": 3,
    "start_time": "2022-09-01T23:14:09.658Z"
   },
   {
    "duration": 6,
    "start_time": "2022-09-01T23:14:09.662Z"
   },
   {
    "duration": 14,
    "start_time": "2022-09-01T23:14:09.669Z"
   },
   {
    "duration": 5,
    "start_time": "2022-09-01T23:14:09.684Z"
   },
   {
    "duration": 80,
    "start_time": "2022-09-01T23:14:09.690Z"
   },
   {
    "duration": 6,
    "start_time": "2022-09-01T23:14:09.771Z"
   },
   {
    "duration": 10,
    "start_time": "2022-09-01T23:14:09.781Z"
   },
   {
    "duration": 7,
    "start_time": "2022-09-01T23:14:09.792Z"
   },
   {
    "duration": 5,
    "start_time": "2022-09-01T23:14:09.801Z"
   },
   {
    "duration": 7,
    "start_time": "2022-09-01T23:14:09.808Z"
   },
   {
    "duration": 40,
    "start_time": "2022-09-01T23:14:09.817Z"
   },
   {
    "duration": 4,
    "start_time": "2022-09-01T23:14:09.858Z"
   },
   {
    "duration": 7,
    "start_time": "2022-09-01T23:14:09.864Z"
   },
   {
    "duration": 4,
    "start_time": "2022-09-01T23:14:09.873Z"
   },
   {
    "duration": 2,
    "start_time": "2022-09-01T23:14:09.879Z"
   },
   {
    "duration": 5,
    "start_time": "2022-09-01T23:14:09.883Z"
   },
   {
    "duration": 20,
    "start_time": "2022-09-01T23:14:09.889Z"
   },
   {
    "duration": 55,
    "start_time": "2022-09-01T23:14:09.911Z"
   },
   {
    "duration": 313,
    "start_time": "2022-09-01T23:14:09.968Z"
   },
   {
    "duration": 5,
    "start_time": "2022-09-01T23:14:10.283Z"
   },
   {
    "duration": 24,
    "start_time": "2022-09-01T23:14:10.289Z"
   },
   {
    "duration": 6,
    "start_time": "2022-09-01T23:14:10.315Z"
   },
   {
    "duration": 188,
    "start_time": "2022-09-01T23:14:10.322Z"
   },
   {
    "duration": 186,
    "start_time": "2022-09-01T23:14:10.513Z"
   },
   {
    "duration": 9,
    "start_time": "2022-09-01T23:14:10.700Z"
   },
   {
    "duration": 128,
    "start_time": "2022-09-01T23:14:49.741Z"
   },
   {
    "duration": 136,
    "start_time": "2022-09-01T23:15:57.597Z"
   },
   {
    "duration": 306,
    "start_time": "2022-09-01T23:16:02.984Z"
   },
   {
    "duration": 118,
    "start_time": "2022-09-01T23:16:12.338Z"
   },
   {
    "duration": 116,
    "start_time": "2022-09-01T23:16:42.181Z"
   },
   {
    "duration": 127,
    "start_time": "2022-09-01T23:16:49.184Z"
   },
   {
    "duration": 115,
    "start_time": "2022-09-01T23:18:06.910Z"
   },
   {
    "duration": 124,
    "start_time": "2022-09-01T23:18:16.965Z"
   },
   {
    "duration": 118,
    "start_time": "2022-09-01T23:18:25.505Z"
   },
   {
    "duration": 117,
    "start_time": "2022-09-01T23:18:38.890Z"
   },
   {
    "duration": 1191,
    "start_time": "2022-09-01T23:18:58.191Z"
   },
   {
    "duration": 1285,
    "start_time": "2022-09-01T23:19:06.488Z"
   },
   {
    "duration": 258,
    "start_time": "2022-09-01T23:19:22.977Z"
   },
   {
    "duration": 107,
    "start_time": "2022-09-01T23:19:37.393Z"
   },
   {
    "duration": 127,
    "start_time": "2022-09-01T23:19:40.358Z"
   },
   {
    "duration": 116,
    "start_time": "2022-09-01T23:19:47.084Z"
   },
   {
    "duration": 123,
    "start_time": "2022-09-01T23:19:49.879Z"
   },
   {
    "duration": 113,
    "start_time": "2022-09-01T23:19:54.539Z"
   },
   {
    "duration": 126,
    "start_time": "2022-09-01T23:20:04.193Z"
   },
   {
    "duration": 129,
    "start_time": "2022-09-01T23:20:08.158Z"
   },
   {
    "duration": 112,
    "start_time": "2022-09-01T23:20:10.625Z"
   },
   {
    "duration": 127,
    "start_time": "2022-09-01T23:20:14.155Z"
   },
   {
    "duration": 136,
    "start_time": "2022-09-01T23:20:20.060Z"
   },
   {
    "duration": 124,
    "start_time": "2022-09-01T23:20:34.189Z"
   },
   {
    "duration": 146,
    "start_time": "2022-09-01T23:20:56.991Z"
   },
   {
    "duration": 131,
    "start_time": "2022-09-01T23:21:15.445Z"
   },
   {
    "duration": 3,
    "start_time": "2022-09-01T23:21:27.659Z"
   },
   {
    "duration": 2,
    "start_time": "2022-09-01T23:21:34.694Z"
   },
   {
    "duration": 147,
    "start_time": "2022-09-01T23:21:41.001Z"
   },
   {
    "duration": 172,
    "start_time": "2022-09-01T23:21:47.455Z"
   },
   {
    "duration": 118,
    "start_time": "2022-09-01T23:21:54.732Z"
   },
   {
    "duration": 116,
    "start_time": "2022-09-01T23:21:57.799Z"
   },
   {
    "duration": 115,
    "start_time": "2022-09-01T23:22:01.789Z"
   },
   {
    "duration": 103,
    "start_time": "2022-09-01T23:22:04.857Z"
   },
   {
    "duration": 121,
    "start_time": "2022-09-01T23:22:07.298Z"
   },
   {
    "duration": 108,
    "start_time": "2022-09-01T23:22:10.308Z"
   },
   {
    "duration": 95,
    "start_time": "2022-09-01T23:22:13.206Z"
   },
   {
    "duration": 113,
    "start_time": "2022-09-01T23:22:15.899Z"
   },
   {
    "duration": 139,
    "start_time": "2022-09-01T23:22:18.361Z"
   },
   {
    "duration": 316,
    "start_time": "2022-09-01T23:22:20.925Z"
   },
   {
    "duration": 9,
    "start_time": "2022-09-01T23:24:26.101Z"
   },
   {
    "duration": 123,
    "start_time": "2022-09-01T23:24:26.457Z"
   },
   {
    "duration": 117,
    "start_time": "2022-09-01T23:24:30.486Z"
   },
   {
    "duration": 282,
    "start_time": "2022-09-01T23:24:35.392Z"
   },
   {
    "duration": 290,
    "start_time": "2022-09-01T23:24:40.913Z"
   },
   {
    "duration": 274,
    "start_time": "2022-09-01T23:24:43.985Z"
   },
   {
    "duration": 277,
    "start_time": "2022-09-01T23:24:48.055Z"
   },
   {
    "duration": 268,
    "start_time": "2022-09-01T23:25:08.328Z"
   },
   {
    "duration": 152,
    "start_time": "2022-09-01T23:25:26.185Z"
   },
   {
    "duration": 162,
    "start_time": "2022-09-01T23:28:54.516Z"
   },
   {
    "duration": 144,
    "start_time": "2022-09-01T23:29:11.972Z"
   },
   {
    "duration": 142,
    "start_time": "2022-09-01T23:29:16.959Z"
   },
   {
    "duration": 166,
    "start_time": "2022-09-01T23:29:37.801Z"
   },
   {
    "duration": 258,
    "start_time": "2022-09-01T23:30:08.012Z"
   },
   {
    "duration": 287,
    "start_time": "2022-09-01T23:30:15.410Z"
   },
   {
    "duration": 110,
    "start_time": "2022-09-01T23:30:31.017Z"
   },
   {
    "duration": 1156,
    "start_time": "2022-09-01T23:31:05.209Z"
   },
   {
    "duration": 1180,
    "start_time": "2022-09-01T23:31:21.936Z"
   },
   {
    "duration": 130,
    "start_time": "2022-09-01T23:31:36.044Z"
   },
   {
    "duration": 18,
    "start_time": "2022-09-01T23:34:29.360Z"
   },
   {
    "duration": 10,
    "start_time": "2022-09-01T23:34:37.477Z"
   },
   {
    "duration": 15,
    "start_time": "2022-09-01T23:34:39.849Z"
   },
   {
    "duration": 10,
    "start_time": "2022-09-01T23:34:53.761Z"
   },
   {
    "duration": 14,
    "start_time": "2022-09-01T23:34:57.373Z"
   },
   {
    "duration": 115,
    "start_time": "2022-09-01T23:35:16.110Z"
   },
   {
    "duration": 133,
    "start_time": "2022-09-01T23:35:41.603Z"
   },
   {
    "duration": 132,
    "start_time": "2022-09-01T23:36:04.623Z"
   },
   {
    "duration": 16,
    "start_time": "2022-09-01T23:37:04.599Z"
   },
   {
    "duration": 14,
    "start_time": "2022-09-01T23:37:18.481Z"
   },
   {
    "duration": 23,
    "start_time": "2022-09-01T23:37:46.979Z"
   },
   {
    "duration": 18,
    "start_time": "2022-09-01T23:39:00.094Z"
   },
   {
    "duration": 13,
    "start_time": "2022-09-01T23:39:06.611Z"
   },
   {
    "duration": 13,
    "start_time": "2022-09-01T23:39:20.781Z"
   },
   {
    "duration": 116,
    "start_time": "2022-09-01T23:39:30.603Z"
   },
   {
    "duration": 124,
    "start_time": "2022-09-01T23:40:12.180Z"
   },
   {
    "duration": 136,
    "start_time": "2022-09-01T23:41:28.169Z"
   },
   {
    "duration": 126,
    "start_time": "2022-09-01T23:41:38.920Z"
   },
   {
    "duration": 20,
    "start_time": "2022-09-01T23:42:18.080Z"
   },
   {
    "duration": 124,
    "start_time": "2022-09-01T23:42:27.422Z"
   },
   {
    "duration": 286,
    "start_time": "2022-09-01T23:43:19.695Z"
   },
   {
    "duration": 149,
    "start_time": "2022-09-01T23:43:41.903Z"
   },
   {
    "duration": 314,
    "start_time": "2022-09-01T23:43:51.899Z"
   },
   {
    "duration": 517,
    "start_time": "2022-09-01T23:44:00.199Z"
   },
   {
    "duration": 278,
    "start_time": "2022-09-01T23:44:40.120Z"
   },
   {
    "duration": 112,
    "start_time": "2022-09-01T23:44:52.187Z"
   },
   {
    "duration": 119,
    "start_time": "2022-09-01T23:45:04.712Z"
   },
   {
    "duration": 112,
    "start_time": "2022-09-01T23:45:12.210Z"
   },
   {
    "duration": 150,
    "start_time": "2022-09-01T23:45:26.650Z"
   },
   {
    "duration": 122,
    "start_time": "2022-09-01T23:45:39.530Z"
   },
   {
    "duration": 105,
    "start_time": "2022-09-01T23:46:43.007Z"
   },
   {
    "duration": 109,
    "start_time": "2022-09-01T23:46:58.129Z"
   },
   {
    "duration": 119,
    "start_time": "2022-09-01T23:47:10.543Z"
   },
   {
    "duration": 361,
    "start_time": "2022-09-01T23:48:06.061Z"
   },
   {
    "duration": 327,
    "start_time": "2022-09-01T23:48:21.829Z"
   },
   {
    "duration": 205,
    "start_time": "2022-09-01T23:48:28.954Z"
   },
   {
    "duration": 74,
    "start_time": "2022-09-01T23:48:39.916Z"
   },
   {
    "duration": 198,
    "start_time": "2022-09-01T23:48:43.067Z"
   },
   {
    "duration": 291,
    "start_time": "2022-09-01T23:49:12.740Z"
   },
   {
    "duration": 10,
    "start_time": "2022-09-01T23:49:46.471Z"
   },
   {
    "duration": 10,
    "start_time": "2022-09-01T23:49:50.744Z"
   },
   {
    "duration": 3,
    "start_time": "2022-09-01T23:49:51.512Z"
   },
   {
    "duration": 8,
    "start_time": "2022-09-01T23:49:51.872Z"
   },
   {
    "duration": 291,
    "start_time": "2022-09-01T23:50:20.435Z"
   },
   {
    "duration": 287,
    "start_time": "2022-09-01T23:50:25.060Z"
   },
   {
    "duration": 20,
    "start_time": "2022-09-01T23:57:16.837Z"
   },
   {
    "duration": 119,
    "start_time": "2022-09-01T23:57:17.799Z"
   },
   {
    "duration": 609,
    "start_time": "2022-09-01T23:57:43.812Z"
   },
   {
    "duration": 13,
    "start_time": "2022-09-02T00:05:09.797Z"
   },
   {
    "duration": 7,
    "start_time": "2022-09-02T00:14:03.444Z"
   },
   {
    "duration": 489,
    "start_time": "2022-09-02T07:07:35.003Z"
   },
   {
    "duration": 323,
    "start_time": "2022-09-02T07:07:35.494Z"
   },
   {
    "duration": 15,
    "start_time": "2022-09-02T07:07:35.818Z"
   },
   {
    "duration": 31,
    "start_time": "2022-09-02T07:07:35.835Z"
   },
   {
    "duration": 2385,
    "start_time": "2022-09-02T07:07:35.868Z"
   },
   {
    "duration": 2880,
    "start_time": "2022-09-02T07:07:38.255Z"
   },
   {
    "duration": 29,
    "start_time": "2022-09-02T07:07:41.136Z"
   },
   {
    "duration": 91,
    "start_time": "2022-09-02T07:07:41.167Z"
   },
   {
    "duration": 6,
    "start_time": "2022-09-02T07:07:41.261Z"
   },
   {
    "duration": 49,
    "start_time": "2022-09-02T07:07:41.270Z"
   },
   {
    "duration": 3,
    "start_time": "2022-09-02T07:07:41.321Z"
   },
   {
    "duration": 12,
    "start_time": "2022-09-02T07:07:41.326Z"
   },
   {
    "duration": 9,
    "start_time": "2022-09-02T07:07:41.340Z"
   },
   {
    "duration": 40,
    "start_time": "2022-09-02T07:07:41.358Z"
   },
   {
    "duration": 21,
    "start_time": "2022-09-02T07:07:41.400Z"
   },
   {
    "duration": 38,
    "start_time": "2022-09-02T07:07:41.423Z"
   },
   {
    "duration": 35,
    "start_time": "2022-09-02T07:07:41.463Z"
   },
   {
    "duration": 23,
    "start_time": "2022-09-02T07:07:41.500Z"
   },
   {
    "duration": 45,
    "start_time": "2022-09-02T07:07:41.525Z"
   },
   {
    "duration": 5,
    "start_time": "2022-09-02T07:07:41.572Z"
   },
   {
    "duration": 3,
    "start_time": "2022-09-02T07:07:41.579Z"
   },
   {
    "duration": 6,
    "start_time": "2022-09-02T07:07:41.584Z"
   },
   {
    "duration": 18,
    "start_time": "2022-09-02T07:07:41.591Z"
   },
   {
    "duration": 5,
    "start_time": "2022-09-02T07:07:41.611Z"
   },
   {
    "duration": 92,
    "start_time": "2022-09-02T07:07:41.618Z"
   },
   {
    "duration": 7,
    "start_time": "2022-09-02T07:07:41.712Z"
   },
   {
    "duration": 18,
    "start_time": "2022-09-02T07:07:41.721Z"
   },
   {
    "duration": 7,
    "start_time": "2022-09-02T07:07:41.758Z"
   },
   {
    "duration": 7,
    "start_time": "2022-09-02T07:07:41.767Z"
   },
   {
    "duration": 8,
    "start_time": "2022-09-02T07:07:41.776Z"
   },
   {
    "duration": 11,
    "start_time": "2022-09-02T07:07:41.785Z"
   },
   {
    "duration": 3,
    "start_time": "2022-09-02T07:07:41.798Z"
   },
   {
    "duration": 7,
    "start_time": "2022-09-02T07:07:41.804Z"
   },
   {
    "duration": 6,
    "start_time": "2022-09-02T07:07:41.813Z"
   },
   {
    "duration": 36,
    "start_time": "2022-09-02T07:07:41.821Z"
   },
   {
    "duration": 4,
    "start_time": "2022-09-02T07:07:41.859Z"
   },
   {
    "duration": 15,
    "start_time": "2022-09-02T07:07:41.865Z"
   },
   {
    "duration": 28,
    "start_time": "2022-09-02T07:07:41.882Z"
   },
   {
    "duration": 17,
    "start_time": "2022-09-02T07:07:41.913Z"
   },
   {
    "duration": 326,
    "start_time": "2022-09-02T07:07:41.957Z"
   },
   {
    "duration": 5,
    "start_time": "2022-09-02T07:07:42.285Z"
   },
   {
    "duration": 16,
    "start_time": "2022-09-02T07:07:42.291Z"
   },
   {
    "duration": 2,
    "start_time": "2022-09-02T07:07:42.309Z"
   },
   {
    "duration": 188,
    "start_time": "2022-09-02T07:07:42.313Z"
   },
   {
    "duration": 185,
    "start_time": "2022-09-02T07:07:42.503Z"
   },
   {
    "duration": 149,
    "start_time": "2022-09-02T07:07:42.690Z"
   },
   {
    "duration": 236,
    "start_time": "2022-09-02T07:07:42.841Z"
   },
   {
    "duration": 136,
    "start_time": "2022-09-02T07:07:43.079Z"
   },
   {
    "duration": 145,
    "start_time": "2022-09-02T07:07:43.217Z"
   },
   {
    "duration": 126,
    "start_time": "2022-09-02T07:07:43.365Z"
   },
   {
    "duration": 128,
    "start_time": "2022-09-02T07:07:43.493Z"
   },
   {
    "duration": 136,
    "start_time": "2022-09-02T07:07:43.623Z"
   },
   {
    "duration": 119,
    "start_time": "2022-09-02T07:07:43.761Z"
   },
   {
    "duration": 153,
    "start_time": "2022-09-02T07:07:43.882Z"
   },
   {
    "duration": 126,
    "start_time": "2022-09-02T07:07:44.037Z"
   },
   {
    "duration": 138,
    "start_time": "2022-09-02T07:07:44.164Z"
   },
   {
    "duration": 8,
    "start_time": "2022-09-02T07:07:44.304Z"
   },
   {
    "duration": 145,
    "start_time": "2022-09-02T07:07:44.314Z"
   },
   {
    "duration": 178,
    "start_time": "2022-09-02T07:07:44.460Z"
   },
   {
    "duration": 285,
    "start_time": "2022-09-02T07:07:44.640Z"
   },
   {
    "duration": 171,
    "start_time": "2022-09-02T07:07:44.927Z"
   },
   {
    "duration": 472,
    "start_time": "2022-09-02T07:07:45.099Z"
   },
   {
    "duration": 259,
    "start_time": "2022-09-02T07:07:45.573Z"
   },
   {
    "duration": 321,
    "start_time": "2022-09-02T07:07:45.834Z"
   },
   {
    "duration": 472,
    "start_time": "2022-09-02T07:07:46.157Z"
   },
   {
    "duration": 248,
    "start_time": "2022-09-02T07:07:46.630Z"
   },
   {
    "duration": 10,
    "start_time": "2022-09-02T07:07:46.880Z"
   },
   {
    "duration": 15,
    "start_time": "2022-09-02T07:07:46.892Z"
   },
   {
    "duration": 7,
    "start_time": "2022-09-02T07:07:46.909Z"
   },
   {
    "duration": 353,
    "start_time": "2022-09-02T07:07:46.917Z"
   },
   {
    "duration": 20,
    "start_time": "2022-09-02T07:07:47.272Z"
   },
   {
    "duration": 448,
    "start_time": "2022-09-02T07:07:47.294Z"
   },
   {
    "duration": 49,
    "start_time": "2022-09-02T10:53:32.456Z"
   },
   {
    "duration": 388,
    "start_time": "2022-09-02T10:53:37.132Z"
   },
   {
    "duration": 635,
    "start_time": "2022-09-02T10:53:37.522Z"
   },
   {
    "duration": 13,
    "start_time": "2022-09-02T10:53:38.159Z"
   },
   {
    "duration": 26,
    "start_time": "2022-09-02T10:53:38.174Z"
   },
   {
    "duration": 2053,
    "start_time": "2022-09-02T10:53:38.201Z"
   },
   {
    "duration": 1750,
    "start_time": "2022-09-02T10:53:40.255Z"
   },
   {
    "duration": 18,
    "start_time": "2022-09-02T10:53:42.007Z"
   },
   {
    "duration": 80,
    "start_time": "2022-09-02T10:53:42.026Z"
   },
   {
    "duration": 5,
    "start_time": "2022-09-02T10:53:42.107Z"
   },
   {
    "duration": 27,
    "start_time": "2022-09-02T10:53:42.114Z"
   },
   {
    "duration": 2,
    "start_time": "2022-09-02T10:53:42.143Z"
   },
   {
    "duration": 12,
    "start_time": "2022-09-02T10:53:42.146Z"
   },
   {
    "duration": 6,
    "start_time": "2022-09-02T10:53:42.159Z"
   },
   {
    "duration": 45,
    "start_time": "2022-09-02T10:53:42.167Z"
   },
   {
    "duration": 18,
    "start_time": "2022-09-02T10:53:42.213Z"
   },
   {
    "duration": 8,
    "start_time": "2022-09-02T10:53:42.233Z"
   },
   {
    "duration": 61,
    "start_time": "2022-09-02T10:53:42.242Z"
   },
   {
    "duration": 15,
    "start_time": "2022-09-02T10:53:42.304Z"
   },
   {
    "duration": 13,
    "start_time": "2022-09-02T10:53:42.320Z"
   },
   {
    "duration": 7,
    "start_time": "2022-09-02T10:53:42.334Z"
   },
   {
    "duration": 8,
    "start_time": "2022-09-02T10:53:42.342Z"
   },
   {
    "duration": 11,
    "start_time": "2022-09-02T10:53:42.351Z"
   },
   {
    "duration": 16,
    "start_time": "2022-09-02T10:53:42.363Z"
   },
   {
    "duration": 4,
    "start_time": "2022-09-02T10:53:42.381Z"
   },
   {
    "duration": 55,
    "start_time": "2022-09-02T10:53:42.386Z"
   },
   {
    "duration": 5,
    "start_time": "2022-09-02T10:53:42.442Z"
   },
   {
    "duration": 12,
    "start_time": "2022-09-02T10:53:42.449Z"
   },
   {
    "duration": 5,
    "start_time": "2022-09-02T10:53:42.464Z"
   },
   {
    "duration": 27,
    "start_time": "2022-09-02T10:53:42.471Z"
   },
   {
    "duration": 38,
    "start_time": "2022-09-02T10:53:42.500Z"
   },
   {
    "duration": 8,
    "start_time": "2022-09-02T10:53:42.540Z"
   },
   {
    "duration": 17,
    "start_time": "2022-09-02T10:53:42.549Z"
   },
   {
    "duration": 19,
    "start_time": "2022-09-02T10:53:42.568Z"
   },
   {
    "duration": 16,
    "start_time": "2022-09-02T10:53:42.588Z"
   },
   {
    "duration": 17,
    "start_time": "2022-09-02T10:53:42.605Z"
   },
   {
    "duration": 5,
    "start_time": "2022-09-02T10:53:42.623Z"
   },
   {
    "duration": 14,
    "start_time": "2022-09-02T10:53:42.629Z"
   },
   {
    "duration": 18,
    "start_time": "2022-09-02T10:53:42.645Z"
   },
   {
    "duration": 13,
    "start_time": "2022-09-02T10:53:42.665Z"
   },
   {
    "duration": 320,
    "start_time": "2022-09-02T10:53:42.680Z"
   },
   {
    "duration": 4,
    "start_time": "2022-09-02T10:53:43.001Z"
   },
   {
    "duration": 19,
    "start_time": "2022-09-02T10:53:43.006Z"
   },
   {
    "duration": 2,
    "start_time": "2022-09-02T10:53:43.027Z"
   },
   {
    "duration": 156,
    "start_time": "2022-09-02T10:53:43.030Z"
   },
   {
    "duration": 166,
    "start_time": "2022-09-02T10:53:43.187Z"
   },
   {
    "duration": 138,
    "start_time": "2022-09-02T10:53:43.354Z"
   },
   {
    "duration": 207,
    "start_time": "2022-09-02T10:53:43.494Z"
   },
   {
    "duration": 124,
    "start_time": "2022-09-02T10:53:43.703Z"
   },
   {
    "duration": 134,
    "start_time": "2022-09-02T10:53:43.828Z"
   },
   {
    "duration": 122,
    "start_time": "2022-09-02T10:53:43.963Z"
   },
   {
    "duration": 107,
    "start_time": "2022-09-02T10:53:44.087Z"
   },
   {
    "duration": 124,
    "start_time": "2022-09-02T10:53:44.197Z"
   },
   {
    "duration": 124,
    "start_time": "2022-09-02T10:53:44.322Z"
   },
   {
    "duration": 136,
    "start_time": "2022-09-02T10:53:44.448Z"
   },
   {
    "duration": 127,
    "start_time": "2022-09-02T10:53:44.585Z"
   },
   {
    "duration": 122,
    "start_time": "2022-09-02T10:53:44.714Z"
   },
   {
    "duration": 8,
    "start_time": "2022-09-02T10:53:44.837Z"
   },
   {
    "duration": 132,
    "start_time": "2022-09-02T10:53:44.846Z"
   },
   {
    "duration": 176,
    "start_time": "2022-09-02T10:53:44.980Z"
   },
   {
    "duration": 268,
    "start_time": "2022-09-02T10:53:45.158Z"
   },
   {
    "duration": 149,
    "start_time": "2022-09-02T10:53:45.427Z"
   },
   {
    "duration": 374,
    "start_time": "2022-09-02T10:53:45.577Z"
   },
   {
    "duration": 222,
    "start_time": "2022-09-02T10:53:45.953Z"
   },
   {
    "duration": 302,
    "start_time": "2022-09-02T10:53:46.177Z"
   },
   {
    "duration": 413,
    "start_time": "2022-09-02T10:53:46.480Z"
   },
   {
    "duration": 219,
    "start_time": "2022-09-02T10:53:46.894Z"
   },
   {
    "duration": 10,
    "start_time": "2022-09-02T10:53:47.114Z"
   },
   {
    "duration": 36,
    "start_time": "2022-09-02T10:53:47.125Z"
   },
   {
    "duration": 3,
    "start_time": "2022-09-02T10:53:47.162Z"
   },
   {
    "duration": 39,
    "start_time": "2022-09-02T10:53:47.166Z"
   },
   {
    "duration": 6,
    "start_time": "2022-09-02T10:54:18.527Z"
   },
   {
    "duration": 5,
    "start_time": "2022-09-02T10:54:30.260Z"
   },
   {
    "duration": 9,
    "start_time": "2022-09-02T10:54:43.315Z"
   },
   {
    "duration": 4,
    "start_time": "2022-09-02T10:54:48.464Z"
   },
   {
    "duration": 2,
    "start_time": "2022-09-02T10:54:57.430Z"
   },
   {
    "duration": 305,
    "start_time": "2022-09-02T10:54:59.780Z"
   },
   {
    "duration": 3,
    "start_time": "2022-09-02T10:55:10.758Z"
   },
   {
    "duration": 287,
    "start_time": "2022-09-02T10:55:11.530Z"
   },
   {
    "duration": 15,
    "start_time": "2022-09-02T10:58:04.476Z"
   },
   {
    "duration": 9,
    "start_time": "2022-09-02T10:59:15.207Z"
   },
   {
    "duration": 7,
    "start_time": "2022-09-02T10:59:17.371Z"
   },
   {
    "duration": 5,
    "start_time": "2022-09-02T10:59:24.035Z"
   },
   {
    "duration": 7,
    "start_time": "2022-09-02T10:59:47.938Z"
   },
   {
    "duration": 13,
    "start_time": "2022-09-02T11:00:04.942Z"
   },
   {
    "duration": 6,
    "start_time": "2022-09-02T11:00:05.477Z"
   },
   {
    "duration": 15,
    "start_time": "2022-09-02T11:02:35.267Z"
   },
   {
    "duration": 35,
    "start_time": "2022-09-02T11:03:00.974Z"
   },
   {
    "duration": 15,
    "start_time": "2022-09-02T11:03:12.842Z"
   },
   {
    "duration": 13,
    "start_time": "2022-09-02T11:03:23.569Z"
   },
   {
    "duration": 411,
    "start_time": "2022-09-02T11:03:52.282Z"
   },
   {
    "duration": 119,
    "start_time": "2022-09-02T11:03:52.695Z"
   },
   {
    "duration": 19,
    "start_time": "2022-09-02T11:03:52.816Z"
   },
   {
    "duration": 31,
    "start_time": "2022-09-02T11:03:52.838Z"
   },
   {
    "duration": 2099,
    "start_time": "2022-09-02T11:03:52.870Z"
   },
   {
    "duration": 1700,
    "start_time": "2022-09-02T11:03:54.972Z"
   },
   {
    "duration": 31,
    "start_time": "2022-09-02T11:03:56.675Z"
   },
   {
    "duration": 68,
    "start_time": "2022-09-02T11:03:56.709Z"
   },
   {
    "duration": 23,
    "start_time": "2022-09-02T11:03:56.778Z"
   },
   {
    "duration": 31,
    "start_time": "2022-09-02T11:03:56.805Z"
   },
   {
    "duration": 2,
    "start_time": "2022-09-02T11:03:56.838Z"
   },
   {
    "duration": 34,
    "start_time": "2022-09-02T11:03:56.842Z"
   },
   {
    "duration": 11,
    "start_time": "2022-09-02T11:03:56.878Z"
   },
   {
    "duration": 35,
    "start_time": "2022-09-02T11:03:56.891Z"
   },
   {
    "duration": 20,
    "start_time": "2022-09-02T11:03:56.928Z"
   },
   {
    "duration": 20,
    "start_time": "2022-09-02T11:03:56.950Z"
   },
   {
    "duration": 59,
    "start_time": "2022-09-02T11:03:56.972Z"
   },
   {
    "duration": 23,
    "start_time": "2022-09-02T11:03:57.033Z"
   },
   {
    "duration": 41,
    "start_time": "2022-09-02T11:03:57.058Z"
   },
   {
    "duration": 5,
    "start_time": "2022-09-02T11:03:57.101Z"
   },
   {
    "duration": 14,
    "start_time": "2022-09-02T11:03:57.108Z"
   },
   {
    "duration": 6,
    "start_time": "2022-09-02T11:03:57.124Z"
   },
   {
    "duration": 18,
    "start_time": "2022-09-02T11:03:57.131Z"
   },
   {
    "duration": 6,
    "start_time": "2022-09-02T11:03:57.152Z"
   },
   {
    "duration": 63,
    "start_time": "2022-09-02T11:03:57.160Z"
   },
   {
    "duration": 5,
    "start_time": "2022-09-02T11:03:57.225Z"
   },
   {
    "duration": 22,
    "start_time": "2022-09-02T11:03:57.232Z"
   },
   {
    "duration": 17,
    "start_time": "2022-09-02T11:03:57.258Z"
   },
   {
    "duration": 20,
    "start_time": "2022-09-02T11:03:57.276Z"
   },
   {
    "duration": 14,
    "start_time": "2022-09-02T11:03:57.298Z"
   },
   {
    "duration": 15,
    "start_time": "2022-09-02T11:03:57.314Z"
   },
   {
    "duration": 6,
    "start_time": "2022-09-02T11:03:57.330Z"
   },
   {
    "duration": 10,
    "start_time": "2022-09-02T11:03:57.338Z"
   },
   {
    "duration": 5,
    "start_time": "2022-09-02T11:03:57.351Z"
   },
   {
    "duration": 8,
    "start_time": "2022-09-02T11:03:57.358Z"
   },
   {
    "duration": 9,
    "start_time": "2022-09-02T11:03:57.367Z"
   },
   {
    "duration": 34,
    "start_time": "2022-09-02T11:03:57.378Z"
   },
   {
    "duration": 25,
    "start_time": "2022-09-02T11:03:57.415Z"
   },
   {
    "duration": 9,
    "start_time": "2022-09-02T11:03:57.443Z"
   },
   {
    "duration": 18,
    "start_time": "2022-09-02T11:03:57.454Z"
   },
   {
    "duration": 355,
    "start_time": "2022-09-02T11:04:29.435Z"
   },
   {
    "duration": 87,
    "start_time": "2022-09-02T11:04:29.792Z"
   },
   {
    "duration": 14,
    "start_time": "2022-09-02T11:04:29.880Z"
   },
   {
    "duration": 27,
    "start_time": "2022-09-02T11:04:29.895Z"
   },
   {
    "duration": 2070,
    "start_time": "2022-09-02T11:04:29.923Z"
   },
   {
    "duration": 1679,
    "start_time": "2022-09-02T11:04:31.995Z"
   },
   {
    "duration": 28,
    "start_time": "2022-09-02T11:04:33.675Z"
   },
   {
    "duration": 62,
    "start_time": "2022-09-02T11:04:33.704Z"
   },
   {
    "duration": 5,
    "start_time": "2022-09-02T11:04:33.767Z"
   },
   {
    "duration": 35,
    "start_time": "2022-09-02T11:04:33.774Z"
   },
   {
    "duration": 3,
    "start_time": "2022-09-02T11:04:33.810Z"
   },
   {
    "duration": 23,
    "start_time": "2022-09-02T11:04:33.814Z"
   },
   {
    "duration": 20,
    "start_time": "2022-09-02T11:04:33.839Z"
   },
   {
    "duration": 42,
    "start_time": "2022-09-02T11:04:33.861Z"
   },
   {
    "duration": 20,
    "start_time": "2022-09-02T11:04:33.905Z"
   },
   {
    "duration": 15,
    "start_time": "2022-09-02T11:04:33.927Z"
   },
   {
    "duration": 39,
    "start_time": "2022-09-02T11:04:33.944Z"
   },
   {
    "duration": 25,
    "start_time": "2022-09-02T11:04:33.985Z"
   },
   {
    "duration": 15,
    "start_time": "2022-09-02T11:04:34.011Z"
   },
   {
    "duration": 12,
    "start_time": "2022-09-02T11:04:34.028Z"
   },
   {
    "duration": 13,
    "start_time": "2022-09-02T11:04:34.041Z"
   },
   {
    "duration": 18,
    "start_time": "2022-09-02T11:04:34.055Z"
   },
   {
    "duration": 47,
    "start_time": "2022-09-02T11:04:34.074Z"
   },
   {
    "duration": 5,
    "start_time": "2022-09-02T11:04:34.122Z"
   },
   {
    "duration": 65,
    "start_time": "2022-09-02T11:04:34.128Z"
   },
   {
    "duration": 5,
    "start_time": "2022-09-02T11:04:34.194Z"
   },
   {
    "duration": 385,
    "start_time": "2022-09-02T11:04:34.200Z"
   },
   {
    "duration": 965,
    "start_time": "2022-09-02T11:04:34.588Z"
   },
   {
    "duration": 331,
    "start_time": "2022-09-02T11:04:35.554Z"
   },
   {
    "duration": 7,
    "start_time": "2022-09-02T11:04:35.886Z"
   },
   {
    "duration": 8,
    "start_time": "2022-09-02T11:04:35.895Z"
   },
   {
    "duration": 7,
    "start_time": "2022-09-02T11:04:35.904Z"
   },
   {
    "duration": 7,
    "start_time": "2022-09-02T11:04:35.912Z"
   },
   {
    "duration": 5,
    "start_time": "2022-09-02T11:04:35.920Z"
   },
   {
    "duration": 2,
    "start_time": "2022-09-02T11:04:35.926Z"
   },
   {
    "duration": 4,
    "start_time": "2022-09-02T11:04:35.930Z"
   },
   {
    "duration": 14,
    "start_time": "2022-09-02T11:04:35.936Z"
   },
   {
    "duration": 19,
    "start_time": "2022-09-02T11:04:35.951Z"
   },
   {
    "duration": 19,
    "start_time": "2022-09-02T11:04:44.786Z"
   },
   {
    "duration": 18,
    "start_time": "2022-09-02T11:04:51.312Z"
   },
   {
    "duration": 16,
    "start_time": "2022-09-02T11:04:51.859Z"
   },
   {
    "duration": 15,
    "start_time": "2022-09-02T11:05:06.292Z"
   },
   {
    "duration": 421,
    "start_time": "2022-09-02T11:05:23.708Z"
   },
   {
    "duration": 88,
    "start_time": "2022-09-02T11:05:24.131Z"
   },
   {
    "duration": 13,
    "start_time": "2022-09-02T11:05:24.220Z"
   },
   {
    "duration": 25,
    "start_time": "2022-09-02T11:05:24.235Z"
   },
   {
    "duration": 1980,
    "start_time": "2022-09-02T11:05:24.262Z"
   },
   {
    "duration": 1675,
    "start_time": "2022-09-02T11:05:26.243Z"
   },
   {
    "duration": 20,
    "start_time": "2022-09-02T11:05:27.920Z"
   },
   {
    "duration": 85,
    "start_time": "2022-09-02T11:05:27.942Z"
   },
   {
    "duration": 4,
    "start_time": "2022-09-02T11:05:28.029Z"
   },
   {
    "duration": 39,
    "start_time": "2022-09-02T11:05:28.036Z"
   },
   {
    "duration": 2,
    "start_time": "2022-09-02T11:05:28.077Z"
   },
   {
    "duration": 17,
    "start_time": "2022-09-02T11:05:28.081Z"
   },
   {
    "duration": 21,
    "start_time": "2022-09-02T11:05:28.100Z"
   },
   {
    "duration": 29,
    "start_time": "2022-09-02T11:05:28.123Z"
   },
   {
    "duration": 17,
    "start_time": "2022-09-02T11:05:28.153Z"
   },
   {
    "duration": 14,
    "start_time": "2022-09-02T11:05:28.172Z"
   },
   {
    "duration": 33,
    "start_time": "2022-09-02T11:05:28.187Z"
   },
   {
    "duration": 16,
    "start_time": "2022-09-02T11:05:28.221Z"
   },
   {
    "duration": 15,
    "start_time": "2022-09-02T11:05:28.238Z"
   },
   {
    "duration": 4,
    "start_time": "2022-09-02T11:05:28.255Z"
   },
   {
    "duration": 3,
    "start_time": "2022-09-02T11:05:28.260Z"
   },
   {
    "duration": 4,
    "start_time": "2022-09-02T11:05:28.265Z"
   },
   {
    "duration": 14,
    "start_time": "2022-09-02T11:05:28.298Z"
   },
   {
    "duration": 5,
    "start_time": "2022-09-02T11:05:28.313Z"
   },
   {
    "duration": 42,
    "start_time": "2022-09-02T11:05:28.319Z"
   },
   {
    "duration": 4,
    "start_time": "2022-09-02T11:05:28.362Z"
   },
   {
    "duration": 33,
    "start_time": "2022-09-02T11:05:28.368Z"
   },
   {
    "duration": 5,
    "start_time": "2022-09-02T11:05:28.404Z"
   },
   {
    "duration": 9,
    "start_time": "2022-09-02T11:05:28.410Z"
   },
   {
    "duration": 10,
    "start_time": "2022-09-02T11:05:28.420Z"
   },
   {
    "duration": 9,
    "start_time": "2022-09-02T11:05:28.431Z"
   },
   {
    "duration": 2,
    "start_time": "2022-09-02T11:05:28.441Z"
   },
   {
    "duration": 7,
    "start_time": "2022-09-02T11:05:28.445Z"
   },
   {
    "duration": 5,
    "start_time": "2022-09-02T11:05:28.453Z"
   },
   {
    "duration": 4,
    "start_time": "2022-09-02T11:05:28.459Z"
   },
   {
    "duration": 38,
    "start_time": "2022-09-02T11:05:28.465Z"
   },
   {
    "duration": 17,
    "start_time": "2022-09-02T11:05:28.505Z"
   },
   {
    "duration": 17,
    "start_time": "2022-09-02T11:05:28.523Z"
   },
   {
    "duration": 16,
    "start_time": "2022-09-02T11:05:28.542Z"
   },
   {
    "duration": 13,
    "start_time": "2022-09-02T11:05:28.560Z"
   },
   {
    "duration": 317,
    "start_time": "2022-09-02T11:05:28.598Z"
   },
   {
    "duration": 5,
    "start_time": "2022-09-02T11:05:28.916Z"
   },
   {
    "duration": 15,
    "start_time": "2022-09-02T11:05:28.922Z"
   },
   {
    "duration": 2,
    "start_time": "2022-09-02T11:05:28.939Z"
   },
   {
    "duration": 165,
    "start_time": "2022-09-02T11:05:28.942Z"
   },
   {
    "duration": 164,
    "start_time": "2022-09-02T11:05:29.108Z"
   },
   {
    "duration": 136,
    "start_time": "2022-09-02T11:05:29.274Z"
   },
   {
    "duration": 136,
    "start_time": "2022-09-02T11:05:29.412Z"
   },
   {
    "duration": 220,
    "start_time": "2022-09-02T11:05:29.550Z"
   },
   {
    "duration": 123,
    "start_time": "2022-09-02T11:05:29.771Z"
   },
   {
    "duration": 124,
    "start_time": "2022-09-02T11:05:29.895Z"
   },
   {
    "duration": 141,
    "start_time": "2022-09-02T11:05:30.020Z"
   },
   {
    "duration": 123,
    "start_time": "2022-09-02T11:05:30.162Z"
   },
   {
    "duration": 105,
    "start_time": "2022-09-02T11:05:30.287Z"
   },
   {
    "duration": 135,
    "start_time": "2022-09-02T11:05:30.398Z"
   },
   {
    "duration": 128,
    "start_time": "2022-09-02T11:05:30.535Z"
   },
   {
    "duration": 135,
    "start_time": "2022-09-02T11:05:30.665Z"
   },
   {
    "duration": 8,
    "start_time": "2022-09-02T11:05:30.801Z"
   },
   {
    "duration": 154,
    "start_time": "2022-09-02T11:05:30.811Z"
   },
   {
    "duration": 174,
    "start_time": "2022-09-02T11:05:30.966Z"
   },
   {
    "duration": 188,
    "start_time": "2022-09-02T11:05:31.142Z"
   },
   {
    "duration": 180,
    "start_time": "2022-09-02T11:05:31.332Z"
   },
   {
    "duration": 404,
    "start_time": "2022-09-02T11:05:31.514Z"
   },
   {
    "duration": 238,
    "start_time": "2022-09-02T11:05:31.920Z"
   },
   {
    "duration": 309,
    "start_time": "2022-09-02T11:05:32.160Z"
   },
   {
    "duration": 350,
    "start_time": "2022-09-02T11:05:32.471Z"
   },
   {
    "duration": 289,
    "start_time": "2022-09-02T11:05:32.822Z"
   },
   {
    "duration": 10,
    "start_time": "2022-09-02T11:05:33.112Z"
   },
   {
    "duration": 32,
    "start_time": "2022-09-02T11:05:33.124Z"
   },
   {
    "duration": 7,
    "start_time": "2022-09-02T11:05:33.157Z"
   },
   {
    "duration": 13,
    "start_time": "2022-09-02T11:05:33.165Z"
   },
   {
    "duration": 308,
    "start_time": "2022-09-02T11:05:33.179Z"
   },
   {
    "duration": 19,
    "start_time": "2022-09-02T11:05:33.489Z"
   },
   {
    "duration": 372,
    "start_time": "2022-09-02T11:05:33.509Z"
   },
   {
    "duration": 391,
    "start_time": "2022-09-02T11:06:44.948Z"
   },
   {
    "duration": 88,
    "start_time": "2022-09-02T11:06:45.341Z"
   },
   {
    "duration": 13,
    "start_time": "2022-09-02T11:06:45.430Z"
   },
   {
    "duration": 26,
    "start_time": "2022-09-02T11:06:45.445Z"
   },
   {
    "duration": 1941,
    "start_time": "2022-09-02T11:06:45.472Z"
   },
   {
    "duration": 1645,
    "start_time": "2022-09-02T11:06:47.414Z"
   },
   {
    "duration": 16,
    "start_time": "2022-09-02T11:06:49.061Z"
   },
   {
    "duration": 74,
    "start_time": "2022-09-02T11:06:49.078Z"
   },
   {
    "duration": 4,
    "start_time": "2022-09-02T11:06:49.154Z"
   },
   {
    "duration": 34,
    "start_time": "2022-09-02T11:06:49.160Z"
   },
   {
    "duration": 3,
    "start_time": "2022-09-02T11:06:49.195Z"
   },
   {
    "duration": 13,
    "start_time": "2022-09-02T11:06:49.200Z"
   },
   {
    "duration": 16,
    "start_time": "2022-09-02T11:06:49.215Z"
   },
   {
    "duration": 33,
    "start_time": "2022-09-02T11:06:49.232Z"
   },
   {
    "duration": 19,
    "start_time": "2022-09-02T11:06:49.267Z"
   },
   {
    "duration": 23,
    "start_time": "2022-09-02T11:06:49.287Z"
   },
   {
    "duration": 34,
    "start_time": "2022-09-02T11:06:49.312Z"
   },
   {
    "duration": 17,
    "start_time": "2022-09-02T11:06:49.347Z"
   },
   {
    "duration": 17,
    "start_time": "2022-09-02T11:06:49.365Z"
   },
   {
    "duration": 4,
    "start_time": "2022-09-02T11:06:49.398Z"
   },
   {
    "duration": 10,
    "start_time": "2022-09-02T11:06:49.403Z"
   },
   {
    "duration": 14,
    "start_time": "2022-09-02T11:06:49.415Z"
   },
   {
    "duration": 13,
    "start_time": "2022-09-02T11:06:49.431Z"
   },
   {
    "duration": 4,
    "start_time": "2022-09-02T11:06:49.446Z"
   },
   {
    "duration": 47,
    "start_time": "2022-09-02T11:06:49.451Z"
   },
   {
    "duration": 5,
    "start_time": "2022-09-02T11:06:49.500Z"
   },
   {
    "duration": 19,
    "start_time": "2022-09-02T11:06:49.506Z"
   },
   {
    "duration": 12,
    "start_time": "2022-09-02T11:06:49.528Z"
   },
   {
    "duration": 10,
    "start_time": "2022-09-02T11:06:49.542Z"
   },
   {
    "duration": 15,
    "start_time": "2022-09-02T11:06:49.553Z"
   },
   {
    "duration": 12,
    "start_time": "2022-09-02T11:06:49.570Z"
   },
   {
    "duration": 4,
    "start_time": "2022-09-02T11:06:49.584Z"
   },
   {
    "duration": 14,
    "start_time": "2022-09-02T11:06:49.589Z"
   },
   {
    "duration": 11,
    "start_time": "2022-09-02T11:06:49.604Z"
   },
   {
    "duration": 16,
    "start_time": "2022-09-02T11:06:49.616Z"
   },
   {
    "duration": 6,
    "start_time": "2022-09-02T11:06:49.633Z"
   },
   {
    "duration": 23,
    "start_time": "2022-09-02T11:06:49.641Z"
   },
   {
    "duration": 28,
    "start_time": "2022-09-02T11:06:49.666Z"
   },
   {
    "duration": 32,
    "start_time": "2022-09-02T11:06:49.695Z"
   },
   {
    "duration": 17,
    "start_time": "2022-09-02T11:06:49.728Z"
   },
   {
    "duration": 311,
    "start_time": "2022-09-02T11:06:49.747Z"
   },
   {
    "duration": 5,
    "start_time": "2022-09-02T11:06:50.059Z"
   },
   {
    "duration": 19,
    "start_time": "2022-09-02T11:06:50.065Z"
   },
   {
    "duration": 12,
    "start_time": "2022-09-02T11:06:50.085Z"
   },
   {
    "duration": 167,
    "start_time": "2022-09-02T11:06:50.098Z"
   },
   {
    "duration": 170,
    "start_time": "2022-09-02T11:06:50.267Z"
   },
   {
    "duration": 139,
    "start_time": "2022-09-02T11:06:50.439Z"
   },
   {
    "duration": 136,
    "start_time": "2022-09-02T11:06:50.580Z"
   },
   {
    "duration": 222,
    "start_time": "2022-09-02T11:06:50.717Z"
   },
   {
    "duration": 121,
    "start_time": "2022-09-02T11:06:50.941Z"
   },
   {
    "duration": 115,
    "start_time": "2022-09-02T11:06:51.063Z"
   },
   {
    "duration": 124,
    "start_time": "2022-09-02T11:06:51.179Z"
   },
   {
    "duration": 120,
    "start_time": "2022-09-02T11:06:51.305Z"
   },
   {
    "duration": 103,
    "start_time": "2022-09-02T11:06:51.426Z"
   },
   {
    "duration": 119,
    "start_time": "2022-09-02T11:06:51.531Z"
   },
   {
    "duration": 124,
    "start_time": "2022-09-02T11:06:51.652Z"
   },
   {
    "duration": 124,
    "start_time": "2022-09-02T11:06:51.778Z"
   },
   {
    "duration": 9,
    "start_time": "2022-09-02T11:06:51.903Z"
   },
   {
    "duration": 139,
    "start_time": "2022-09-02T11:06:51.913Z"
   },
   {
    "duration": 175,
    "start_time": "2022-09-02T11:06:52.053Z"
   },
   {
    "duration": 182,
    "start_time": "2022-09-02T11:06:52.229Z"
   },
   {
    "duration": 181,
    "start_time": "2022-09-02T11:06:52.413Z"
   },
   {
    "duration": 397,
    "start_time": "2022-09-02T11:06:52.598Z"
   },
   {
    "duration": 224,
    "start_time": "2022-09-02T11:06:52.998Z"
   },
   {
    "duration": 312,
    "start_time": "2022-09-02T11:06:53.224Z"
   },
   {
    "duration": 363,
    "start_time": "2022-09-02T11:06:53.538Z"
   },
   {
    "duration": 320,
    "start_time": "2022-09-02T11:06:53.903Z"
   },
   {
    "duration": 15,
    "start_time": "2022-09-02T11:06:54.225Z"
   },
   {
    "duration": 14,
    "start_time": "2022-09-02T11:06:54.242Z"
   },
   {
    "duration": 3,
    "start_time": "2022-09-02T11:06:54.258Z"
   },
   {
    "duration": 7,
    "start_time": "2022-09-02T11:06:54.262Z"
   },
   {
    "duration": 404,
    "start_time": "2022-09-02T11:06:54.270Z"
   },
   {
    "duration": 27,
    "start_time": "2022-09-02T11:06:54.676Z"
   },
   {
    "duration": 398,
    "start_time": "2022-09-02T11:06:54.705Z"
   }
  ],
  "kernelspec": {
   "display_name": "Python 3 (ipykernel)",
   "language": "python",
   "name": "python3"
  },
  "language_info": {
   "codemirror_mode": {
    "name": "ipython",
    "version": 3
   },
   "file_extension": ".py",
   "mimetype": "text/x-python",
   "name": "python",
   "nbconvert_exporter": "python",
   "pygments_lexer": "ipython3",
   "version": "3.9.15"
  },
  "toc": {
   "base_numbering": 1,
   "nav_menu": {},
   "number_sections": true,
   "sideBar": true,
   "skip_h1_title": true,
   "title_cell": "Table of Contents",
   "title_sidebar": "Contents",
   "toc_cell": false,
   "toc_position": {
    "height": "calc(100% - 180px)",
    "left": "10px",
    "top": "150px",
    "width": "318.195px"
   },
   "toc_section_display": true,
   "toc_window_display": true
  }
 },
 "nbformat": 4,
 "nbformat_minor": 2
}
