{
 "cells": [
  {
   "cell_type": "markdown",
   "metadata": {},
   "source": [
    "# Рекомендация тарифов"
   ]
  },
  {
   "cell_type": "code",
   "execution_count": 1,
   "metadata": {},
   "outputs": [],
   "source": [
    "import pandas as pd\n",
    "from sklearn.model_selection import train_test_split\n",
    "from sklearn.linear_model import LogisticRegression\n",
    "from sklearn.ensemble import RandomForestClassifier\n",
    "from sklearn.tree import DecisionTreeClassifier\n",
    "from sklearn.metrics import accuracy_score"
   ]
  },
  {
   "cell_type": "markdown",
   "metadata": {},
   "source": [
    "## Изучим файл"
   ]
  },
  {
   "cell_type": "code",
   "execution_count": 2,
   "metadata": {},
   "outputs": [],
   "source": [
    "df = pd.read_csv('/datasets/users_behavior.csv')\n"
   ]
  },
  {
   "cell_type": "code",
   "execution_count": 3,
   "metadata": {},
   "outputs": [
    {
     "name": "stdout",
     "output_type": "stream",
     "text": [
      "(3214, 5)\n"
     ]
    },
    {
     "data": {
      "text/html": [
       "<div>\n",
       "<style scoped>\n",
       "    .dataframe tbody tr th:only-of-type {\n",
       "        vertical-align: middle;\n",
       "    }\n",
       "\n",
       "    .dataframe tbody tr th {\n",
       "        vertical-align: top;\n",
       "    }\n",
       "\n",
       "    .dataframe thead th {\n",
       "        text-align: right;\n",
       "    }\n",
       "</style>\n",
       "<table border=\"1\" class=\"dataframe\">\n",
       "  <thead>\n",
       "    <tr style=\"text-align: right;\">\n",
       "      <th></th>\n",
       "      <th>calls</th>\n",
       "      <th>minutes</th>\n",
       "      <th>messages</th>\n",
       "      <th>mb_used</th>\n",
       "      <th>is_ultra</th>\n",
       "    </tr>\n",
       "  </thead>\n",
       "  <tbody>\n",
       "    <tr>\n",
       "      <th>0</th>\n",
       "      <td>40.0</td>\n",
       "      <td>311.90</td>\n",
       "      <td>83.0</td>\n",
       "      <td>19915.42</td>\n",
       "      <td>0</td>\n",
       "    </tr>\n",
       "    <tr>\n",
       "      <th>1</th>\n",
       "      <td>85.0</td>\n",
       "      <td>516.75</td>\n",
       "      <td>56.0</td>\n",
       "      <td>22696.96</td>\n",
       "      <td>0</td>\n",
       "    </tr>\n",
       "    <tr>\n",
       "      <th>2</th>\n",
       "      <td>77.0</td>\n",
       "      <td>467.66</td>\n",
       "      <td>86.0</td>\n",
       "      <td>21060.45</td>\n",
       "      <td>0</td>\n",
       "    </tr>\n",
       "    <tr>\n",
       "      <th>3</th>\n",
       "      <td>106.0</td>\n",
       "      <td>745.53</td>\n",
       "      <td>81.0</td>\n",
       "      <td>8437.39</td>\n",
       "      <td>1</td>\n",
       "    </tr>\n",
       "    <tr>\n",
       "      <th>4</th>\n",
       "      <td>66.0</td>\n",
       "      <td>418.74</td>\n",
       "      <td>1.0</td>\n",
       "      <td>14502.75</td>\n",
       "      <td>0</td>\n",
       "    </tr>\n",
       "  </tbody>\n",
       "</table>\n",
       "</div>"
      ],
      "text/plain": [
       "   calls  minutes  messages   mb_used  is_ultra\n",
       "0   40.0   311.90      83.0  19915.42         0\n",
       "1   85.0   516.75      56.0  22696.96         0\n",
       "2   77.0   467.66      86.0  21060.45         0\n",
       "3  106.0   745.53      81.0   8437.39         1\n",
       "4   66.0   418.74       1.0  14502.75         0"
      ]
     },
     "execution_count": 3,
     "metadata": {},
     "output_type": "execute_result"
    }
   ],
   "source": [
    "print(df.shape)\n",
    "df.head(5)\n"
   ]
  },
  {
   "cell_type": "code",
   "execution_count": 4,
   "metadata": {},
   "outputs": [
    {
     "data": {
      "text/plain": [
       "0    2229\n",
       "1     985\n",
       "Name: is_ultra, dtype: int64"
      ]
     },
     "execution_count": 4,
     "metadata": {},
     "output_type": "execute_result"
    }
   ],
   "source": [
    "df.is_ultra.value_counts()"
   ]
  },
  {
   "cell_type": "markdown",
   "metadata": {},
   "source": [
    "## Разобьем данные на выборки"
   ]
  },
  {
   "cell_type": "code",
   "execution_count": 5,
   "metadata": {},
   "outputs": [],
   "source": [
    "features = df.drop('is_ultra', axis=1)\n",
    "target = df.is_ultra\n",
    "\n",
    "features_train, features_tmp, target_train, target_tmp = \\\n",
    "                train_test_split(features,\\\n",
    "                                 target,\\\n",
    "                                 test_size=0.4,\\\n",
    "                                 stratify=target)\n",
    "features_test, features_valid, target_test, target_valid = \\\n",
    "                train_test_split(features_tmp,\\\n",
    "                                 target_tmp,\\\n",
    "                                 test_size=0.5,\n",
    "                                 stratify=target_tmp)"
   ]
  },
  {
   "cell_type": "markdown",
   "metadata": {},
   "source": [
    "## Исследуем модели"
   ]
  },
  {
   "cell_type": "code",
   "execution_count": 6,
   "metadata": {},
   "outputs": [],
   "source": [
    "random_state = 12345"
   ]
  },
  {
   "cell_type": "markdown",
   "metadata": {},
   "source": [
    "### Descision Tree Classifier"
   ]
  },
  {
   "cell_type": "code",
   "execution_count": 7,
   "metadata": {},
   "outputs": [
    {
     "name": "stdout",
     "output_type": "stream",
     "text": [
      "0.7931570762052877 gini 3\n"
     ]
    }
   ],
   "source": [
    "best_acc = 0\n",
    "\n",
    "for criterion in ['gini', 'entropy']:\n",
    "    for depth in range(1, 20):\n",
    "        model = DecisionTreeClassifier(criterion=criterion,\\\n",
    "                                       max_depth=depth,\\\n",
    "                                       random_state=random_state)\n",
    "        \n",
    "        model.fit(features_train, target_train)\n",
    "        predictions = model.predict(features_valid)\n",
    "        \n",
    "        accuracy = accuracy_score(predictions, target_valid)\n",
    "        \n",
    "        if accuracy > best_acc:\n",
    "            model_Tree = model\n",
    "            best_acc = accuracy\n",
    "            best_criterion = criterion\n",
    "            best_depth = depth\n",
    "            \n",
    "print(best_acc, best_criterion, best_depth)\n",
    "        "
   ]
  },
  {
   "cell_type": "markdown",
   "metadata": {},
   "source": [
    "Лучшая точность дерева достигается при максимальной глубине в 19 нод, и энтропии в качестве критерия."
   ]
  },
  {
   "cell_type": "markdown",
   "metadata": {},
   "source": [
    "### Random Forest Classifier"
   ]
  },
  {
   "cell_type": "code",
   "execution_count": 8,
   "metadata": {},
   "outputs": [
    {
     "name": "stdout",
     "output_type": "stream",
     "text": [
      "0.8102643856920684 entropy 10 27\n"
     ]
    }
   ],
   "source": [
    "best_acc = 0\n",
    "\n",
    "for criterion in ['gini', 'entropy']:\n",
    "    for depth in range(1,11):\n",
    "        for estim in range(1, 41):\n",
    "            model = RandomForestClassifier(criterion=criterion,\\\n",
    "                                           max_depth=depth,\\\n",
    "                                           n_estimators=estim,\\\n",
    "                                           random_state=random_state)\n",
    "\n",
    "            model.fit(features_train, target_train)\n",
    "            predictions = model.predict(features_valid)\n",
    "\n",
    "            accuracy = accuracy_score(predictions, target_valid)\n",
    "\n",
    "            if accuracy > best_acc:\n",
    "                model_Forest = model\n",
    "                best_acc = accuracy\n",
    "                best_criterion = criterion\n",
    "                best_depth = depth\n",
    "                best_estim_numb = estim\n",
    "            \n",
    "print(best_acc, best_criterion, best_depth, best_estim_numb)\n",
    "\n"
   ]
  },
  {
   "cell_type": "markdown",
   "metadata": {},
   "source": [
    "При случайном лесе - лучшая точность достигается с Критерием джини, глубине 10, и числе деревьев 27 ."
   ]
  },
  {
   "cell_type": "markdown",
   "metadata": {},
   "source": [
    "### Linear Regression"
   ]
  },
  {
   "cell_type": "code",
   "execution_count": 9,
   "metadata": {},
   "outputs": [
    {
     "name": "stdout",
     "output_type": "stream",
     "text": [
      "0.7060653188180405 saga\n"
     ]
    }
   ],
   "source": [
    "best_acc = 0\n",
    "\n",
    "for solv in ['newton-cg', 'lbfgs', 'liblinear', 'sag', 'saga']:\n",
    "\n",
    "    model = LogisticRegression(random_state=random_state)\n",
    "\n",
    "    model.fit(features_train, target_train)\n",
    "    predictions = model.predict(features_valid)\n",
    "\n",
    "    accuracy = accuracy_score(predictions, target_valid)\n",
    "    if accuracy > best_acc:\n",
    "        model_Reg = model\n",
    "        best_acc = accuracy\n",
    "        solver = solv\n",
    "\n",
    "print(best_acc, solv)"
   ]
  },
  {
   "cell_type": "markdown",
   "metadata": {},
   "source": [
    "Лучшая точность на тестовых значениях сильно ниже, чем у деревьев и достигается при saga solver."
   ]
  },
  {
   "cell_type": "markdown",
   "metadata": {},
   "source": [
    "## Тестирование лучшей модели"
   ]
  },
  {
   "cell_type": "code",
   "execution_count": 10,
   "metadata": {
    "scrolled": true
   },
   "outputs": [
    {
     "name": "stdout",
     "output_type": "stream",
     "text": [
      "0.80248833592535 0.8087091757387247 0.713841368584759\n"
     ]
    }
   ],
   "source": [
    "pred_Tree = model_Tree.predict(features_test)\n",
    "pred_Forest = model_Forest.predict(features_test)\n",
    "pred_Reg = model_Reg.predict(features_test)\n",
    "\n",
    "data = pd.DataFrame.from_records(list(zip(pred_Tree, \\\n",
    "                                          pred_Forest, \\\n",
    "                                          pred_Reg, \\\n",
    "                                          target_test)), \\\n",
    "                                 columns=['Tree', \\\n",
    "                                          'Forest', \\\n",
    "                                          'Reg', \\\n",
    "                                          'Target'])\n",
    "\n",
    "print(accuracy_score(data.Tree, data.Target),\\\n",
    "      accuracy_score(data.Forest, data.Target),\\\n",
    "      accuracy_score(data.Reg, data.Target))\n",
    "\n"
   ]
  },
  {
   "cell_type": "markdown",
   "metadata": {},
   "source": [
    "На тестовой выборке лучшая точность достигается при модели случайного леса, но точности уже отличаются не так сильно."
   ]
  },
  {
   "cell_type": "markdown",
   "metadata": {},
   "source": [
    "## (бонус) Проверим модели на адекватность"
   ]
  },
  {
   "cell_type": "code",
   "execution_count": 11,
   "metadata": {},
   "outputs": [
    {
     "data": {
      "text/plain": [
       "0.6936236391912908"
      ]
     },
     "execution_count": 11,
     "metadata": {},
     "output_type": "execute_result"
    }
   ],
   "source": [
    "adeq = pd.Series([0] * 643)\n",
    "\n",
    "accuracy_score(target_test, adeq)\n"
   ]
  },
  {
   "cell_type": "code",
   "execution_count": 12,
   "metadata": {},
   "outputs": [
    {
     "data": {
      "text/plain": [
       "0.30637636080870917"
      ]
     },
     "execution_count": 12,
     "metadata": {},
     "output_type": "execute_result"
    }
   ],
   "source": [
    "adeq_1 = pd.Series([1] * 643)\n",
    "\n",
    "accuracy_score(target_test, adeq_1)\n"
   ]
  },
  {
   "cell_type": "markdown",
   "metadata": {},
   "source": [
    "## Вывод\n",
    "\n",
    "На основе данных клиентов оператора сотовой связи удалось проанализировать поведение клиентов и обучить модель для поиска оптимального тарифа."
   ]
  }
 ],
 "metadata": {
  "ExecuteTimeLog": [
   {
    "duration": 356,
    "start_time": "2022-10-13T09:08:56.917Z"
   },
   {
    "duration": 132,
    "start_time": "2022-10-13T09:08:57.673Z"
   },
   {
    "duration": 15,
    "start_time": "2022-10-13T09:09:18.643Z"
   },
   {
    "duration": 696,
    "start_time": "2022-10-13T09:10:20.400Z"
   },
   {
    "duration": 83,
    "start_time": "2022-10-13T09:17:06.215Z"
   },
   {
    "duration": 96,
    "start_time": "2022-10-13T09:17:09.738Z"
   },
   {
    "duration": 11,
    "start_time": "2022-10-13T09:17:12.087Z"
   },
   {
    "duration": 11,
    "start_time": "2022-10-13T09:17:32.435Z"
   },
   {
    "duration": 2,
    "start_time": "2022-10-13T09:17:43.041Z"
   },
   {
    "duration": 12,
    "start_time": "2022-10-13T09:17:49.683Z"
   },
   {
    "duration": 31,
    "start_time": "2022-10-13T09:18:39.958Z"
   },
   {
    "duration": 29,
    "start_time": "2022-10-13T09:18:40.736Z"
   },
   {
    "duration": 11,
    "start_time": "2022-10-13T09:18:41.251Z"
   },
   {
    "duration": 7,
    "start_time": "2022-10-13T09:18:47.042Z"
   },
   {
    "duration": 1134,
    "start_time": "2022-10-13T09:28:16.402Z"
   },
   {
    "duration": 31,
    "start_time": "2022-10-13T09:28:17.538Z"
   },
   {
    "duration": 18,
    "start_time": "2022-10-13T09:28:17.570Z"
   },
   {
    "duration": 6,
    "start_time": "2022-10-13T09:28:17.590Z"
   },
   {
    "duration": 3,
    "start_time": "2022-10-13T09:42:52.712Z"
   },
   {
    "duration": 89,
    "start_time": "2022-10-13T09:49:14.702Z"
   },
   {
    "duration": 229,
    "start_time": "2022-10-13T09:49:25.163Z"
   },
   {
    "duration": 136,
    "start_time": "2022-10-13T09:50:20.228Z"
   },
   {
    "duration": 154,
    "start_time": "2022-10-13T09:52:39.145Z"
   },
   {
    "duration": 47159,
    "start_time": "2022-10-13T09:57:03.662Z"
   },
   {
    "duration": 46248,
    "start_time": "2022-10-13T09:58:04.872Z"
   },
   {
    "duration": 47638,
    "start_time": "2022-10-13T10:43:33.924Z"
   },
   {
    "duration": 144,
    "start_time": "2022-10-13T10:44:21.565Z"
   },
   {
    "duration": 13,
    "start_time": "2022-10-13T12:27:13.514Z"
   },
   {
    "duration": 48713,
    "start_time": "2022-10-13T12:27:21.699Z"
   },
   {
    "duration": 15,
    "start_time": "2022-10-13T12:48:22.951Z"
   },
   {
    "duration": 11,
    "start_time": "2022-10-13T12:48:56.219Z"
   },
   {
    "duration": 10,
    "start_time": "2022-10-13T12:49:18.888Z"
   },
   {
    "duration": 4,
    "start_time": "2022-10-13T12:49:22.032Z"
   },
   {
    "duration": 15,
    "start_time": "2022-10-13T12:49:30.355Z"
   },
   {
    "duration": 8,
    "start_time": "2022-10-13T12:53:27.116Z"
   },
   {
    "duration": 3,
    "start_time": "2022-10-13T12:56:06.741Z"
   },
   {
    "duration": 979,
    "start_time": "2022-10-13T12:56:11.510Z"
   },
   {
    "duration": 1981,
    "start_time": "2022-10-13T12:56:27.408Z"
   },
   {
    "duration": 1118,
    "start_time": "2022-10-13T12:56:39.769Z"
   },
   {
    "duration": 146,
    "start_time": "2022-10-13T13:00:27.434Z"
   },
   {
    "duration": 140,
    "start_time": "2022-10-13T13:00:31.631Z"
   },
   {
    "duration": 148,
    "start_time": "2022-10-13T13:00:33.156Z"
   },
   {
    "duration": 25,
    "start_time": "2022-10-13T13:00:37.907Z"
   },
   {
    "duration": 13,
    "start_time": "2022-10-13T13:00:46.121Z"
   },
   {
    "duration": 138,
    "start_time": "2022-10-13T13:00:49.322Z"
   },
   {
    "duration": 350,
    "start_time": "2022-10-13T13:00:54.313Z"
   },
   {
    "duration": 357,
    "start_time": "2022-10-13T13:01:14.817Z"
   },
   {
    "duration": 351,
    "start_time": "2022-10-13T13:01:22.317Z"
   },
   {
    "duration": 354,
    "start_time": "2022-10-13T13:01:32.690Z"
   },
   {
    "duration": 1177,
    "start_time": "2022-10-13T13:02:36.201Z"
   },
   {
    "duration": 35,
    "start_time": "2022-10-13T13:02:37.380Z"
   },
   {
    "duration": 17,
    "start_time": "2022-10-13T13:02:37.417Z"
   },
   {
    "duration": 10,
    "start_time": "2022-10-13T13:02:37.436Z"
   },
   {
    "duration": 5,
    "start_time": "2022-10-13T13:02:37.448Z"
   },
   {
    "duration": 416,
    "start_time": "2022-10-13T13:02:37.455Z"
   },
   {
    "duration": 48728,
    "start_time": "2022-10-13T13:02:37.873Z"
   },
   {
    "duration": 8391,
    "start_time": "2022-10-13T13:03:26.603Z"
   },
   {
    "duration": 49389,
    "start_time": "2022-10-13T13:04:29.708Z"
   },
   {
    "duration": 1109,
    "start_time": "2022-10-13T13:12:52.595Z"
   },
   {
    "duration": 31,
    "start_time": "2022-10-13T13:12:53.705Z"
   },
   {
    "duration": 16,
    "start_time": "2022-10-13T13:12:53.738Z"
   },
   {
    "duration": 8,
    "start_time": "2022-10-13T13:12:53.755Z"
   },
   {
    "duration": 14,
    "start_time": "2022-10-13T13:12:53.765Z"
   },
   {
    "duration": 417,
    "start_time": "2022-10-13T13:12:53.781Z"
   },
   {
    "duration": 51329,
    "start_time": "2022-10-13T13:12:54.200Z"
   },
   {
    "duration": 1966,
    "start_time": "2022-10-13T13:13:45.530Z"
   },
   {
    "duration": 371,
    "start_time": "2022-10-13T13:14:11.146Z"
   },
   {
    "duration": 50045,
    "start_time": "2022-10-13T13:14:12.809Z"
   },
   {
    "duration": 2932,
    "start_time": "2022-10-13T13:15:02.856Z"
   },
   {
    "duration": 3330,
    "start_time": "2022-10-13T13:15:29.758Z"
   },
   {
    "duration": 1138,
    "start_time": "2022-10-13T13:15:55.068Z"
   },
   {
    "duration": 30,
    "start_time": "2022-10-13T13:15:56.208Z"
   },
   {
    "duration": 18,
    "start_time": "2022-10-13T13:15:56.240Z"
   },
   {
    "duration": 8,
    "start_time": "2022-10-13T13:15:56.260Z"
   },
   {
    "duration": 11,
    "start_time": "2022-10-13T13:15:56.269Z"
   },
   {
    "duration": 422,
    "start_time": "2022-10-13T13:15:56.282Z"
   },
   {
    "duration": 48765,
    "start_time": "2022-10-13T13:15:56.706Z"
   },
   {
    "duration": 4814,
    "start_time": "2022-10-13T13:16:45.474Z"
   },
   {
    "duration": 1124,
    "start_time": "2022-10-13T13:17:31.949Z"
   },
   {
    "duration": 34,
    "start_time": "2022-10-13T13:17:33.075Z"
   },
   {
    "duration": 16,
    "start_time": "2022-10-13T13:17:33.111Z"
   },
   {
    "duration": 15,
    "start_time": "2022-10-13T13:17:33.129Z"
   },
   {
    "duration": 13,
    "start_time": "2022-10-13T13:17:33.146Z"
   },
   {
    "duration": 392,
    "start_time": "2022-10-13T13:17:33.161Z"
   },
   {
    "duration": 49015,
    "start_time": "2022-10-13T13:17:33.555Z"
   },
   {
    "duration": 2020,
    "start_time": "2022-10-13T13:18:22.571Z"
   },
   {
    "duration": 117,
    "start_time": "2022-10-13T13:23:42.957Z"
   },
   {
    "duration": 101,
    "start_time": "2022-10-13T13:28:36.260Z"
   },
   {
    "duration": 1166,
    "start_time": "2022-10-13T13:28:47.878Z"
   },
   {
    "duration": 32,
    "start_time": "2022-10-13T13:28:49.046Z"
   },
   {
    "duration": 22,
    "start_time": "2022-10-13T13:28:49.079Z"
   },
   {
    "duration": 27,
    "start_time": "2022-10-13T13:28:49.103Z"
   },
   {
    "duration": 5,
    "start_time": "2022-10-13T13:28:49.132Z"
   },
   {
    "duration": 385,
    "start_time": "2022-10-13T13:28:49.138Z"
   },
   {
    "duration": 50684,
    "start_time": "2022-10-13T13:28:49.525Z"
   },
   {
    "duration": 6977,
    "start_time": "2022-10-13T13:29:40.212Z"
   },
   {
    "duration": 108,
    "start_time": "2022-10-13T13:29:47.194Z"
   },
   {
    "duration": 126,
    "start_time": "2022-10-13T13:34:25.270Z"
   },
   {
    "duration": 26,
    "start_time": "2022-10-13T13:35:17.213Z"
   },
   {
    "duration": 17,
    "start_time": "2022-10-13T13:37:25.332Z"
   },
   {
    "duration": 20,
    "start_time": "2022-10-13T13:37:29.911Z"
   },
   {
    "duration": 15,
    "start_time": "2022-10-13T13:38:49.241Z"
   },
   {
    "duration": 23,
    "start_time": "2022-10-13T13:39:26.959Z"
   },
   {
    "duration": 48911,
    "start_time": "2022-10-13T13:50:07.451Z"
   },
   {
    "duration": 76,
    "start_time": "2022-10-13T14:44:54.661Z"
   },
   {
    "duration": 34,
    "start_time": "2022-10-13T14:55:13.794Z"
   },
   {
    "duration": 6,
    "start_time": "2022-10-13T14:56:07.234Z"
   },
   {
    "duration": 92,
    "start_time": "2022-10-13T14:58:14.860Z"
   },
   {
    "duration": 4,
    "start_time": "2022-10-13T14:58:25.809Z"
   },
   {
    "duration": 13,
    "start_time": "2022-10-13T14:58:52.496Z"
   },
   {
    "duration": 11,
    "start_time": "2022-10-13T14:59:13.318Z"
   },
   {
    "duration": 10,
    "start_time": "2022-10-13T14:59:54.303Z"
   },
   {
    "duration": 12,
    "start_time": "2022-10-13T15:00:20.802Z"
   },
   {
    "duration": 11,
    "start_time": "2022-10-13T15:01:44.483Z"
   },
   {
    "duration": 11,
    "start_time": "2022-10-13T15:02:05.301Z"
   },
   {
    "duration": 8,
    "start_time": "2022-10-13T15:02:16.707Z"
   },
   {
    "duration": 5,
    "start_time": "2022-10-13T15:02:20.282Z"
   },
   {
    "duration": 8,
    "start_time": "2022-10-13T15:02:32.236Z"
   },
   {
    "duration": 8,
    "start_time": "2022-10-13T15:03:13.085Z"
   },
   {
    "duration": 5,
    "start_time": "2022-10-13T15:03:17.724Z"
   },
   {
    "duration": 12,
    "start_time": "2022-10-13T15:03:29.632Z"
   },
   {
    "duration": 9,
    "start_time": "2022-10-13T15:05:20.107Z"
   },
   {
    "duration": 16,
    "start_time": "2022-10-13T15:05:40.485Z"
   },
   {
    "duration": 5,
    "start_time": "2022-10-13T15:05:46.636Z"
   },
   {
    "duration": 13,
    "start_time": "2022-10-13T15:05:55.291Z"
   },
   {
    "duration": 6,
    "start_time": "2022-10-13T15:06:02.355Z"
   },
   {
    "duration": 13,
    "start_time": "2022-10-13T15:06:17.051Z"
   },
   {
    "duration": 6,
    "start_time": "2022-10-13T15:06:29.436Z"
   },
   {
    "duration": 5,
    "start_time": "2022-10-13T15:06:35.393Z"
   },
   {
    "duration": 4,
    "start_time": "2022-10-13T15:06:58.795Z"
   },
   {
    "duration": 5,
    "start_time": "2022-10-13T15:07:08.596Z"
   },
   {
    "duration": 5,
    "start_time": "2022-10-13T15:07:15.619Z"
   },
   {
    "duration": 1512,
    "start_time": "2022-10-13T17:48:40.228Z"
   },
   {
    "duration": 39,
    "start_time": "2022-10-13T17:48:41.742Z"
   },
   {
    "duration": 17,
    "start_time": "2022-10-13T17:48:41.783Z"
   },
   {
    "duration": 6,
    "start_time": "2022-10-13T17:48:41.802Z"
   },
   {
    "duration": 14,
    "start_time": "2022-10-13T17:48:41.809Z"
   },
   {
    "duration": 2,
    "start_time": "2022-10-13T17:48:41.825Z"
   },
   {
    "duration": 314,
    "start_time": "2022-10-13T17:48:41.829Z"
   },
   {
    "duration": 42898,
    "start_time": "2022-10-13T17:48:42.145Z"
   },
   {
    "duration": 98,
    "start_time": "2022-10-13T17:49:25.045Z"
   },
   {
    "duration": 21,
    "start_time": "2022-10-13T17:49:25.146Z"
   },
   {
    "duration": 13,
    "start_time": "2022-10-13T17:49:25.169Z"
   },
   {
    "duration": 15,
    "start_time": "2022-10-13T17:49:25.183Z"
   }
  ],
  "kernelspec": {
   "display_name": "Python 3 (ipykernel)",
   "language": "python",
   "name": "python3"
  },
  "language_info": {
   "codemirror_mode": {
    "name": "ipython",
    "version": 3
   },
   "file_extension": ".py",
   "mimetype": "text/x-python",
   "name": "python",
   "nbconvert_exporter": "python",
   "pygments_lexer": "ipython3",
   "version": "3.9.15"
  },
  "toc": {
   "base_numbering": 1,
   "nav_menu": {},
   "number_sections": true,
   "sideBar": true,
   "skip_h1_title": true,
   "title_cell": "Table of Contents",
   "title_sidebar": "Contents",
   "toc_cell": false,
   "toc_position": {},
   "toc_section_display": true,
   "toc_window_display": false
  }
 },
 "nbformat": 4,
 "nbformat_minor": 2
}
